{
  "cells": [
    {
      "cell_type": "markdown",
      "metadata": {
        "id": "10JOQBXi3UmE"
      },
      "source": [
        "# ZUM: Projekt 1 - Kalkulator głosowy\n",
        "Studenci: Gabriela Szczesna [s17158], Juliusz Stańczyk [s24206]"
      ]
    },
    {
      "cell_type": "markdown",
      "metadata": {
        "id": "knG6ydSY4EX0"
      },
      "source": [
        "## 1. Pobranie próbek dźwięku"
      ]
    },
    {
      "cell_type": "code",
      "execution_count": null,
      "metadata": {
        "colab": {
          "base_uri": "https://localhost:8080/"
        },
        "id": "vyiHlsAZRD-y",
        "outputId": "5be623e1-7234-4d24-cc6c-90d2dcbb93a7"
      },
      "outputs": [
        {
          "output_type": "stream",
          "name": "stdout",
          "text": [
            "--2022-11-02 14:14:35--  http://users.pja.edu.pl/~s17158/nagrania/nagrania.tar.gz\n",
            "Resolving users.pja.edu.pl (users.pja.edu.pl)... 91.230.222.21, 2001:67c:23f4::ab00\n",
            "Connecting to users.pja.edu.pl (users.pja.edu.pl)|91.230.222.21|:80... connected.\n",
            "HTTP request sent, awaiting response... 200 OK\n",
            "Length: 9650376 (9.2M) [application/x-gzip]\n",
            "Saving to: ‘nagrania.tar.gz’\n",
            "\n",
            "nagrania.tar.gz     100%[===================>]   9.20M  2.59MB/s    in 3.6s    \n",
            "\n",
            "2022-11-02 14:14:39 (2.59 MB/s) - ‘nagrania.tar.gz’ saved [9650376/9650376]\n",
            "\n",
            "._nagrania\n",
            "tar: Ignoring unknown extended header keyword 'LIBARCHIVE.xattr.com.apple.quarantine'\n",
            "nagrania/\n",
            "nagrania/Juliusz_part1.wav\n",
            "nagrania/Juliusz_part2.wav\n",
            "nagrania/Juliusz_part3.wav\n",
            "nagrania/Juliusz_part7.wav\n",
            "nagrania/._.DS_Store\n",
            "tar: Ignoring unknown extended header keyword 'LIBARCHIVE.xattr.com.apple.FinderInfo'\n",
            "nagrania/.DS_Store\n",
            "nagrania/Juliusz_part6.wav\n",
            "nagrania/Juliusz_part4.wav\n",
            "nagrania/Juliusz_part5.wav\n",
            "nagrania/._text.txt\n",
            "tar: Ignoring unknown extended header keyword 'LIBARCHIVE.xattr.com.apple.metadata:kMDLabel_3fuul6skehxds7dd5vfsy3vlb4'\n",
            "tar: Ignoring unknown extended header keyword 'LIBARCHIVE.xattr.com.apple.macl'\n",
            "tar: Ignoring unknown extended header keyword 'LIBARCHIVE.xattr.com.apple.lastuseddate#PS'\n",
            "tar: Ignoring unknown extended header keyword 'LIBARCHIVE.xattr.com.apple.TextEncoding'\n",
            "tar: Ignoring unknown extended header keyword 'LIBARCHIVE.xattr.com.apple.FinderInfo'\n",
            "nagrania/text.txt\n",
            "nagrania/Juliusz_part8.wav\n",
            "nagrania/Juliusz_part9.wav\n",
            "nagrania/Juliusz_part10.wav\n"
          ]
        }
      ],
      "source": [
        "!wget http://users.pja.edu.pl/~s17158/nagrania/nagrania.tar.gz\n",
        "!tar xvf nagrania.tar.gz"
      ]
    },
    {
      "cell_type": "markdown",
      "metadata": {
        "id": "0iGTfEKb4OFr"
      },
      "source": [
        "## 2. Pobranie bibliotek"
      ]
    },
    {
      "cell_type": "code",
      "execution_count": null,
      "metadata": {
        "colab": {
          "base_uri": "https://localhost:8080/"
        },
        "id": "91IFeGx0FE0U",
        "outputId": "f31fef95-1887-42cb-fa53-498494f3b77c"
      },
      "outputs": [
        {
          "output_type": "stream",
          "name": "stdout",
          "text": [
            "Looking in indexes: https://pypi.org/simple, https://us-python.pkg.dev/colab-wheels/public/simple/\n",
            "Collecting https://github.com/huggingface/transformers/archive/refs/heads/master.zip\n",
            "  Downloading https://github.com/huggingface/transformers/archive/refs/heads/master.zip\n",
            "\u001b[K     / 13.6 MB 5.4 MB/s\n",
            "\u001b[?25h  Installing build dependencies ... \u001b[?25l\u001b[?25hdone\n",
            "  Getting requirements to build wheel ... \u001b[?25l\u001b[?25hdone\n",
            "    Preparing wheel metadata ... \u001b[?25l\u001b[?25hdone\n",
            "Collecting tokenizers!=0.11.3,<0.14,>=0.11.1\n",
            "  Downloading tokenizers-0.13.1-cp37-cp37m-manylinux_2_17_x86_64.manylinux2014_x86_64.whl (7.6 MB)\n",
            "\u001b[K     |████████████████████████████████| 7.6 MB 34.4 MB/s \n",
            "\u001b[?25hRequirement already satisfied: regex!=2019.12.17 in /usr/local/lib/python3.7/dist-packages (from transformers==4.24.0.dev0) (2022.6.2)\n",
            "Requirement already satisfied: requests in /usr/local/lib/python3.7/dist-packages (from transformers==4.24.0.dev0) (2.23.0)\n",
            "Requirement already satisfied: filelock in /usr/local/lib/python3.7/dist-packages (from transformers==4.24.0.dev0) (3.8.0)\n",
            "Requirement already satisfied: pyyaml>=5.1 in /usr/local/lib/python3.7/dist-packages (from transformers==4.24.0.dev0) (6.0)\n",
            "Requirement already satisfied: numpy>=1.17 in /usr/local/lib/python3.7/dist-packages (from transformers==4.24.0.dev0) (1.21.6)\n",
            "Collecting huggingface-hub<1.0,>=0.10.0\n",
            "  Downloading huggingface_hub-0.10.1-py3-none-any.whl (163 kB)\n",
            "\u001b[K     |████████████████████████████████| 163 kB 69.9 MB/s \n",
            "\u001b[?25hRequirement already satisfied: packaging>=20.0 in /usr/local/lib/python3.7/dist-packages (from transformers==4.24.0.dev0) (21.3)\n",
            "Requirement already satisfied: importlib-metadata in /usr/local/lib/python3.7/dist-packages (from transformers==4.24.0.dev0) (4.13.0)\n",
            "Requirement already satisfied: tqdm>=4.27 in /usr/local/lib/python3.7/dist-packages (from transformers==4.24.0.dev0) (4.64.1)\n",
            "Requirement already satisfied: typing-extensions>=3.7.4.3 in /usr/local/lib/python3.7/dist-packages (from huggingface-hub<1.0,>=0.10.0->transformers==4.24.0.dev0) (4.1.1)\n",
            "Requirement already satisfied: pyparsing!=3.0.5,>=2.0.2 in /usr/local/lib/python3.7/dist-packages (from packaging>=20.0->transformers==4.24.0.dev0) (3.0.9)\n",
            "Requirement already satisfied: zipp>=0.5 in /usr/local/lib/python3.7/dist-packages (from importlib-metadata->transformers==4.24.0.dev0) (3.9.0)\n",
            "Requirement already satisfied: urllib3!=1.25.0,!=1.25.1,<1.26,>=1.21.1 in /usr/local/lib/python3.7/dist-packages (from requests->transformers==4.24.0.dev0) (1.24.3)\n",
            "Requirement already satisfied: certifi>=2017.4.17 in /usr/local/lib/python3.7/dist-packages (from requests->transformers==4.24.0.dev0) (2022.9.24)\n",
            "Requirement already satisfied: chardet<4,>=3.0.2 in /usr/local/lib/python3.7/dist-packages (from requests->transformers==4.24.0.dev0) (3.0.4)\n",
            "Requirement already satisfied: idna<3,>=2.5 in /usr/local/lib/python3.7/dist-packages (from requests->transformers==4.24.0.dev0) (2.10)\n",
            "Building wheels for collected packages: transformers\n",
            "  Building wheel for transformers (PEP 517) ... \u001b[?25l\u001b[?25hdone\n",
            "  Created wheel for transformers: filename=transformers-4.24.0.dev0-py3-none-any.whl size=5429263 sha256=89b3168410c3b27a6f362ffb99c366408008d73b77d4f06b2254af452eff7395\n",
            "  Stored in directory: /tmp/pip-ephem-wheel-cache-qrfjoi76/wheels/92/7e/03/a16a3d5eb8a53365edd738b739018eb170666f47b01a1776ad\n",
            "Successfully built transformers\n",
            "Installing collected packages: tokenizers, huggingface-hub, transformers\n",
            "Successfully installed huggingface-hub-0.10.1 tokenizers-0.13.1 transformers-4.24.0.dev0\n",
            "Looking in indexes: https://pypi.org/simple, https://us-python.pkg.dev/colab-wheels/public/simple/\n",
            "Collecting https://github.com/kensho-technologies/pyctcdecode/archive/refs/heads/main.zip\n",
            "  Downloading https://github.com/kensho-technologies/pyctcdecode/archive/refs/heads/main.zip\n",
            "\u001b[K     \\ 217 kB 170 kB/s\n",
            "\u001b[?25h  Installing build dependencies ... \u001b[?25l\u001b[?25hdone\n",
            "  Getting requirements to build wheel ... \u001b[?25l\u001b[?25hdone\n",
            "    Preparing wheel metadata ... \u001b[?25l\u001b[?25hdone\n",
            "Collecting pygtrie<3.0,>=2.1\n",
            "  Downloading pygtrie-2.5.0-py3-none-any.whl (25 kB)\n",
            "Requirement already satisfied: numpy<2.0.0,>=1.15.0 in /usr/local/lib/python3.7/dist-packages (from pyctcdecode==0.4.0) (1.21.6)\n",
            "Collecting hypothesis<7,>=6.14\n",
            "  Downloading hypothesis-6.56.4-py3-none-any.whl (395 kB)\n",
            "\u001b[K     |████████████████████████████████| 395 kB 56.5 MB/s \n",
            "\u001b[?25hCollecting exceptiongroup>=1.0.0\n",
            "  Downloading exceptiongroup-1.0.0-py3-none-any.whl (12 kB)\n",
            "Requirement already satisfied: sortedcontainers<3.0.0,>=2.1.0 in /usr/local/lib/python3.7/dist-packages (from hypothesis<7,>=6.14->pyctcdecode==0.4.0) (2.4.0)\n",
            "Requirement already satisfied: attrs>=19.2.0 in /usr/local/lib/python3.7/dist-packages (from hypothesis<7,>=6.14->pyctcdecode==0.4.0) (22.1.0)\n",
            "Building wheels for collected packages: pyctcdecode\n",
            "  Building wheel for pyctcdecode (PEP 517) ... \u001b[?25l\u001b[?25hdone\n",
            "  Created wheel for pyctcdecode: filename=pyctcdecode-0.4.0-py2.py3-none-any.whl size=45083 sha256=3050247878f4c53925e555f6eda4b4518f6b96800560245bbbbb178d1b563ee9\n",
            "  Stored in directory: /tmp/pip-ephem-wheel-cache-ywb0z_es/wheels/8d/ce/51/93ab122509c7e09192e6e1281cb54dfc4f47fcc88afca248e6\n",
            "Successfully built pyctcdecode\n",
            "Installing collected packages: exceptiongroup, pygtrie, hypothesis, pyctcdecode\n",
            "Successfully installed exceptiongroup-1.0.0 hypothesis-6.56.4 pyctcdecode-0.4.0 pygtrie-2.5.0\n",
            "Looking in indexes: https://pypi.org/simple, https://us-python.pkg.dev/colab-wheels/public/simple/\n",
            "Collecting https://github.com/kpu/kenlm/archive/master.zip\n",
            "  Downloading https://github.com/kpu/kenlm/archive/master.zip\n",
            "\u001b[K     - 550 kB 430 kB/s\n",
            "\u001b[?25hBuilding wheels for collected packages: kenlm\n",
            "  Building wheel for kenlm (setup.py) ... \u001b[?25l\u001b[?25hdone\n",
            "  Created wheel for kenlm: filename=kenlm-0.0.0-cp37-cp37m-linux_x86_64.whl size=2371277 sha256=90c04c952828c44dd19ce3a625aef719d86fa35f31be748a1f2471b3eeb115d7\n",
            "  Stored in directory: /tmp/pip-ephem-wheel-cache-pj936xvc/wheels/3d/aa/02/7b4a2eab5d7a2a9391bd9680dbad6270808a147bc3b7047e4e\n",
            "Successfully built kenlm\n",
            "Installing collected packages: kenlm\n",
            "Successfully installed kenlm-0.0.0\n",
            "Looking in indexes: https://pypi.org/simple, https://us-python.pkg.dev/colab-wheels/public/simple/\n",
            "Collecting wavio\n",
            "  Downloading wavio-0.0.4-py2.py3-none-any.whl (9.0 kB)\n",
            "Requirement already satisfied: numpy>=1.6.0 in /usr/local/lib/python3.7/dist-packages (from wavio) (1.21.6)\n",
            "Installing collected packages: wavio\n",
            "Successfully installed wavio-0.0.4\n",
            "Looking in indexes: https://pypi.org/simple, https://us-python.pkg.dev/colab-wheels/public/simple/\n",
            "Collecting jiwer\n",
            "  Downloading jiwer-2.5.1-py3-none-any.whl (15 kB)\n",
            "Collecting levenshtein==0.20.2\n",
            "  Downloading Levenshtein-0.20.2-cp37-cp37m-manylinux_2_17_x86_64.manylinux2014_x86_64.whl (1.4 MB)\n",
            "\u001b[K     |████████████████████████████████| 1.4 MB 43.4 MB/s \n",
            "\u001b[?25hCollecting rapidfuzz<3.0.0,>=2.3.0\n",
            "  Downloading rapidfuzz-2.13.0-cp37-cp37m-manylinux_2_17_x86_64.manylinux2014_x86_64.whl (2.2 MB)\n",
            "\u001b[K     |████████████████████████████████| 2.2 MB 71.8 MB/s \n",
            "\u001b[?25hInstalling collected packages: rapidfuzz, levenshtein, jiwer\n",
            "Successfully installed jiwer-2.5.1 levenshtein-0.20.2 rapidfuzz-2.13.0\n",
            "Looking in indexes: https://pypi.org/simple, https://us-python.pkg.dev/colab-wheels/public/simple/\n",
            "Collecting arpa\n",
            "  Downloading arpa-0.1.0b4-py3-none-any.whl (9.6 kB)\n",
            "Installing collected packages: arpa\n",
            "Successfully installed arpa-0.1.0b4\n"
          ]
        }
      ],
      "source": [
        "!pip install https://github.com/huggingface/transformers/archive/refs/heads/master.zip\n",
        "!pip install https://github.com/kensho-technologies/pyctcdecode/archive/refs/heads/main.zip\n",
        "!pip install https://github.com/kpu/kenlm/archive/master.zip\n",
        "!pip install wavio\n",
        "!pip install jiwer\n",
        "!pip install arpa"
      ]
    },
    {
      "cell_type": "code",
      "execution_count": null,
      "metadata": {
        "colab": {
          "base_uri": "https://localhost:8080/"
        },
        "id": "eHeJgJOJfZmv",
        "outputId": "62245566-3bae-4030-d1fe-4882b2671716"
      },
      "outputs": [
        {
          "output_type": "stream",
          "name": "stdout",
          "text": [
            "--2022-10-30 23:03:40--  http://users.pja.edu.pl/~danijel/zum/srilm-bin.tar.xz\n",
            "Resolving users.pja.edu.pl (users.pja.edu.pl)... 91.230.222.21, 2001:67c:23f4::ab00\n",
            "Connecting to users.pja.edu.pl (users.pja.edu.pl)|91.230.222.21|:80... connected.\n",
            "HTTP request sent, awaiting response... 200 OK\n",
            "Length: 37056672 (35M) [application/x-xz]\n",
            "Saving to: ‘srilm-bin.tar.xz’\n",
            "\n",
            "srilm-bin.tar.xz    100%[===================>]  35.34M  7.68MB/s    in 8.2s    \n",
            "\n",
            "2022-10-30 23:03:49 (4.32 MB/s) - ‘srilm-bin.tar.xz’ saved [37056672/37056672]\n",
            "\n",
            "bin/\n",
            "bin/merge-batch-counts\n",
            "bin/make-batch-counts\n",
            "bin/compute-sclite-nbest\n",
            "bin/pfsg-from-ngram\n",
            "bin/rescore-acoustic\n",
            "bin/nbest-error\n",
            "bin/search-rover-combo\n",
            "bin/rexport.gnumake\n",
            "bin/make-multiword-pfsg\n",
            "bin/rescore-minimize-wer\n",
            "bin/rescore-reweight\n",
            "bin/i686-m64/\n",
            "bin/i686-m64/sentid-to-sclite\n",
            "bin/i686-m64/reverse-lm\n",
            "bin/i686-m64/select-vocab\n",
            "bin/i686-m64/subset-context-ngrams\n",
            "bin/i686-m64/maxalloc\n",
            "bin/i686-m64/make-kn-counts\n",
            "bin/i686-m64/wlat-to-pfsg\n",
            "bin/i686-m64/wlat-stats\n",
            "bin/i686-m64/pfsg-vocab\n",
            "bin/i686-m64/rover-control-tying\n",
            "bin/i686-m64/htklat-vocab\n",
            "bin/i686-m64/remove-lowprob-ngrams\n",
            "bin/i686-m64/nbest-words\n",
            "bin/i686-m64/make-kn-discounts\n",
            "bin/i686-m64/get-unigram-probs\n",
            "bin/i686-m64/compute-oov-rate\n",
            "bin/i686-m64/segment\n",
            "bin/i686-m64/fngram\n",
            "bin/i686-m64/compute-best-mix\n",
            "bin/i686-m64/make-google-ngrams\n",
            "bin/i686-m64/wlat-to-dot\n",
            "bin/i686-m64/rover-control-weights\n",
            "bin/i686-m64/make-nbest-pfsg\n",
            "bin/i686-m64/merge-nbest\n",
            "bin/i686-m64/concat-sausages\n",
            "bin/i686-m64/add-ppls\n",
            "bin/i686-m64/sort-lm\n",
            "bin/i686-m64/add-classes-to-pfsg\n",
            "bin/i686-m64/subtract-ppls\n",
            "bin/i686-m64/compute-best-sentence-mix\n",
            "bin/i686-m64/make-hiddens-lm\n",
            "bin/i686-m64/metadb\n",
            "bin/i686-m64/ppl-from-log\n",
            "bin/i686-m64/add-pauses-to-pfsg\n",
            "bin/i686-m64/nbest-lattice\n",
            "bin/i686-m64/fngram-count\n",
            "bin/i686-m64/bytelog-to-log10\n",
            "bin/i686-m64/split-tagged-ngrams\n",
            "bin/i686-m64/nbest-vocab\n",
            "bin/i686-m64/ngram-count\n",
            "bin/i686-m64/segment-nbest\n",
            "bin/i686-m64/ngram\n",
            "bin/i686-m64/reverse-text\n",
            "bin/i686-m64/uniq-ngram-counts\n",
            "bin/i686-m64/wordlat-to-lisp\n",
            "bin/i686-m64/log10-to-bytelog\n",
            "bin/i686-m64/filter-event-counts\n",
            "bin/i686-m64/reverse-ngram-counts\n",
            "bin/i686-m64/nbest-optimize-args-from-rover-control\n",
            "bin/i686-m64/nbest-optimize\n",
            "bin/i686-m64/hits-from-log\n",
            "bin/i686-m64/combine-rover-controls\n",
            "bin/i686-m64/combine-acoustic-scores\n",
            "bin/i686-m64/pfsg-to-fsm\n",
            "bin/i686-m64/find-reference-posteriors\n",
            "bin/i686-m64/prettify\n",
            "bin/i686-m64/make-abs-discount\n",
            "bin/i686-m64/fsm-to-pfsg\n",
            "bin/i686-m64/nbest-posteriors\n",
            "bin/i686-m64/make-lm-subset\n",
            "bin/i686-m64/nbest-pron-score\n",
            "bin/i686-m64/nbest-oov-counts\n",
            "bin/i686-m64/get-gt-counts\n",
            "bin/i686-m64/make-sub-lm\n",
            "bin/i686-m64/lattice-tool\n",
            "bin/i686-m64/add-dummy-bows\n",
            "bin/i686-m64/continuous-ngram-count\n",
            "bin/i686-m64/sentid-to-ctm\n",
            "bin/i686-m64/compute-best-rover-mix\n",
            "bin/i686-m64/fix-ctm\n",
            "bin/i686-m64/de-vq-lm\n",
            "bin/i686-m64/hidden-ngram\n",
            "bin/i686-m64/compare-ppls\n",
            "bin/i686-m64/nbest-mix\n",
            "bin/i686-m64/vp2text\n",
            "bin/i686-m64/replace-unk-words\n",
            "bin/i686-m64/pfsg-to-dot\n",
            "bin/i686-m64/anti-ngram\n",
            "bin/i686-m64/ngram-class\n",
            "bin/i686-m64/tolower-ngram-counts\n",
            "bin/i686-m64/make-ngram-pfsg\n",
            "bin/i686-m64/uniform-classes\n",
            "bin/i686-m64/nbest-rover-helper\n",
            "bin/i686-m64/nbest2-to-nbest1\n",
            "bin/i686-m64/context-ngrams\n",
            "bin/i686-m64/classes-to-fsm\n",
            "bin/i686-m64/replace-words-with-classes\n",
            "bin/i686-m64/make-diacritic-map\n",
            "bin/i686-m64/make-gt-discounts\n",
            "bin/i686-m64/extract-skip-probs\n",
            "bin/i686-m64/disambig\n",
            "bin/i686-m64/multi-ngram\n",
            "bin/i686-m64/ngram-merge\n",
            "bin/nbest-rover\n",
            "bin/empty-sentence-lm\n",
            "bin/compare-sclite\n",
            "bin/make-big-lm\n",
            "bin/cumbin\n",
            "bin/change-lm-vocab\n",
            "bin/align-with-tags\n",
            "bin/rescore-decipher\n",
            "bin/compute-sclite\n"
          ]
        }
      ],
      "source": [
        "!wget http://users.pja.edu.pl/~danijel/zum/srilm-bin.tar.xz\n",
        "!tar xvf srilm-bin.tar.xz\n",
        "!ln -sf ${PWD}/bin/i686-m64/ngram /usr/local/bin/ngram\n",
        "!ln -sf ${PWD}/bin/i686-m64/ngram-count /usr/local/bin/ngram-count"
      ]
    },
    {
      "cell_type": "code",
      "execution_count": null,
      "metadata": {
        "colab": {
          "base_uri": "https://localhost:8080/"
        },
        "id": "V7qbAokRJuRj",
        "outputId": "c007fc24-3b71-49ef-de0e-6861de7a8fdb"
      },
      "outputs": [
        {
          "output_type": "stream",
          "name": "stdout",
          "text": [
            "Populating the interactive namespace from numpy and matplotlib\n"
          ]
        }
      ],
      "source": [
        "%pylab inline\n",
        "\n",
        "from pathlib import Path\n",
        "from tqdm import tqdm\n",
        "\n",
        "import torch\n",
        "from transformers import Wav2Vec2ForCTC, Wav2Vec2Processor\n",
        "from pyctcdecode import build_ctcdecoder\n",
        "from wavio import read\n",
        "import jiwer\n",
        "import arpa"
      ]
    },
    {
      "cell_type": "markdown",
      "metadata": {
        "id": "x4t48ZPl58hz"
      },
      "source": [
        "## 3. Instalacja modeli\n"
      ]
    },
    {
      "cell_type": "code",
      "execution_count": null,
      "metadata": {
        "id": "Qs9XYR3mI0uf",
        "colab": {
          "base_uri": "https://localhost:8080/",
          "height": 209,
          "referenced_widgets": [
            "9bf1a55d72b54a5cb6b3a6fd8f6b86c5",
            "8a216e27f36a41ad907139f6ea7d7f5b",
            "13780f1896114454ab3a8b7239170436",
            "f976ea7ad8d64c54874e1009767356a6",
            "25aad994e9b74aecbdcb197676a9c8f8",
            "93b31f68921a46e082c75a1662904be1",
            "826ddd148db64a048bbd6c758c3280e0",
            "97341d4fd9df42c3954c134f029bb59a",
            "19582f7acaa6418381fb3496a18d2180",
            "de9ee9f690f5422680c561a25aabfbb9",
            "73a6ecbe4b1840a6a5bd0e563ac34933",
            "582dfdf7272b4d94a0af1511bbd49e12",
            "9008ad65c8c44f11892cddc961f087eb",
            "932390c3c18e4bf68d111a4cb08cc238",
            "4ba9b7cf0546446f88344b1204fbe673",
            "2aa303145bba40fcbf7cf884f680ae95",
            "57740621d75f4bf98f0bb79eefbbb433",
            "b7841c54f5304cccb57d8b3c856c2db7",
            "f1c7354504824934ae691a365c4b6c03",
            "3fd189423122418699e69b9e9210c9c2",
            "e7a8800f7b49406cb2a181d211100d8f",
            "d17b20d0c4fa42278c47d46275e5dd42",
            "8874f17a5f60484e84e4b22e2f170c60",
            "e70e12d528364f509f9ab45047229588",
            "29e398e617244c82b91de246e0d3209e",
            "4209013ea9a24a18a58f4387044966bb",
            "3a2264c73bde408b97129fd0e0e91577",
            "69d115ccc9f34e55a332972e5b5e2a9a",
            "81fdcf77d1ed4f20af5f58cf67be2415",
            "372da07c6add4f658f250a500c968c39",
            "0a79e980164f465aa6e4bf89e6ba4132",
            "ec36ca3348b643bda6f6a1c3dd7e3ec8",
            "515830806b98499fbe578f77506cf7cf",
            "c6145d71599e43cebad6930b70e8ea5d",
            "e111c33467c74e3c81158a4e3d4ff56c",
            "be24fb24d6894dc0b499f3115ac6005e",
            "e39c0af8d0974059931ae7ea93aca4ca",
            "b9caaf5605754a8ab2d1494c06a55816",
            "184c693108e840f18aae3d713c462470",
            "b61d94541d464bb4a49bc2a825a86880",
            "05d181ac346b4e4b94b3c69bacb01472",
            "4351d995928a48d985f1fe5241607666",
            "b10e07b7265c4d6e896794e9c2efae7d",
            "803ee0cb11664d489d49db9868b6a016",
            "abf1bd1464234b0b8d0ce81f888cf1fa",
            "b5cd525be1dd4ac1a50fa857b14b2fd1",
            "37c68c8a89444460a3c004e40acf8b41",
            "0c2bdd4b71684c959fd127707f18b74f",
            "02f4f735a54e4c2ca1dcc843313dee57",
            "b53373399240471d8196f0d123c6ba92",
            "71ca281860674821a572a6a55039e788",
            "161f1bebe8a044209593fa5b68cfe3d1",
            "8c71d0e24f174fa9953d9060fa4b99f8",
            "478dc6ccda2f40558f6ed53586c4f8d0",
            "d172993973454385b4070fe3f04d86c5",
            "f73b576a98db4394a2cee1d727b10e8d",
            "3e1e3a52995d4d1a8fcd4d74b0ea0ef2",
            "5ab235b3655843529deba1e904aaf482",
            "e9e5c565151d4c70af835a87a7642cdf",
            "6b01e73dbc0147d096501a6a16e02a69",
            "6cc36d8fd18243a291967ba87361ae08",
            "146f3ae1b11d4b3187a72f547a61cf45",
            "f8c21b64d5ed4285a4847fef1c3d919c",
            "c9f00401ab014cc29ec556cdb8ef9f7d",
            "7953a67289c544eea7ef0b1a1a826c8c",
            "ec1458fb10b3452fbd208ef2ba221ed6"
          ]
        },
        "outputId": "99313e32-3c8d-4da8-fe34-def6bdaf1269"
      },
      "outputs": [
        {
          "output_type": "display_data",
          "data": {
            "text/plain": [
              "Downloading:   0%|          | 0.00/213 [00:00<?, ?B/s]"
            ],
            "application/vnd.jupyter.widget-view+json": {
              "version_major": 2,
              "version_minor": 0,
              "model_id": "9bf1a55d72b54a5cb6b3a6fd8f6b86c5"
            }
          },
          "metadata": {}
        },
        {
          "output_type": "display_data",
          "data": {
            "text/plain": [
              "Downloading:   0%|          | 0.00/138 [00:00<?, ?B/s]"
            ],
            "application/vnd.jupyter.widget-view+json": {
              "version_major": 2,
              "version_minor": 0,
              "model_id": "582dfdf7272b4d94a0af1511bbd49e12"
            }
          },
          "metadata": {}
        },
        {
          "output_type": "display_data",
          "data": {
            "text/plain": [
              "Downloading:   0%|          | 0.00/1.29k [00:00<?, ?B/s]"
            ],
            "application/vnd.jupyter.widget-view+json": {
              "version_major": 2,
              "version_minor": 0,
              "model_id": "8874f17a5f60484e84e4b22e2f170c60"
            }
          },
          "metadata": {}
        },
        {
          "output_type": "display_data",
          "data": {
            "text/plain": [
              "Downloading:   0%|          | 0.00/381 [00:00<?, ?B/s]"
            ],
            "application/vnd.jupyter.widget-view+json": {
              "version_major": 2,
              "version_minor": 0,
              "model_id": "c6145d71599e43cebad6930b70e8ea5d"
            }
          },
          "metadata": {}
        },
        {
          "output_type": "display_data",
          "data": {
            "text/plain": [
              "Downloading:   0%|          | 0.00/85.0 [00:00<?, ?B/s]"
            ],
            "application/vnd.jupyter.widget-view+json": {
              "version_major": 2,
              "version_minor": 0,
              "model_id": "abf1bd1464234b0b8d0ce81f888cf1fa"
            }
          },
          "metadata": {}
        },
        {
          "output_type": "display_data",
          "data": {
            "text/plain": [
              "Downloading:   0%|          | 0.00/378M [00:00<?, ?B/s]"
            ],
            "application/vnd.jupyter.widget-view+json": {
              "version_major": 2,
              "version_minor": 0,
              "model_id": "f73b576a98db4394a2cee1d727b10e8d"
            }
          },
          "metadata": {}
        }
      ],
      "source": [
        "processor=Wav2Vec2Processor.from_pretrained('facebook/wav2vec2-base-10k-voxpopuli-ft-pl')\n",
        "model=Wav2Vec2ForCTC.from_pretrained('facebook/wav2vec2-base-10k-voxpopuli-ft-pl').to('cuda')"
      ]
    },
    {
      "cell_type": "markdown",
      "metadata": {
        "id": "gqz_Dp-56lxP"
      },
      "source": [
        "## 4. Wczytanie plików audio"
      ]
    },
    {
      "cell_type": "code",
      "execution_count": null,
      "metadata": {
        "id": "iWAYBUwqLpaE"
      },
      "outputs": [],
      "source": [
        "files={}\n",
        "for f in Path('nagrania').glob('*.wav'):\n",
        "  try:\n",
        "    data=read(str(f))\n",
        "    files[f.stem]=data.data.squeeze().astype('float32')\n",
        "  except Exception as e:\n",
        "    print(str(f), e)\n",
        "    pass"
      ]
    },
    {
      "cell_type": "markdown",
      "metadata": {
        "id": "7V7JopRs64Fv"
      },
      "source": [
        "Długości plików audio:"
      ]
    },
    {
      "cell_type": "code",
      "execution_count": null,
      "metadata": {
        "id": "QDNM46qPYj-F",
        "colab": {
          "base_uri": "https://localhost:8080/"
        },
        "outputId": "09a8d594-df06-4989-9f5c-4ff7ddccf1aa"
      },
      "outputs": [
        {
          "output_type": "stream",
          "name": "stdout",
          "text": [
            "Juliusz_part3: 46.65s\n",
            "Juliusz_part5: 44.64s\n",
            "Juliusz_part1: 45.81s\n",
            "Juliusz_part4: 44.64s\n",
            "Juliusz_part2: 44.88s\n",
            "Juliusz_part10: 40.14s\n",
            "Juliusz_part6: 44.64s\n",
            "Juliusz_part9: 39.97s\n",
            "Juliusz_part8: 44.17s\n",
            "Juliusz_part7: 43.34s\n"
          ]
        }
      ],
      "source": [
        "Fs=data.rate\n",
        "for name,d in files.items():\n",
        "  print(f'{name}: {d.size/Fs:0.2f}s')"
      ]
    },
    {
      "cell_type": "markdown",
      "metadata": {
        "id": "4ZdNOntU67Aq"
      },
      "source": [
        "Przykładowa próbka dźwięku"
      ]
    },
    {
      "cell_type": "code",
      "execution_count": null,
      "metadata": {
        "id": "QCylFREEL4Uu",
        "colab": {
          "base_uri": "https://localhost:8080/",
          "height": 337
        },
        "outputId": "2a2d2389-c250-43ce-d537-4534b54ddb38"
      },
      "outputs": [
        {
          "output_type": "execute_result",
          "data": {
            "text/plain": [
              "[<matplotlib.lines.Line2D at 0x7fc055fadd10>]"
            ]
          },
          "metadata": {},
          "execution_count": 8
        },
        {
          "output_type": "display_data",
          "data": {
            "text/plain": [
              "<Figure size 1080x360 with 1 Axes>"
            ],
            "image/png": "[encoded data removed]"
          },
          "metadata": {
            "needs_background": "light"
          }
        }
      ],
      "source": [
        "figure(figsize=(15,5))\n",
        "plot(files['Juliusz_part1'])"
      ]
    },
    {
      "cell_type": "markdown",
      "metadata": {
        "id": "TobATeP56_u6"
      },
      "source": [
        "## 5. Przetwarzanie podstawowym modelem ASR"
      ]
    },
    {
      "cell_type": "code",
      "execution_count": null,
      "metadata": {
        "id": "w4e3zEQ2GOxz",
        "colab": {
          "base_uri": "https://localhost:8080/"
        },
        "outputId": "2fc7f780-3973-4282-e2c0-a01773970db2"
      },
      "outputs": [
        {
          "output_type": "stream",
          "name": "stdout",
          "text": [
            "env: 'PYTORCH_CUDA_ALLOC_CONF=max_split_size_mb:256'\n"
          ]
        }
      ],
      "source": [
        "# %env 'PYTORCH_CUDA_ALLOC_CONF=max_split_size_mb:256'"
      ]
    },
    {
      "cell_type": "code",
      "execution_count": null,
      "metadata": {
        "id": "JRvf6X5DJsPW",
        "colab": {
          "base_uri": "https://localhost:8080/"
        },
        "outputId": "8a9e08dc-05fc-43c8-feb4-055fcd14117b"
      },
      "outputs": [
        {
          "output_type": "stream",
          "name": "stderr",
          "text": [
            "100%|██████████| 10/10 [00:08<00:00,  1.18it/s]\n"
          ]
        }
      ],
      "source": [
        "trans={}\n",
        "for name,data in tqdm(files.items()):\n",
        "  feats=processor(data,sampling_rate=Fs,return_tensors='pt',padding=True).to('cuda')\n",
        "  out=model(input_values=feats.input_values)\n",
        "  predicted_ids=torch.argmax(out.logits,dim=-1)\n",
        "  sent=processor.batch_decode(predicted_ids)[0]\n",
        "  trans[name]=sent"
      ]
    },
    {
      "cell_type": "code",
      "execution_count": null,
      "metadata": {
        "colab": {
          "base_uri": "https://localhost:8080/"
        },
        "id": "reKabW2QZ-oF",
        "outputId": "36460470-7ec0-4041-8ad0-cb08ba27f435"
      },
      "outputs": [
        {
          "output_type": "execute_result",
          "data": {
            "text/plain": [
              "{'Juliusz_part3': 'sześćdziesiąt pięć sześćdziesiąt minus dziewięć dwadzieścia siedemdziesiąt lus siedem dwadzieścia jedem osiem osiemdziesiąt jeden czterdzieści razy trzy czterdzieści sześć osiemdziesiąt osiem tszedzieści razy trzy dwadzieścia osiem lus dwadzieścia trzy sześdziesiąt trzy siedemdziesiąt lus sześć dziewięćdziesiąt cztery osiemdziesiąt pięćdziesiąt sześć mius dwadzieścia dziesięć',\n",
              " 'Juliusz_part5': 'siedemdziesiąt dwa minus sześćdziesiąt osiem lus trzydzieści siedem dziewięćdziesiąt cztery lu siedemdziesiąt cztery siedemnaście siedemdziesiąt razy osiem dziewięć minus siedemdziesiąt siedem osiemnaście razy czterdzieści dziewięć czterdzieści tzy trzydzieści dwa jedem czterdzieści pięć zternaście dziewięćdzisiąt osiem szesnaście trzydzieści osiemdziesiąt jeden minus',\n",
              " 'Juliusz_part1': 'osiemdziesiąt trzy piednaście sześćdziesiąt ls sześć sześćdziesiąt trzy minus osiemdziesiąt osiem osiemnaście trzy osiemdziesiąt siedem lus czterdzieści osiem siedemdziesiąt cztery osiemdziesiąt jedem dziewięćdziesiąt siedem pięćdziesiąt cztery czterdzieści razy jedem pięćdziesiąt dwa dziewięćdziesiąt pięć dwadzieścia cztery minus pięćdziesiąt siedem jedem czterdzieści sześć razy',\n",
              " 'Juliusz_part4': 'pięć lus pięćdziesiąt cztery dwadzieścia dwa pięćdziesiąt sześć pięćdziesiąt trzy jeden minus trzydzieści trzy jedenaście siedemnaście czterdzieści lus siedemt pięćdziesiąt osiet szesnaście siedemdziesiąt dwa trzynaście osiemdziesiąt raz trzydzieści pięć raz dziewięćdziesiąt trzy dziewięćdziesiąt minus siedemt sześćdziesiąt czterdzieści cztery razy',\n",
              " 'Juliusz_part2': 'sześćdziesiąt dziewięć trzydzieści dwa dwadzieścią trzy pięćdziesiąt sześć razy siedemdziesiąt dwa czterdzieści razy siedemdziesiąt lus siedem osiemdziesiąt pięć cztery pięćdziesiąt dwa minus czterdzieści siedem osiem osiemdziesiąt trzy dziewięćdziesiąt minus siedem trzydzieści siedem siedemdziesiąt osiem czterdzieści lus osiem osiemdziesiąt trzydzieści pięć siedemnaście',\n",
              " 'Juliusz_part10': 'dziesięć minus siedemdziesiąt cztery osiemdziesiąt dwa pięćdziesiąt trzy dziewięćdziesiąt pl osiem dwadzieścia osiem sześćdziesiąt sześdziesiąt osiemt minus dwadzieścia cztery razy czterdzieści dziewiętnaście osiemdziesiąt siedemdziesiąt dwa cztery pięćdziesiąt razy cztery siedemdziesiąt trzy dziewięć dziewięćdziesiąt plus sześć trzynaście trzydzieści',\n",
              " 'Juliusz_part6': 'minus pięćdziesiąt dziewięć pięćdziesiąt sześć osiemdziesiąt razy osiem czterdzieści jedn jeden tszy czterdzieści dwa dziewięćdziesiąt pięć sześdziesiąt minus sześć osiemdziesiąt siedem siedemdziesiąt s dwadzieścia dziewięć dwadzieścia jeden zer dwardzieścia sieden czterdzieści  dziewięć trzedzieści trzy sześdziesiąt razy jeden osiemdziesiąt trzy trzydzieści pięć',\n",
              " 'Juliusz_part9': 'trzydzieści jedem osiem osiemdziesiąt sześć sześćdziesiąt trzy pięćdziesiąt siedem lus cztery sześćdziesiąt dziewięć dziewiętnaście lus czternaście razy dwadzieścia trzy szydzieści dwa osiemdziesiąt jeden pięćdziesiąt minus razy dziewiętnaście trzy osiemdziesiąt dwa sześć siedemdziesiąt razy osiem dwanaście dziewięćdziesiąt dwa minus',\n",
              " 'Juliusz_part8': 'wzero trzydzieści cztery razy dwa osiemdziesiąt sieden minus pięćdzisiąt jeden pietnaście dziewięćdzisiąt czter minus czterdzieści dziewięć razy szedzieści plus pięć dziewiętnaście siedemdziesiąt jeden siedemdziesiąt trzy osiemdziesiąt sześć sześćdziesiąt siedem razy dziewięćdziesiąt dziewięć lus sześdziesiąt dwa sześćdziesiąt osiem tszydzieści jeden czterdzieści sześć',\n",
              " 'Juliusz_part7': 'dziewięćdzisiąt dziewięć trzydzieści siedem ls dziewięćdzisiąt siedem szynaście dwa razy osiemdziesiąt razy cztery pięćdziesiąt trzy osiem trzydzieści minus pięć trzydzieści minus osiem sześćdziesiąt dziewięćdzisiąt pięć sześć osiemdziesiąt pięć dwadzieśsiąt jedem piętnaście czterdzieści osiem siedemdziesiąt sześć siedemdzisiąt dwa dziewięćdzisiąt minus'}"
            ]
          },
          "metadata": {},
          "execution_count": 10
        }
      ],
      "source": [
        "trans"
      ]
    },
    {
      "cell_type": "markdown",
      "metadata": {
        "id": "rFm4cRQo8Kcd"
      },
      "source": [
        "## 6. Weryfikacja jakości"
      ]
    },
    {
      "cell_type": "code",
      "execution_count": null,
      "metadata": {
        "id": "-JoT7HyfQXGr"
      },
      "outputs": [],
      "source": [
        "ref={}\n",
        "with open('nagrania/text.txt') as f:\n",
        "  for l in f:\n",
        "    tok=l.strip().split()\n",
        "    ref[tok[0]]=' '.join(tok[1:])"
      ]
    },
    {
      "cell_type": "code",
      "execution_count": null,
      "metadata": {
        "colab": {
          "base_uri": "https://localhost:8080/"
        },
        "id": "Kxi-xL_hXt1T",
        "outputId": "b6e71f4c-8d01-4472-d36b-18ca7e353450"
      },
      "outputs": [
        {
          "output_type": "stream",
          "name": "stdout",
          "text": [
            ">>Juliusz_part3\n",
            "sześćdziesiąt pięć sześćdziesiąt minus dziewięć dwadzieścia siedemdziesiąt lus siedem dwadzieścia jedem osiem osiemdziesiąt jeden czterdzieści razy trzy czterdzieści sześć osiemdziesiąt osiem tszedzieści razy trzy dwadzieścia osiem lus dwadzieścia trzy sześdziesiąt trzy siedemdziesiąt lus sześć dziewięćdziesiąt cztery osiemdziesiąt pięćdziesiąt sześć mius dwadzieścia dziesięć\n",
            "sześćdziesiąt pięć sześćdziesiąt minus dziewięć dwanaście siedemdziesiąt plus siedem dwadzieścia jeden osiem osiemdziesiąt jeden czterdzieści razy trzy czterdzieści sześć osiemdziesiąt osiem trzydzieści razy trzy dwadzieścia osiem plus dwadzieścia trzy sześćdziesiąt trzy siedemdziesiąt plus sześć dziewięćdziesiąt cztery osiemdziesiąt pięćdziesiąt sześć minus dwadzieścia dziesięć\n",
            "\n",
            ">>Juliusz_part5\n",
            "siedemdziesiąt dwa minus sześćdziesiąt osiem lus trzydzieści siedem dziewięćdziesiąt cztery lu siedemdziesiąt cztery siedemnaście siedemdziesiąt razy osiem dziewięć minus siedemdziesiąt siedem osiemnaście razy czterdzieści dziewięć czterdzieści tzy trzydzieści dwa jedem czterdzieści pięć zternaście dziewięćdzisiąt osiem szesnaście trzydzieści osiemdziesiąt jeden minus\n",
            "siedemdziesiąt dwa minus sześćdziesiąt osiem plus trzydzieści siedem dziewięćdziesiąt cztery plus siedemdziesiąt cztery siedemnaście siedemdziesiąt razy osiem dziewięć minus siedemdziesiąt siedem osiemnaście razy czterdzieści dziewięć czterdzieści trzy trzydzieści dwa jeden czterdzieści pięć czternaście dziewięćdziesiąt osiem szesnaście trzydzieści osiemdziesiąt jeden minus\n",
            "\n",
            ">>Juliusz_part1\n",
            "osiemdziesiąt trzy piednaście sześćdziesiąt ls sześć sześćdziesiąt trzy minus osiemdziesiąt osiem osiemnaście trzy osiemdziesiąt siedem lus czterdzieści osiem siedemdziesiąt cztery osiemdziesiąt jedem dziewięćdziesiąt siedem pięćdziesiąt cztery czterdzieści razy jedem pięćdziesiąt dwa dziewięćdziesiąt pięć dwadzieścia cztery minus pięćdziesiąt siedem jedem czterdzieści sześć razy\n",
            "osiemdziesiąt trzy piętnaście sześćdziesiąt plus sześć sześćdziesiąt trzy minus osiemdziesiąt osiem osiemnaście trzy osiemdziesiąt siedem plus czterdzieści osiem siedemdziesiąt cztery osiemdziesiąt jeden dziewięćdziesiąt siedem pięćdziesiąt cztery czterdzieści razy jeden pięćdziesiąt dwa dziewięćdziesiąt pięć dwadzieścia cztery minus pięćdziesiąt siedem jeden czterdzieści sześć razy\n",
            "\n",
            ">>Juliusz_part4\n",
            "pięć lus pięćdziesiąt cztery dwadzieścia dwa pięćdziesiąt sześć pięćdziesiąt trzy jeden minus trzydzieści trzy jedenaście siedemnaście czterdzieści lus siedemt pięćdziesiąt osiet szesnaście siedemdziesiąt dwa trzynaście osiemdziesiąt raz trzydzieści pięć raz dziewięćdziesiąt trzy dziewięćdziesiąt minus siedemt sześćdziesiąt czterdzieści cztery razy\n",
            "pięć plus pięćdziesiąt cztery dwadzieścia dwa pięćdziesiąt sześć pięćdziesiąt trzy jeden minus trzydzieści trzy jedenaście siedemnaście czterdzieści plus siedem pięćdziesiąt osiem szesnaście sześćdziesiąt dwa trzynaście osiemdziesiąt razy trzydzieści pięć razy dziewięćdziesiąt trzy dziewięćdziesiąt minus siedem sześćdziesiąt czterdzieści cztery razy\n",
            "\n",
            ">>Juliusz_part2\n",
            "sześćdziesiąt dziewięć trzydzieści dwa dwadzieścią trzy pięćdziesiąt sześć razy siedemdziesiąt dwa czterdzieści razy siedemdziesiąt lus siedem osiemdziesiąt pięć cztery pięćdziesiąt dwa minus czterdzieści siedem osiem osiemdziesiąt trzy dziewięćdziesiąt minus siedem trzydzieści siedem siedemdziesiąt osiem czterdzieści lus osiem osiemdziesiąt trzydzieści pięć siedemnaście\n",
            "sześćdziesiąt dziewięć trzydzieści dwa dwadzieścia trzy pięćdziesiąt sześć razy siedemdziesiąt dwa czterdzieści razy siedemdziesiąt plus siedem osiemdziesiąt pięć cztery piędziesiąt dwa minus czterdzieści siedem osiem osiemdziesiąt trzy dziewięćdziesiąt minus siedem trzydzieści siedem siedemdziesiąt osiem czterdzieści plus osiem osiemdziesiąt trzydzieści pięć siedemnaście\n",
            "\n",
            ">>Juliusz_part10\n",
            "dziesięć minus siedemdziesiąt cztery osiemdziesiąt dwa pięćdziesiąt trzy dziewięćdziesiąt pl osiem dwadzieścia osiem sześćdziesiąt sześdziesiąt osiemt minus dwadzieścia cztery razy czterdzieści dziewiętnaście osiemdziesiąt siedemdziesiąt dwa cztery pięćdziesiąt razy cztery siedemdziesiąt trzy dziewięć dziewięćdziesiąt plus sześć trzynaście trzydzieści\n",
            "dziesięć minus siedemdziesiąt cztery osiemdziesiąt dwa pięćdziesiąt trzy dziewięćdziesiąt plus osiem dwadzieścia osiem sześćdziesiąt sześćdziesiąt osiem minus dwadzieścia cztery razy czterdzieści dziewiętnaście osiemdziesiąt siedemdziesiąt dwa cztery pięćdziesiąt razy cztery siedemdziesiąt trzy dziewięć dziewięćdziesiąt plus sześć trzynaście trzydzieści\n",
            "\n",
            ">>Juliusz_part6\n",
            "minus pięćdziesiąt dziewięć pięćdziesiąt sześć osiemdziesiąt razy osiem czterdzieści jedn jeden tszy czterdzieści dwa dziewięćdziesiąt pięć sześdziesiąt minus sześć osiemdziesiąt siedem siedemdziesiąt s dwadzieścia dziewięć dwadzieścia jeden zer dwardzieścia sieden czterdzieści  dziewięć trzedzieści trzy sześdziesiąt razy jeden osiemdziesiąt trzy trzydzieści pięć\n",
            "minus pięćdziesiąt dziewięć pięćdziesiąt sześć osiemdziesiąt razy osiem czterdzieści jeden jeden trzy czterdzieści dwa dziewięćdziesiąt pięć sześćdziesiąt minus sześć osiemdziesiąt siedem siedemdziesiąt plus dwadzieścia dziewięć dwadzieścia jeden zero dwadzieścia siedem czterdzieści plus dziewięć trzydzieści trzy sześćdziesiąt razy jeden osiemdziesiąt trzy trzydzieści pięć\n",
            "\n",
            ">>Juliusz_part9\n",
            "trzydzieści jedem osiem osiemdziesiąt sześć sześćdziesiąt trzy pięćdziesiąt siedem lus cztery sześćdziesiąt dziewięć dziewiętnaście lus czternaście razy dwadzieścia trzy szydzieści dwa osiemdziesiąt jeden pięćdziesiąt minus razy dziewiętnaście trzy osiemdziesiąt dwa sześć siedemdziesiąt razy osiem dwanaście dziewięćdziesiąt dwa minus\n",
            "trzydzieści jeden osiem osiemdziesiąt sześć sześćdziesiąt trzy pięćdziesiąt siedem plus cztery sześćdziesiąt dziewięć dziewiętnaście plus czternaście razy dwadzieścia trzy trzydzieści dwa osiemdziesiąt jeden pięćdziesiąt minus razy dziewiętnaście trzy osiemdziesiąt dwa sześć siedemdziesiąt razy osiem dwanaście dziewięćdziesiąt dwa minus\n",
            "\n",
            ">>Juliusz_part8\n",
            "wzero trzydzieści cztery razy dwa osiemdziesiąt sieden minus pięćdzisiąt jeden pietnaście dziewięćdzisiąt czter minus czterdzieści dziewięć razy szedzieści plus pięć dziewiętnaście siedemdziesiąt jeden siedemdziesiąt trzy osiemdziesiąt sześć sześćdziesiąt siedem razy dziewięćdziesiąt dziewięć lus sześdziesiąt dwa sześćdziesiąt osiem tszydzieści jeden czterdzieści sześć\n",
            "zero trzydzieści cztery razy dwa osiemdziesiąt siedem minus pięćdziesiąt jeden piętnaście dziewięćdziesiąt cztery minus czterdzieści dziewięć razy trzydzieści plus pięć dziewiętnaście siedemdziesiąt jeden siedemdziesiąt trzy osiemdziesiąt sześć sześćdziesiąt siedem razy dziewięćdziesiąt dziewięć plus sześćdziesiąt dwa sześćdziesiąt osiem trzydzieści jeden czterdzieści sześć\n",
            "\n",
            ">>Juliusz_part7\n",
            "dziewięćdzisiąt dziewięć trzydzieści siedem ls dziewięćdzisiąt siedem szynaście dwa razy osiemdziesiąt razy cztery pięćdziesiąt trzy osiem trzydzieści minus pięć trzydzieści minus osiem sześćdziesiąt dziewięćdzisiąt pięć sześć osiemdziesiąt pięć dwadzieśsiąt jedem piętnaście czterdzieści osiem siedemdziesiąt sześć siedemdzisiąt dwa dziewięćdzisiąt minus\n",
            "dziewięćdziesiąt dziewięć trzydzieści siedem plus dziewięćdziesiąt siedem trzynaście dwa razy osiemdziesiąt razy cztery pięćdziesiąt trzy osiem trzydzieści minus pięć trzydzieści minus osiem sześćdziesiąt dziewięćdziesiąt pięć sześć osiemdziesiąt pięć dwadzieścia jeden piętnaście czterdzieści osiem siedemdziesiąt sześć siedemdziesiąt dwa dziewięćdziesiąt minus\n",
            "\n",
            "{'wer': 0.16957605985037408, 'mer': 0.16957605985037408, 'wil': 0.3086720698254364, 'wip': 0.6913279301745636, 'hits': 333, 'substitutions': 67, 'deletions': 1, 'insertions': 0}\n"
          ]
        }
      ],
      "source": [
        "h=[]\n",
        "r=[]\n",
        "\n",
        "for name in trans.keys():\n",
        "  print(f'>>{name}')\n",
        "  print(trans[name])\n",
        "  print(ref[name])\n",
        "  print('')\n",
        "\n",
        "  h.append(trans[name])\n",
        "  r.append(ref[name])\n",
        "\n",
        "print(jiwer.compute_measures(r,h))"
      ]
    },
    {
      "cell_type": "markdown",
      "metadata": {
        "id": "4BYYx-3_9WBY"
      },
      "source": [
        "## 7. Model języka do rozpoznawania ciągów liczb"
      ]
    },
    {
      "cell_type": "code",
      "execution_count": null,
      "metadata": {
        "id": "wfZzL6DLjZak"
      },
      "outputs": [],
      "source": [
        "digits_short=['zero','jeden','dwa','trzy','cztery','pięć','sześć','siedem','osiem','dziewięć']\n",
        "with open('digits_short.txt','w') as f:\n",
        "  for l in range(100):\n",
        "    f.write(' '.join([digits_short[x] for x in randint(0,10,10)])+'\\n')"
      ]
    },
    {
      "cell_type": "code",
      "execution_count": null,
      "metadata": {
        "colab": {
          "base_uri": "https://localhost:8080/"
        },
        "id": "AxRsuHrhfD8d",
        "outputId": "032eb58f-2060-474e-90a5-d9d314c44d90"
      },
      "outputs": [
        {
          "output_type": "stream",
          "name": "stdout",
          "text": [
            "sześć pięć dwa sześć jeden sześć zero zero sześć osiem\n",
            "dziewięć sześć osiem dwa pięć dziewięć dwa dziewięć cztery pięć\n",
            "zero dziewięć dwa sześć zero siedem siedem jeden dwa trzy\n",
            "pięć dziewięć dwa trzy pięć osiem sześć cztery dziewięć jeden\n",
            "siedem dziewięć osiem siedem jeden dziewięć osiem jeden jeden siedem\n",
            "jeden dziewięć dwa zero jeden siedem dziewięć osiem cztery zero\n",
            "siedem jeden sześć pięć dziewięć osiem dziewięć trzy cztery jeden\n",
            "jeden sześć jeden jeden osiem zero sześć sześć dziewięć dwa\n",
            "pięć pięć jeden jeden siedem sześć cztery zero sześć dziewięć\n",
            "osiem osiem dwa siedem dwa trzy trzy siedem dziewięć trzy\n"
          ]
        }
      ],
      "source": [
        "!head -n 10 digits_short.txt"
      ]
    },
    {
      "cell_type": "markdown",
      "metadata": {
        "id": "xxUYMvyE9pQq"
      },
      "source": [
        "Zrób z tego pliku model języka `digits.arpa`:"
      ]
    },
    {
      "cell_type": "code",
      "execution_count": null,
      "metadata": {
        "id": "XFjzjmjqkR59"
      },
      "outputs": [],
      "source": [
        "!ngram-count -text digits_short.txt -order 3 -wbdiscount -unk -lm digits_short.arpa"
      ]
    },
    {
      "cell_type": "markdown",
      "metadata": {
        "id": "hYWBHxbR9tvY"
      },
      "source": [
        "Sprawdź losowe ciągi z tego modelu - czy odpowiadają temu czego się spodziewamy:"
      ]
    },
    {
      "cell_type": "code",
      "execution_count": null,
      "metadata": {
        "colab": {
          "base_uri": "https://localhost:8080/"
        },
        "id": "6LgUppMtktHz",
        "outputId": "2a9ae613-fe7b-4fca-ee0a-590b47d0fc2f"
      },
      "outputs": [
        {
          "output_type": "stream",
          "name": "stdout",
          "text": [
            "dwa dziewięć trzy\n",
            "dwa dziewięć dwa zero <unk> jeden trzy cztery trzy zero osiem siedem sześć cztery zero jeden dwa dziewięć trzy cztery dwa pięć cztery <unk> cztery zero siedem dwa sześć dziewięć jeden jeden pięć zero dziewięć sześć siedem osiem sześć <unk> osiem\n",
            "\n",
            "jeden cztery\n",
            "dziewięć dwa\n",
            "cztery jeden trzy osiem trzy <unk>\n",
            "trzy siedem zero trzy <unk> trzy dziewięć <unk> dziewięć\n",
            "siedem dziewięć zero osiem osiem\n",
            "\n",
            "osiem\n"
          ]
        }
      ],
      "source": [
        "!ngram -lm digits_short.arpa -unk -gen 10"
      ]
    },
    {
      "cell_type": "markdown",
      "metadata": {
        "id": "bTXaRO6h92Fy"
      },
      "source": [
        "## 8. Dekodowanie wygenerowanym modelem języka\n",
        "\n",
        "Użyj `processor.tokenizer.get_vocab()` żeby dostać posortowaną (wg identyfikatorów) listę tokenów w modelu. Zamień separator słów (token `'|'`) na spację:"
      ]
    },
    {
      "cell_type": "code",
      "execution_count": null,
      "metadata": {
        "colab": {
          "base_uri": "https://localhost:8080/"
        },
        "id": "EntQElLZk4mA",
        "outputId": "40a49037-9361-4e01-c344-531f345e5b8c"
      },
      "outputs": [
        {
          "output_type": "stream",
          "name": "stdout",
          "text": [
            "['<pad>', '<s>', '</s>', '<unk>', '|', 'e', 'a', 'i', 'o', 'n', 'z', 'r', 'w', 's', 't', 'c', 'y', 'p', 'd', 'k', 'm', 'j', 'u', 'l', 'b', 'g', 'ł', 'h', 'ą', 'ę', 'ż', 'ó', 'ś', 'ć', 'f', 'ń', 'ź', 'v', 'x', 'q', '1']\n",
            "['<pad>', '<s>', '</s>', '<unk>', ' ', 'e', 'a', 'i', 'o', 'n', 'z', 'r', 'w', 's', 't', 'c', 'y', 'p', 'd', 'k', 'm', 'j', 'u', 'l', 'b', 'g', 'ł', 'h', 'ą', 'ę', 'ż', 'ó', 'ś', 'ć', 'f', 'ń', 'ź', 'v', 'x', 'q', '1']\n"
          ]
        }
      ],
      "source": [
        "tokens=[x[0] for x in sorted(processor.tokenizer.get_vocab().items(),key=lambda x:x[1])]\n",
        "print(tokens)\n",
        "tokens[4]=' '\n",
        "print(tokens)"
      ]
    },
    {
      "cell_type": "markdown",
      "metadata": {
        "id": "P3uGDzBw-QKG"
      },
      "source": [
        "Użyj metody `build_ctcdecoder` żeby storzyć dekoder - podaj listę tokenów, plik ARPA oraz parametry `alpha=2.0` oraz `beta=-1.0`:"
      ]
    },
    {
      "cell_type": "code",
      "execution_count": null,
      "metadata": {
        "colab": {
          "base_uri": "https://localhost:8080/"
        },
        "id": "eNMjh-Z-qofG",
        "outputId": "7cf954e4-fb5b-436b-dc82-0a1b30530375"
      },
      "outputs": [
        {
          "output_type": "stream",
          "name": "stderr",
          "text": [
            "WARNING:pyctcdecode.alphabet:Found entries of length > 1 in alphabet. This is unusual unless style is BPE, but the alphabet was not recognized as BPE type. Is this correct?\n",
            "WARNING:pyctcdecode.language_model:Only 11 unigrams passed as vocabulary. Is this small or artificial data?\n"
          ]
        }
      ],
      "source": [
        "decoder=build_ctcdecoder(tokens,'digits_short.arpa',alpha=2.0,beta=-1.0)"
      ]
    },
    {
      "cell_type": "markdown",
      "metadata": {
        "id": "rc9IGKnw-iUb"
      },
      "source": [
        "Powtórz proces dekodowania, ale zamiast liczyć `torch.argmax` przekaż wynik modelu do decodera. Metoda `decoder.decode` potrzebuje listy w postaci NumPy, więc trzeba ją zamienić używając poleceń: `out.logits.cpu().detach().numpy()`:"
      ]
    },
    {
      "cell_type": "code",
      "execution_count": null,
      "metadata": {
        "colab": {
          "base_uri": "https://localhost:8080/"
        },
        "id": "KZKFAL8btO2W",
        "outputId": "562c9e80-65c8-4377-dc79-9c472d2ac61c"
      },
      "outputs": [
        {
          "output_type": "stream",
          "name": "stderr",
          "text": [
            "100%|██████████| 10/10 [00:06<00:00,  1.51it/s]\n"
          ]
        }
      ],
      "source": [
        "trans={}\n",
        "for name,data in tqdm(files.items()):\n",
        "  feats=processor(data,sampling_rate=Fs,return_tensors='pt',padding=True).to('cuda')\n",
        "  out=model(input_values=feats.input_values)\n",
        "  sent=decoder.decode(out.logits.cpu().detach().numpy()[0])\n",
        "  trans[name]=sent"
      ]
    },
    {
      "cell_type": "markdown",
      "metadata": {
        "id": "8zhsbw23-8FG"
      },
      "source": [
        "Na samym końcu, wyświetl wyniki i ponownie wylicz WER:"
      ]
    },
    {
      "cell_type": "code",
      "execution_count": null,
      "metadata": {
        "colab": {
          "base_uri": "https://localhost:8080/"
        },
        "id": "ggTfviWtt7XY",
        "outputId": "a68e9e31-2251-43ce-9ec0-71f441f20e57"
      },
      "outputs": [
        {
          "output_type": "stream",
          "name": "stdout",
          "text": [
            ">>Juliusz_part3\n",
            "sześćdziesiątpięćsześćdziesiątminus dziewięć dwadzieściaw siedemdziesiątlus siedem dwadzieściajedem osiem osiemdziesiąt jeden czterdzieści razy trzy czterdzieści sześć osiemdziesiąt osiem tszedzieści razy trzy dwadzieścia osiem dwadzieścia trzy sześdziesiąt trzy siedemdziesiątlus sześć dziewięćdziesiąt cztery osiemdziesiąt pięćdziesiąt sześć minus dwadzieściadziesięć\n",
            "sześćdziesiąt pięć sześćdziesiąt minus dziewięć dwanaście siedemdziesiąt plus siedem dwadzieścia jeden osiem osiemdziesiąt jeden czterdzieści razy trzy czterdzieści sześć osiemdziesiąt osiem trzydzieści razy trzy dwadzieścia osiem plus dwadzieścia trzy sześćdziesiąt trzy siedemdziesiąt plus sześć dziewięćdziesiąt cztery osiemdziesiąt pięćdziesiąt sześć minus dwadzieścia dziesięć\n",
            "\n",
            ">>Juliusz_part5\n",
            "siedemdziesiątdwaminus sześćdziesiąt osiem trzydzieści siedem dziewięćdziesiąt cztery siedemdziesiąt cztery siedemnaście siedemdziesiąt razy osiem dziewięć minus siedemdziesiąt siedem osiemnaście razy czterdzieści dziewięć czterdzieścitrzy trzydzieścidwa jeden czterdzieścipięćaczternaście dziewięćdzisiąt osiem szesnaście trzydzieści osiemdziesiąt jeden minus\n",
            "siedemdziesiąt dwa minus sześćdziesiąt osiem plus trzydzieści siedem dziewięćdziesiąt cztery plus siedemdziesiąt cztery siedemnaście siedemdziesiąt razy osiem dziewięć minus siedemdziesiąt siedem osiemnaście razy czterdzieści dziewięć czterdzieści trzy trzydzieści dwa jeden czterdzieści pięć czternaście dziewięćdziesiąt osiem szesnaście trzydzieści osiemdziesiąt jeden minus\n",
            "\n",
            ">>Juliusz_part1\n",
            "osiemdziesiąt trzy pietnaście sześćdziesiątls sześć sześćdziesiąt trzy minus osiemdziesiąt osiem osiemnaście trzy osiemdziesiąt siedem czterdzieści osiem siedemdziesiąt cztery osiemdziesiąt jeden dziewięćdziesiąt siedem pięćdziesiąt cztery czterdzieści razy jeden pięćdziesiątdwa dziewięćdziesiąt pięć dwadzieścia cztery minus pięćdziesiąt siedem jeden czterdzieści sześć razy\n",
            "osiemdziesiąt trzy piętnaście sześćdziesiąt plus sześć sześćdziesiąt trzy minus osiemdziesiąt osiem osiemnaście trzy osiemdziesiąt siedem plus czterdzieści osiem siedemdziesiąt cztery osiemdziesiąt jeden dziewięćdziesiąt siedem pięćdziesiąt cztery czterdzieści razy jeden pięćdziesiąt dwa dziewięćdziesiąt pięć dwadzieścia cztery minus pięćdziesiąt siedem jeden czterdzieści sześć razy\n",
            "\n",
            ">>Juliusz_part4\n",
            "pięć pięćdziesiąt cztery dwadzieścia dwa pięćdziesiąt sześć pięćdziesiąt trzy jedenminus trzydzieścitrzyjedenaście siedemnaście czterdzieścilus siedem pięćdziesiąt osiet szesnaście siedemdziesiąt dwa trzynaście osiemdziesiąt raz trzydzieści pięć raz dziewięćdziesiąt trzy dziewięćdziesiątminus siedem sześćdziesiąt czterdzieści cztery razy\n",
            "pięć plus pięćdziesiąt cztery dwadzieścia dwa pięćdziesiąt sześć pięćdziesiąt trzy jeden minus trzydzieści trzy jedenaście siedemnaście czterdzieści plus siedem pięćdziesiąt osiem szesnaście sześćdziesiąt dwa trzynaście osiemdziesiąt razy trzydzieści pięć razy dziewięćdziesiąt trzy dziewięćdziesiąt minus siedem sześćdziesiąt czterdzieści cztery razy\n",
            "\n",
            ">>Juliusz_part2\n",
            "sześćdziesiąt dziewięć trzydzieścidwa dwadzieściąd trzy pięćdziesiąt sześć razy siedemdziesiąt dwa czterdzieści razy siedemdziesiątlus siedem osiemdziesiąt pięć cztery pięćdziesiątdwaminus czterdzieści siedem osiem osiemdziesiąt trzy dziewięćdziesiątminus siedem trzydzieści siedem siedemdziesiąt osiem czterdzieścilus osiem osiemdziesiąt trzydzieści pięć siedemnaście\n",
            "sześćdziesiąt dziewięć trzydzieści dwa dwadzieścia trzy pięćdziesiąt sześć razy siedemdziesiąt dwa czterdzieści razy siedemdziesiąt plus siedem osiemdziesiąt pięć cztery piędziesiąt dwa minus czterdzieści siedem osiem osiemdziesiąt trzy dziewięćdziesiąt minus siedem trzydzieści siedem siedemdziesiąt osiem czterdzieści plus osiem osiemdziesiąt trzydzieści pięć siedemnaście\n",
            "\n",
            ">>Juliusz_part10\n",
            "dziesięćminus siedemdziesiąt cztery osiemdziesiątdwa pięćdziesiąt trzy dziewięćdziesiątpls osiem dwadzieścia osiem sześćdziesiąt sześdziesiąt osiemtminus dwadzieścia cztery razy czterdzieści dziewiętnaście osiemdziesiąt siedemdziesiąt dwa cztery pięćdziesiątrazy cztery siedemdziesiąt trzy dziewięć dziewięćdziesiątplus sześć trzynaście trzydzieści\n",
            "dziesięć minus siedemdziesiąt cztery osiemdziesiąt dwa pięćdziesiąt trzy dziewięćdziesiąt plus osiem dwadzieścia osiem sześćdziesiąt sześćdziesiąt osiem minus dwadzieścia cztery razy czterdzieści dziewiętnaście osiemdziesiąt siedemdziesiąt dwa cztery pięćdziesiąt razy cztery siedemdziesiąt trzy dziewięć dziewięćdziesiąt plus sześć trzynaście trzydzieści\n",
            "\n",
            ">>Juliusz_part6\n",
            "minus pięćdziesiąt dziewięć pięćdziesiąt sześć osiemdziesiąt razy osiem czterdzieścijedn jeden trzy czterdzieścidwa dziewięćdziesiąt pięć sześdziesiątminus sześć osiemdziesiąt siedem siedemdziesiąts dwadzieściadziewięć dwadzieściajedenzer dwardzieścia siedem czterdzieścis dziewięć trzedzieści trzy sześdziesiąt razyjeden osiemdziesiąttrzy trzydzieścipięćo\n",
            "minus pięćdziesiąt dziewięć pięćdziesiąt sześć osiemdziesiąt razy osiem czterdzieści jeden jeden trzy czterdzieści dwa dziewięćdziesiąt pięć sześćdziesiąt minus sześć osiemdziesiąt siedem siedemdziesiąt plus dwadzieścia dziewięć dwadzieścia jeden zero dwadzieścia siedem czterdzieści plus dziewięć trzydzieści trzy sześćdziesiąt razy jeden osiemdziesiąt trzy trzydzieści pięć\n",
            "\n",
            ">>Juliusz_part9\n",
            "trzydzieścijedem osiem osiemdziesiąt sześć sześćdziesiąttrzy pięćdziesiąt siedem cztery sześćdziesiąt dziewięć dziewiętnaścielus czternaścierazyw dwadzieścia trzy szydzieści dwa osiemdziesiąt jeden pięćdziesiątminusrazy dziewiętnaście trzy osiemdziesiątdwa sześć siedemdziesiątrazy osiem dwanaście dziewięćdziesiątdwaminus\n",
            "trzydzieści jeden osiem osiemdziesiąt sześć sześćdziesiąt trzy pięćdziesiąt siedem plus cztery sześćdziesiąt dziewięć dziewiętnaście plus czternaście razy dwadzieścia trzy trzydzieści dwa osiemdziesiąt jeden pięćdziesiąt minus razy dziewiętnaście trzy osiemdziesiąt dwa sześć siedemdziesiąt razy osiem dwanaście dziewięćdziesiąt dwa minus\n",
            "\n",
            ">>Juliusz_part8\n",
            "zero trzydzieści cztery razy dwa osiemdziesiąt siedem minuspięćdziesiąt jeden pietnaście dziewięćdzisiąt cztery minus czterdzieści dziewięć razy szedzieściplus pięć dziewiętnaście siedemdziesiąt jeden siedemdziesiąt trzy osiemdzisiąt sześć sześćdziesiąt siedem razy dziewięćdziesiąt dziewięć sześćdziesiątdwa sześćdziesiątosiem szydzieści jeden czterdzieści sześć\n",
            "zero trzydzieści cztery razy dwa osiemdziesiąt siedem minus pięćdziesiąt jeden piętnaście dziewięćdziesiąt cztery minus czterdzieści dziewięć razy trzydzieści plus pięć dziewiętnaście siedemdziesiąt jeden siedemdziesiąt trzy osiemdziesiąt sześć sześćdziesiąt siedem razy dziewięćdziesiąt dziewięć plus sześćdziesiąt dwa sześćdziesiąt osiem trzydzieści jeden czterdzieści sześć\n",
            "\n",
            ">>Juliusz_part7\n",
            "dziewięćdzisiąt dziewięć trzydzieści siedem dziewięćdzisiąt siedem szynaście dwa razy osiemdziesiąt razy cztery pięćdziesiąt trzy osiem trzydzieściminus pięć trzydzieściminus osiem sześćdziesiąt dziewięćdzisiąt pięć sześć osiemdziesiąt pięć dwadzieśsiąt jeden piętnaście czterdzieści osiem siedemdziesiąt sześć siedemdzisiąt dwa dziewięćdzisiątminus\n",
            "dziewięćdziesiąt dziewięć trzydzieści siedem plus dziewięćdziesiąt siedem trzynaście dwa razy osiemdziesiąt razy cztery pięćdziesiąt trzy osiem trzydzieści minus pięć trzydzieści minus osiem sześćdziesiąt dziewięćdziesiąt pięć sześć osiemdziesiąt pięć dwadzieścia jeden piętnaście czterdzieści osiem siedemdziesiąt sześć siedemdziesiąt dwa dziewięćdziesiąt minus\n",
            "\n",
            "{'wer': 0.35910224438902744, 'mer': 0.35910224438902744, 'wil': 0.5053732036275677, 'wip': 0.49462679637243234, 'hits': 257, 'substitutions': 76, 'deletions': 68, 'insertions': 0}\n"
          ]
        }
      ],
      "source": [
        "h=[]\n",
        "r=[]\n",
        "\n",
        "for name in trans.keys():\n",
        "  print(f'>>{name}')\n",
        "  print(trans[name])\n",
        "  print(ref[name])\n",
        "  print('')\n",
        "\n",
        "  h.append(trans[name])\n",
        "  r.append(ref[name])\n",
        "\n",
        "print(jiwer.compute_measures(r,h))"
      ]
    },
    {
      "cell_type": "markdown",
      "source": [
        "Podsumowanie Word error rate (WER): 0.35910224438902744"
      ],
      "metadata": {
        "id": "QS3YrfZH_Lku"
      }
    },
    {
      "cell_type": "markdown",
      "source": [
        "## 9. Optymalizacja procesu"
      ],
      "metadata": {
        "id": "dfJGTD3258wa"
      }
    },
    {
      "cell_type": "markdown",
      "source": [
        "### 9.1 Rożne modele języka"
      ],
      "metadata": {
        "id": "etUwtMjb6JF6"
      }
    },
    {
      "cell_type": "markdown",
      "source": [
        "#### 9.1.1 Model rozszerzony\n",
        "Model ten został rozszerzony z zakresu 0-9 do 0-20 + co dziesiąte wartości typu 30, 40 etc."
      ],
      "metadata": {
        "id": "4LfA7SrQ7hp0"
      }
    },
    {
      "cell_type": "code",
      "source": [
        "digits_long=['zero','jeden','dwa','trzy','cztery','pięć','sześć','siedem','osiem','dziewięć', 'dziesięć', 'jedenaście', 'dwanaście', 'trzynaście', 'czternaście', 'piętnaście', 'szesnaście', 'siedemnaście', 'osiemnaście', 'dziewiętnaście', 'dwadzieścia', 'trzydzieści', 'czterdzieści', 'pięćdzisiąt', 'sześćdziesiąt', 'siedemdziesiąt', 'osiemdziesiąt', 'dzięwięćdziesiąt', 'sto']\n",
        "with open('digits_long.txt','w') as f:\n",
        "  for l in range(100):\n",
        "    f.write(' '.join([digits_long[x] for x in randint(0,10,10)])+'\\n')"
      ],
      "metadata": {
        "id": "jNVM4Uvt6Ia-"
      },
      "execution_count": null,
      "outputs": []
    },
    {
      "cell_type": "code",
      "source": [
        "!ngram-count -text digits_long.txt -order 3 -wbdiscount -unk -lm digits_long.arpa"
      ],
      "metadata": {
        "id": "hLZqwK2G6juU"
      },
      "execution_count": null,
      "outputs": []
    },
    {
      "cell_type": "code",
      "source": [
        "tokens=[x[0] for x in sorted(processor.tokenizer.get_vocab().items(),key=lambda x:x[1])]\n",
        "print(tokens)\n",
        "tokens[4]=' '\n",
        "print(tokens)"
      ],
      "metadata": {
        "colab": {
          "base_uri": "https://localhost:8080/"
        },
        "id": "KOu8DEzs6u8W",
        "outputId": "3565b30a-bcc0-4a35-f6ed-15327a0bd182"
      },
      "execution_count": null,
      "outputs": [
        {
          "output_type": "stream",
          "name": "stdout",
          "text": [
            "['<pad>', '<s>', '</s>', '<unk>', '|', 'e', 'a', 'i', 'o', 'n', 'z', 'r', 'w', 's', 't', 'c', 'y', 'p', 'd', 'k', 'm', 'j', 'u', 'l', 'b', 'g', 'ł', 'h', 'ą', 'ę', 'ż', 'ó', 'ś', 'ć', 'f', 'ń', 'ź', 'v', 'x', 'q', '1']\n",
            "['<pad>', '<s>', '</s>', '<unk>', ' ', 'e', 'a', 'i', 'o', 'n', 'z', 'r', 'w', 's', 't', 'c', 'y', 'p', 'd', 'k', 'm', 'j', 'u', 'l', 'b', 'g', 'ł', 'h', 'ą', 'ę', 'ż', 'ó', 'ś', 'ć', 'f', 'ń', 'ź', 'v', 'x', 'q', '1']\n"
          ]
        }
      ]
    },
    {
      "cell_type": "code",
      "source": [
        "decoder=build_ctcdecoder(tokens,'digits_long.arpa',alpha=2.0,beta=-1.0)"
      ],
      "metadata": {
        "colab": {
          "base_uri": "https://localhost:8080/"
        },
        "id": "BmDizZjy6xh9",
        "outputId": "c57f1cc0-5213-4ad7-bd0c-5a85c943c034"
      },
      "execution_count": null,
      "outputs": [
        {
          "output_type": "stream",
          "name": "stderr",
          "text": [
            "WARNING:pyctcdecode.alphabet:Found entries of length > 1 in alphabet. This is unusual unless style is BPE, but the alphabet was not recognized as BPE type. Is this correct?\n",
            "WARNING:pyctcdecode.language_model:Only 11 unigrams passed as vocabulary. Is this small or artificial data?\n"
          ]
        }
      ]
    },
    {
      "cell_type": "code",
      "source": [
        "trans={}\n",
        "for name,data in tqdm(files.items()):\n",
        "  feats=processor(data,sampling_rate=Fs,return_tensors='pt',padding=True).to('cuda')\n",
        "  out=model(input_values=feats.input_values)\n",
        "  sent=decoder.decode(out.logits.cpu().detach().numpy()[0])\n",
        "  trans[name]=sent"
      ],
      "metadata": {
        "colab": {
          "base_uri": "https://localhost:8080/"
        },
        "id": "D8vXGPcf61hq",
        "outputId": "aed2939b-84f9-4e62-a56b-5503d09859e0"
      },
      "execution_count": null,
      "outputs": [
        {
          "output_type": "stream",
          "name": "stderr",
          "text": [
            "100%|██████████| 10/10 [00:06<00:00,  1.51it/s]\n"
          ]
        }
      ]
    },
    {
      "cell_type": "code",
      "source": [
        "h=[]\n",
        "r=[]\n",
        "\n",
        "for name in trans.keys():\n",
        "  print(f'>>{name}')\n",
        "  print(trans[name])\n",
        "  print(ref[name])\n",
        "  print('')\n",
        "\n",
        "  h.append(trans[name])\n",
        "  r.append(ref[name])\n",
        "\n",
        "print(jiwer.compute_measures(r,h))"
      ],
      "metadata": {
        "colab": {
          "base_uri": "https://localhost:8080/"
        },
        "id": "KsKPVsii63gs",
        "outputId": "00e87e87-2d35-46d7-fd01-81ccd0400da8"
      },
      "execution_count": null,
      "outputs": [
        {
          "output_type": "stream",
          "name": "stdout",
          "text": [
            ">>Juliusz_part3\n",
            "sześćdziesiątpięćsześćdziesiątminus dziewięć dwadzieściaw siedemdziesiątlus siedem dwadzieściajedem osiem osiemdziesiąt jeden czterdzieści razy trzy czterdzieści sześć osiemdziesiąt osiem tszedzieści razy trzy dwadzieścia osiem dwadzieścia trzy sześdziesiąt trzy siedemdziesiątlus sześć dziewięćdziesiąt cztery osiemdziesiąt pięćdziesiąt sześć minus dwadzieściadziesięć\n",
            "sześćdziesiąt pięć sześćdziesiąt minus dziewięć dwanaście siedemdziesiąt plus siedem dwadzieścia jeden osiem osiemdziesiąt jeden czterdzieści razy trzy czterdzieści sześć osiemdziesiąt osiem trzydzieści razy trzy dwadzieścia osiem plus dwadzieścia trzy sześćdziesiąt trzy siedemdziesiąt plus sześć dziewięćdziesiąt cztery osiemdziesiąt pięćdziesiąt sześć minus dwadzieścia dziesięć\n",
            "\n",
            ">>Juliusz_part5\n",
            "siedemdziesiątdwaminus sześćdziesiąt osiem trzydzieści siedem dziewięćdziesiąt cztery siedemdziesiąt cztery siedemnaście siedemdziesiąt razy osiem dziewięćminus siedemdziesiąt siedem osiemnaście razy czterdzieści dziewięć czterdzieścitrzy trzydzieścidwa jeden czterdzieścipięćaczternaście dziewięćdzisiąt osiem szesnaście trzydzieści osiemdziesiąt jeden minus\n",
            "siedemdziesiąt dwa minus sześćdziesiąt osiem plus trzydzieści siedem dziewięćdziesiąt cztery plus siedemdziesiąt cztery siedemnaście siedemdziesiąt razy osiem dziewięć minus siedemdziesiąt siedem osiemnaście razy czterdzieści dziewięć czterdzieści trzy trzydzieści dwa jeden czterdzieści pięć czternaście dziewięćdziesiąt osiem szesnaście trzydzieści osiemdziesiąt jeden minus\n",
            "\n",
            ">>Juliusz_part1\n",
            "osiemdziesiąt trzy pietnaście sześćdziesiątls sześć sześćdziesiąt trzy minus osiemdziesiąt osiem osiemnaście trzy osiemdziesiąt siedem czterdzieści osiem siedemdziesiąt cztery osiemdziesiąt jeden dziewięćdziesiąt siedem pięćdziesiąt cztery czterdzieści razy jeden pięćdziesiątdwa dziewięćdziesiąt pięć dwadzieścia cztery minus pięćdziesiąt siedem jeden czterdzieści sześć razy\n",
            "osiemdziesiąt trzy piętnaście sześćdziesiąt plus sześć sześćdziesiąt trzy minus osiemdziesiąt osiem osiemnaście trzy osiemdziesiąt siedem plus czterdzieści osiem siedemdziesiąt cztery osiemdziesiąt jeden dziewięćdziesiąt siedem pięćdziesiąt cztery czterdzieści razy jeden pięćdziesiąt dwa dziewięćdziesiąt pięć dwadzieścia cztery minus pięćdziesiąt siedem jeden czterdzieści sześć razy\n",
            "\n",
            ">>Juliusz_part4\n",
            "pięć pięćdziesiąt cztery dwadzieścia dwa pięćdziesiąt sześć pięćdziesiąt trzy jedenminus trzydzieścitrzyjedenaście siedemnaście czterdzieścilus siedem pięćdziesiąt osiet szesnaście siedemdziesiąt dwa trzynaście osiemdziesiąt raz trzydzieści pięć raz dziewięćdziesiąt trzy dziewięćdziesiątminus siedem sześćdziesiąt czterdzieści cztery razy\n",
            "pięć plus pięćdziesiąt cztery dwadzieścia dwa pięćdziesiąt sześć pięćdziesiąt trzy jeden minus trzydzieści trzy jedenaście siedemnaście czterdzieści plus siedem pięćdziesiąt osiem szesnaście sześćdziesiąt dwa trzynaście osiemdziesiąt razy trzydzieści pięć razy dziewięćdziesiąt trzy dziewięćdziesiąt minus siedem sześćdziesiąt czterdzieści cztery razy\n",
            "\n",
            ">>Juliusz_part2\n",
            "sześćdziesiąt dziewięć trzydzieścidwa dwadzieściąd trzy pięćdziesiąt sześć razy siedemdziesiąt dwa czterdzieści razy siedemdziesiątlus siedem osiemdziesiąt pięć cztery pięćdziesiątdwaminus czterdzieści siedem osiem osiemdziesiąt trzy dziewięćdziesiątminus siedem trzydzieści siedem siedemdziesiąt osiem czterdzieścilus osiem osiemdziesiąt trzydzieści pięć siedemnaście\n",
            "sześćdziesiąt dziewięć trzydzieści dwa dwadzieścia trzy pięćdziesiąt sześć razy siedemdziesiąt dwa czterdzieści razy siedemdziesiąt plus siedem osiemdziesiąt pięć cztery piędziesiąt dwa minus czterdzieści siedem osiem osiemdziesiąt trzy dziewięćdziesiąt minus siedem trzydzieści siedem siedemdziesiąt osiem czterdzieści plus osiem osiemdziesiąt trzydzieści pięć siedemnaście\n",
            "\n",
            ">>Juliusz_part10\n",
            "dziesięćminus siedemdziesiąt cztery osiemdziesiątdwa pięćdziesiąt trzy dziewięćdziesiątpls osiem dwadzieścia osiem sześćdziesiąt sześdziesiąt osiemtminus dwadzieścia cztery razy czterdzieści dziewiętnaście osiemdziesiąt siedemdziesiąt dwa cztery pięćdziesiątrazy cztery siedemdziesiąt trzy dziewięć dziewięćdziesiątplus sześć trzynaście trzydzieści\n",
            "dziesięć minus siedemdziesiąt cztery osiemdziesiąt dwa pięćdziesiąt trzy dziewięćdziesiąt plus osiem dwadzieścia osiem sześćdziesiąt sześćdziesiąt osiem minus dwadzieścia cztery razy czterdzieści dziewiętnaście osiemdziesiąt siedemdziesiąt dwa cztery pięćdziesiąt razy cztery siedemdziesiąt trzy dziewięć dziewięćdziesiąt plus sześć trzynaście trzydzieści\n",
            "\n",
            ">>Juliusz_part6\n",
            "minus pięćdziesiąt dziewięć pięćdziesiąt sześć osiemdziesiąt razy osiem czterdzieścijedn jeden trzy czterdzieścidwa dziewięćdziesiąt pięć sześdziesiątminus sześć osiemdziesiąt siedem siedemdziesiąts dwadzieściadziewięć dwadzieściajedenzer dwardzieścia siedem czterdzieścis dziewięć trzedzieści trzy sześdziesiąt razyjeden osiemdziesiąttrzy trzydzieścipięćo\n",
            "minus pięćdziesiąt dziewięć pięćdziesiąt sześć osiemdziesiąt razy osiem czterdzieści jeden jeden trzy czterdzieści dwa dziewięćdziesiąt pięć sześćdziesiąt minus sześć osiemdziesiąt siedem siedemdziesiąt plus dwadzieścia dziewięć dwadzieścia jeden zero dwadzieścia siedem czterdzieści plus dziewięć trzydzieści trzy sześćdziesiąt razy jeden osiemdziesiąt trzy trzydzieści pięć\n",
            "\n",
            ">>Juliusz_part9\n",
            "trzydzieścijedem osiem osiemdziesiąt sześć sześćdziesiąttrzy pięćdziesiąt siedem cztery sześćdziesiąt dziewięć dziewiętnaścielus czternaścierazyw dwadzieścia trzy szydzieści dwa osiemdziesiąt jeden pięćdziesiątminusrazy dziewiętnaście trzy osiemdziesiątdwa sześć siedemdziesiątrazy osiem dwanaście dziewięćdziesiątdwaminus\n",
            "trzydzieści jeden osiem osiemdziesiąt sześć sześćdziesiąt trzy pięćdziesiąt siedem plus cztery sześćdziesiąt dziewięć dziewiętnaście plus czternaście razy dwadzieścia trzy trzydzieści dwa osiemdziesiąt jeden pięćdziesiąt minus razy dziewiętnaście trzy osiemdziesiąt dwa sześć siedemdziesiąt razy osiem dwanaście dziewięćdziesiąt dwa minus\n",
            "\n",
            ">>Juliusz_part8\n",
            "zero trzydzieści cztery razy dwa osiemdziesiąt siedem minuspięćdziesiąt jeden pietnaście dziewięćdzisiąt cztery minus czterdzieści dziewięć razy szedzieściplus pięć dziewiętnaście siedemdziesiąt jeden siedemdziesiąt trzy osiemdzisiąt sześć sześćdziesiąt siedem razy dziewięćdziesiąt dziewięć sześćdziesiątdwa sześćdziesiątosiem szydzieści jeden czterdzieści sześć\n",
            "zero trzydzieści cztery razy dwa osiemdziesiąt siedem minus pięćdziesiąt jeden piętnaście dziewięćdziesiąt cztery minus czterdzieści dziewięć razy trzydzieści plus pięć dziewiętnaście siedemdziesiąt jeden siedemdziesiąt trzy osiemdziesiąt sześć sześćdziesiąt siedem razy dziewięćdziesiąt dziewięć plus sześćdziesiąt dwa sześćdziesiąt osiem trzydzieści jeden czterdzieści sześć\n",
            "\n",
            ">>Juliusz_part7\n",
            "dziewięćdzisiąt dziewięć trzydzieści siedem dziewięćdzisiąt siedem szynaście dwa razy osiemdziesiąt razy cztery pięćdziesiąt trzy osiem trzydzieściminus pięć trzydzieściminus osiem sześćdziesiąt dziewięćdzisiąt pięć sześć osiemdziesiąt pięć dwadzieśsiąt jeden piętnaście czterdzieści osiem siedemdziesiąt sześć siedemdzisiąt dwa dziewięćdzisiątminus\n",
            "dziewięćdziesiąt dziewięć trzydzieści siedem plus dziewięćdziesiąt siedem trzynaście dwa razy osiemdziesiąt razy cztery pięćdziesiąt trzy osiem trzydzieści minus pięć trzydzieści minus osiem sześćdziesiąt dziewięćdziesiąt pięć sześć osiemdziesiąt pięć dwadzieścia jeden piętnaście czterdzieści osiem siedemdziesiąt sześć siedemdziesiąt dwa dziewięćdziesiąt minus\n",
            "\n",
            "{'wer': 0.3640897755610973, 'mer': 0.3640897755610973, 'wil': 0.5115749782171077, 'wip': 0.4884250217828922, 'hits': 255, 'substitutions': 77, 'deletions': 69, 'insertions': 0}\n"
          ]
        }
      ]
    },
    {
      "cell_type": "markdown",
      "source": [
        "Podsumowanie Word error rate (WER): 0.3640897755610973"
      ],
      "metadata": {
        "id": "bP9RemO0_GGO"
      }
    },
    {
      "cell_type": "markdown",
      "source": [
        "#### 9.1.2 Model z nazwami operacji\n",
        "Jest to model rozszerzony w poprzedniego punktu z dodanymi nazwami operacji taki jak 'plus', 'minus' i 'razy'."
      ],
      "metadata": {
        "id": "bIKyfAu56Irl"
      }
    },
    {
      "cell_type": "code",
      "source": [
        "digits_op=['plus', 'minus', 'razy', 'zero','jeden','dwa','trzy','cztery','pięć','sześć','siedem','osiem','dziewięć', 'dziesięć', 'jedenaście', 'dwanaście', 'trzynaście', 'czternaście', 'piętnaście', 'szesnaście', 'siedemnaście', 'osiemnaście', 'dziewiętnaście', 'dwadzieścia', 'trzydzieści', 'czterdzieści', 'pięćdzisiąt', 'sześćdziesiąt', 'siedemdziesiąt', 'osiemdziesiąt', 'dzięwięćdziesiąt', 'sto']\n",
        "with open('digits_op.txt','w') as f:\n",
        "  for l in range(100):\n",
        "    f.write(' '.join([digits_op[x] for x in randint(0,10,10)])+'\\n')"
      ],
      "metadata": {
        "id": "fGLlKoPL8V6K"
      },
      "execution_count": null,
      "outputs": []
    },
    {
      "cell_type": "code",
      "source": [
        "!ngram-count -text digits_op.txt -order 3 -wbdiscount -unk -lm digits_op.arpa"
      ],
      "metadata": {
        "id": "0wiAmEOc8Xgi"
      },
      "execution_count": null,
      "outputs": []
    },
    {
      "cell_type": "code",
      "source": [
        "tokens=[x[0] for x in sorted(processor.tokenizer.get_vocab().items(),key=lambda x:x[1])]\n",
        "print(tokens)\n",
        "tokens[4]=' '\n",
        "print(tokens)"
      ],
      "metadata": {
        "colab": {
          "base_uri": "https://localhost:8080/"
        },
        "id": "L_5Q8tET8Ztk",
        "outputId": "05f1053f-e799-4977-84ee-b263cfd9b76d"
      },
      "execution_count": null,
      "outputs": [
        {
          "output_type": "stream",
          "name": "stdout",
          "text": [
            "['<pad>', '<s>', '</s>', '<unk>', '|', 'e', 'a', 'i', 'o', 'n', 'z', 'r', 'w', 's', 't', 'c', 'y', 'p', 'd', 'k', 'm', 'j', 'u', 'l', 'b', 'g', 'ł', 'h', 'ą', 'ę', 'ż', 'ó', 'ś', 'ć', 'f', 'ń', 'ź', 'v', 'x', 'q', '1']\n",
            "['<pad>', '<s>', '</s>', '<unk>', ' ', 'e', 'a', 'i', 'o', 'n', 'z', 'r', 'w', 's', 't', 'c', 'y', 'p', 'd', 'k', 'm', 'j', 'u', 'l', 'b', 'g', 'ł', 'h', 'ą', 'ę', 'ż', 'ó', 'ś', 'ć', 'f', 'ń', 'ź', 'v', 'x', 'q', '1']\n"
          ]
        }
      ]
    },
    {
      "cell_type": "code",
      "source": [
        "decoder=build_ctcdecoder(tokens,'digits_op.arpa',alpha=2.0,beta=-1.0)"
      ],
      "metadata": {
        "colab": {
          "base_uri": "https://localhost:8080/"
        },
        "id": "CKbhAIlx8aqw",
        "outputId": "53e93400-9158-4576-9d17-d4509fe514f2"
      },
      "execution_count": null,
      "outputs": [
        {
          "output_type": "stream",
          "name": "stderr",
          "text": [
            "WARNING:pyctcdecode.alphabet:Found entries of length > 1 in alphabet. This is unusual unless style is BPE, but the alphabet was not recognized as BPE type. Is this correct?\n",
            "WARNING:pyctcdecode.language_model:Only 11 unigrams passed as vocabulary. Is this small or artificial data?\n"
          ]
        }
      ]
    },
    {
      "cell_type": "code",
      "source": [
        "trans={}\n",
        "for name,data in tqdm(files.items()):\n",
        "  feats=processor(data,sampling_rate=Fs,return_tensors='pt',padding=True).to('cuda')\n",
        "  out=model(input_values=feats.input_values)\n",
        "  sent=decoder.decode(out.logits.cpu().detach().numpy()[0])\n",
        "  trans[name]=sent"
      ],
      "metadata": {
        "colab": {
          "base_uri": "https://localhost:8080/"
        },
        "id": "3RMikeUY8ceT",
        "outputId": "a5a78e5e-88c5-46e9-8fa1-27ddf8861efa"
      },
      "execution_count": null,
      "outputs": [
        {
          "output_type": "stream",
          "name": "stderr",
          "text": [
            "100%|██████████| 10/10 [00:07<00:00,  1.40it/s]\n"
          ]
        }
      ]
    },
    {
      "cell_type": "code",
      "source": [
        "h=[]\n",
        "r=[]\n",
        "\n",
        "for name in trans.keys():\n",
        "  print(f'>>{name}')\n",
        "  print(trans[name])\n",
        "  print(ref[name])\n",
        "  print('')\n",
        "\n",
        "  h.append(trans[name])\n",
        "  r.append(ref[name])\n",
        "\n",
        "print(jiwer.compute_measures(r,h))"
      ],
      "metadata": {
        "colab": {
          "base_uri": "https://localhost:8080/"
        },
        "id": "yFc6vLR98fwb",
        "outputId": "4c83209a-3810-4798-dc46-fafa57ad5080"
      },
      "execution_count": null,
      "outputs": [
        {
          "output_type": "stream",
          "name": "stdout",
          "text": [
            ">>Juliusz_part3\n",
            "sześćdziesiątpięćsześćdziesiąt minus dziewięć dwadzieściaw siedemdziesiątlus siedem dwadzieściajedem osiem osiemdziesiąt jeden czterdzieści razy trzy czterdzieści sześć osiemdziesiąt osiem tszedzieści razy trzy dwadzieścia osiemlus dwadzieścia trzy sześdziesiąt trzy siedemdziesiątlus sześć dziewięćdziesiąt cztery osiemdziesiąt pięćdziesiąt sześć minus dwadzieściadziesięć\n",
            "sześćdziesiąt pięć sześćdziesiąt minus dziewięć dwanaście siedemdziesiąt plus siedem dwadzieścia jeden osiem osiemdziesiąt jeden czterdzieści razy trzy czterdzieści sześć osiemdziesiąt osiem trzydzieści razy trzy dwadzieścia osiem plus dwadzieścia trzy sześćdziesiąt trzy siedemdziesiąt plus sześć dziewięćdziesiąt cztery osiemdziesiąt pięćdziesiąt sześć minus dwadzieścia dziesięć\n",
            "\n",
            ">>Juliusz_part5\n",
            "siedemdziesiątdwaminus sześćdziesiąt osiemlus trzydzieści siedem dziewięćdziesiąt cztery siedemdziesiąt cztery siedemnaście siedemdziesiąt razy osiem dziewięćminus siedemdziesiąt siedem osiemnaście razy czterdzieści dziewięć czterdzieścitrzy trzydzieścidwa jeden czterdzieścipięćaczternaście dziewięćdzisiąt osiem szesnaście trzydzieści osiemdziesiąt jeden minus\n",
            "siedemdziesiąt dwa minus sześćdziesiąt osiem plus trzydzieści siedem dziewięćdziesiąt cztery plus siedemdziesiąt cztery siedemnaście siedemdziesiąt razy osiem dziewięć minus siedemdziesiąt siedem osiemnaście razy czterdzieści dziewięć czterdzieści trzy trzydzieści dwa jeden czterdzieści pięć czternaście dziewięćdziesiąt osiem szesnaście trzydzieści osiemdziesiąt jeden minus\n",
            "\n",
            ">>Juliusz_part1\n",
            "osiemdziesiąt trzy pietnaście sześćdziesiątls sześć sześćdziesiąt trzy minus osiemdziesiąt osiem osiemnaście trzy osiemdziesiąt siedemlus czterdzieści osiem siedemdziesiąt cztery osiemdziesiąt jeden dziewięćdziesiąt siedem pięćdziesiąt cztery czterdzieści razy jeden pięćdziesiątdwa dziewięćdziesiąt pięć dwadzieścia cztery minus pięćdziesiąt siedem jeden czterdzieści sześć razy\n",
            "osiemdziesiąt trzy piętnaście sześćdziesiąt plus sześć sześćdziesiąt trzy minus osiemdziesiąt osiem osiemnaście trzy osiemdziesiąt siedem plus czterdzieści osiem siedemdziesiąt cztery osiemdziesiąt jeden dziewięćdziesiąt siedem pięćdziesiąt cztery czterdzieści razy jeden pięćdziesiąt dwa dziewięćdziesiąt pięć dwadzieścia cztery minus pięćdziesiąt siedem jeden czterdzieści sześć razy\n",
            "\n",
            ">>Juliusz_part4\n",
            "pięć plus pięćdziesiąt cztery dwadzieścia dwa pięćdziesiąt sześć pięćdziesiąt trzy jeden minus trzydzieścitrzyjedenaście siedemnaście czterdzieścilus siedemt pięćdziesiąt osiet szesnaście siedemdziesiąt dwa trzynaście osiemdziesiąt razy trzydzieści pięć razy dziewięćdziesiąt trzy dziewięćdziesiątminus siedemt sześćdziesiąt czterdzieści cztery razy\n",
            "pięć plus pięćdziesiąt cztery dwadzieścia dwa pięćdziesiąt sześć pięćdziesiąt trzy jeden minus trzydzieści trzy jedenaście siedemnaście czterdzieści plus siedem pięćdziesiąt osiem szesnaście sześćdziesiąt dwa trzynaście osiemdziesiąt razy trzydzieści pięć razy dziewięćdziesiąt trzy dziewięćdziesiąt minus siedem sześćdziesiąt czterdzieści cztery razy\n",
            "\n",
            ">>Juliusz_part2\n",
            "sześćdziesiąt dziewięć trzydzieścidwa dwadzieściąd trzy pięćdziesiąt sześć razy siedemdziesiąt dwa czterdzieści razy siedemdziesiątlus siedem osiemdziesiąt pięć cztery pięćdziesiątdwaminus czterdzieści siedem osiem osiemdziesiąt trzy dziewięćdziesiątminus siedem trzydzieści siedem siedemdziesiąt osiem czterdzieścilus osiem osiemdziesiąt trzydzieści pięć siedemnaście\n",
            "sześćdziesiąt dziewięć trzydzieści dwa dwadzieścia trzy pięćdziesiąt sześć razy siedemdziesiąt dwa czterdzieści razy siedemdziesiąt plus siedem osiemdziesiąt pięć cztery piędziesiąt dwa minus czterdzieści siedem osiem osiemdziesiąt trzy dziewięćdziesiąt minus siedem trzydzieści siedem siedemdziesiąt osiem czterdzieści plus osiem osiemdziesiąt trzydzieści pięć siedemnaście\n",
            "\n",
            ">>Juliusz_part10\n",
            "dziesięćminus siedemdziesiąt cztery osiemdziesiątdwa pięćdziesiąt trzy dziewięćdziesiątpls osiem dwadzieścia osiem sześćdziesiąt sześdziesiąt osiemtminus dwadzieścia cztery razy czterdzieści dziewiętnaście osiemdziesiąt siedemdziesiąt dwa cztery pięćdziesiątrazy cztery siedemdziesiąt trzy dziewięć dziewięćdziesiątplus sześć trzynaście trzydzieści\n",
            "dziesięć minus siedemdziesiąt cztery osiemdziesiąt dwa pięćdziesiąt trzy dziewięćdziesiąt plus osiem dwadzieścia osiem sześćdziesiąt sześćdziesiąt osiem minus dwadzieścia cztery razy czterdzieści dziewiętnaście osiemdziesiąt siedemdziesiąt dwa cztery pięćdziesiąt razy cztery siedemdziesiąt trzy dziewięć dziewięćdziesiąt plus sześć trzynaście trzydzieści\n",
            "\n",
            ">>Juliusz_part6\n",
            "minus pięćdziesiąt dziewięć pięćdziesiąt sześć osiemdziesiąt razy osiem czterdzieścijedn jeden trzy czterdzieścidwa dziewięćdziesiąt pięć sześdziesiątminus sześć osiemdziesiąt siedem siedemdziesiąts dwadzieściadziewięć dwadzieściajedenzer dwardzieścia sieden czterdzieścis dziewięć trzedzieści trzy sześdziesiąt razy jeden osiemdziesiąttrzy trzydzieścipięćo\n",
            "minus pięćdziesiąt dziewięć pięćdziesiąt sześć osiemdziesiąt razy osiem czterdzieści jeden jeden trzy czterdzieści dwa dziewięćdziesiąt pięć sześćdziesiąt minus sześć osiemdziesiąt siedem siedemdziesiąt plus dwadzieścia dziewięć dwadzieścia jeden zero dwadzieścia siedem czterdzieści plus dziewięć trzydzieści trzy sześćdziesiąt razy jeden osiemdziesiąt trzy trzydzieści pięć\n",
            "\n",
            ">>Juliusz_part9\n",
            "trzydzieścijedem osiem osiemdziesiąt sześć sześćdziesiąttrzy pięćdziesiąt siedemlus cztery sześćdziesiąt dziewięć dziewiętnaścielus czternaścierazyw dwadzieścia trzy szydzieści dwa osiemdziesiąt jeden pięćdziesiątminusrazy dziewiętnaście trzy osiemdziesiątdwa sześć siedemdziesiątrazy osiem dwanaście dziewięćdziesiątdwaminus\n",
            "trzydzieści jeden osiem osiemdziesiąt sześć sześćdziesiąt trzy pięćdziesiąt siedem plus cztery sześćdziesiąt dziewięć dziewiętnaście plus czternaście razy dwadzieścia trzy trzydzieści dwa osiemdziesiąt jeden pięćdziesiąt minus razy dziewiętnaście trzy osiemdziesiąt dwa sześć siedemdziesiąt razy osiem dwanaście dziewięćdziesiąt dwa minus\n",
            "\n",
            ">>Juliusz_part8\n",
            "zero trzydzieści cztery razy dwa osiemdziesiąt siedenminuspięćdziesiąt jeden pietnaście dziewięćdzisiąt cztery minus czterdzieści dziewięćrazy szedzieściplus pięć dziewiętnaście siedemdziesiąt jeden siedemdziesiąt trzy osiemdzisiąt sześć sześćdziesiąt siedem razy dziewięćdziesiąt dziewięćlus sześćdziesiątdwa sześćdziesiątosiem szydzieści jeden czterdzieści sześć\n",
            "zero trzydzieści cztery razy dwa osiemdziesiąt siedem minus pięćdziesiąt jeden piętnaście dziewięćdziesiąt cztery minus czterdzieści dziewięć razy trzydzieści plus pięć dziewiętnaście siedemdziesiąt jeden siedemdziesiąt trzy osiemdziesiąt sześć sześćdziesiąt siedem razy dziewięćdziesiąt dziewięć plus sześćdziesiąt dwa sześćdziesiąt osiem trzydzieści jeden czterdzieści sześć\n",
            "\n",
            ">>Juliusz_part7\n",
            "dziewięćdzisiąt dziewięć trzydzieści siedemlus dziewięćdzisiąt siedem szynaście dwa razy osiemdziesiąt razy cztery pięćdziesiąt trzy osiem trzydzieściminus pięć trzydzieściminus osiem sześćdziesiąt dziewięćdzisiąt pięć sześć osiemdziesiąt pięć dwadzieśsiąt jeden piętnaście czterdzieści osiem siedemdziesiąt sześć siedemdzisiąt dwa dziewięćdzisiątminus\n",
            "dziewięćdziesiąt dziewięć trzydzieści siedem plus dziewięćdziesiąt siedem trzynaście dwa razy osiemdziesiąt razy cztery pięćdziesiąt trzy osiem trzydzieści minus pięć trzydzieści minus osiem sześćdziesiąt dziewięćdziesiąt pięć sześć osiemdziesiąt pięć dwadzieścia jeden piętnaście czterdzieści osiem siedemdziesiąt sześć siedemdziesiąt dwa dziewięćdziesiąt minus\n",
            "\n",
            "{'wer': 0.3740648379052369, 'mer': 0.3740648379052369, 'wil': 0.5296115997431571, 'wip': 0.4703884002568429, 'hits': 251, 'substitutions': 83, 'deletions': 67, 'insertions': 0}\n"
          ]
        }
      ]
    },
    {
      "cell_type": "markdown",
      "source": [
        "Word error rate (WER) dla modelu digits_short: 0.35910224438902744\n",
        "\n",
        "Word error rate (WER) dla modelu digits_long: 0.3640897755610973\n",
        "\n",
        "Word error rate (WER) dla modelu digits_op: 0.3740648379052369"
      ],
      "metadata": {
        "id": "3gmPZCBRAdwI"
      }
    },
    {
      "cell_type": "markdown",
      "source": [
        "### 9.2 Rożne parametry dekodera"
      ],
      "metadata": {
        "id": "2xVKGuPT8vby"
      }
    },
    {
      "cell_type": "markdown",
      "source": [
        "#### 9.2.1 Alpha = 0.5, Beta = 1.0"
      ],
      "metadata": {
        "id": "BNnEkDiiELSk"
      }
    },
    {
      "cell_type": "code",
      "source": [
        "digits_op=['plus', 'minus', 'razy', 'zero','jeden','dwa','trzy','cztery','pięć','sześć','siedem','osiem','dziewięć', 'dziesięć', 'jedenaście', 'dwanaście', 'trzynaście', 'czternaście', 'piętnaście', 'szesnaście', 'siedemnaście', 'osiemnaście', 'dziewiętnaście', 'dwadzieścia', 'trzydzieści', 'czterdzieści', 'pięćdzisiąt', 'sześćdziesiąt', 'siedemdziesiąt', 'osiemdziesiąt', 'dzięwięćdziesiąt', 'sto']\n",
        "with open('digits_op.txt','w') as f:\n",
        "  for l in range(100):\n",
        "    f.write(' '.join([digits_op[x] for x in randint(0,10,10)])+'\\n')"
      ],
      "metadata": {
        "id": "-L5EL4eBCOuw"
      },
      "execution_count": null,
      "outputs": []
    },
    {
      "cell_type": "code",
      "source": [
        "!ngram-count -text digits_op.txt -order 3 -wbdiscount -unk -lm digits_op.arpa"
      ],
      "metadata": {
        "id": "IkyMQQekCPVA"
      },
      "execution_count": null,
      "outputs": []
    },
    {
      "cell_type": "code",
      "source": [
        "tokens=[x[0] for x in sorted(processor.tokenizer.get_vocab().items(),key=lambda x:x[1])]\n",
        "print(tokens)\n",
        "tokens[4]=' '\n",
        "print(tokens)"
      ],
      "metadata": {
        "colab": {
          "base_uri": "https://localhost:8080/"
        },
        "id": "-zVm1E3iCS_X",
        "outputId": "498723e7-6f28-4a60-fc79-c79df9eb4265"
      },
      "execution_count": null,
      "outputs": [
        {
          "output_type": "stream",
          "name": "stdout",
          "text": [
            "['<pad>', '<s>', '</s>', '<unk>', '|', 'e', 'a', 'i', 'o', 'n', 'z', 'r', 'w', 's', 't', 'c', 'y', 'p', 'd', 'k', 'm', 'j', 'u', 'l', 'b', 'g', 'ł', 'h', 'ą', 'ę', 'ż', 'ó', 'ś', 'ć', 'f', 'ń', 'ź', 'v', 'x', 'q', '1']\n",
            "['<pad>', '<s>', '</s>', '<unk>', ' ', 'e', 'a', 'i', 'o', 'n', 'z', 'r', 'w', 's', 't', 'c', 'y', 'p', 'd', 'k', 'm', 'j', 'u', 'l', 'b', 'g', 'ł', 'h', 'ą', 'ę', 'ż', 'ó', 'ś', 'ć', 'f', 'ń', 'ź', 'v', 'x', 'q', '1']\n"
          ]
        }
      ]
    },
    {
      "cell_type": "code",
      "source": [
        "decoder=build_ctcdecoder(tokens,'digits_op.arpa',alpha=0.5,beta=1.0)"
      ],
      "metadata": {
        "colab": {
          "base_uri": "https://localhost:8080/"
        },
        "id": "h3VlfedMCVXS",
        "outputId": "e5c69436-5c06-42cc-8734-67e2a30214d9"
      },
      "execution_count": null,
      "outputs": [
        {
          "output_type": "stream",
          "name": "stderr",
          "text": [
            "WARNING:pyctcdecode.alphabet:Found entries of length > 1 in alphabet. This is unusual unless style is BPE, but the alphabet was not recognized as BPE type. Is this correct?\n",
            "WARNING:pyctcdecode.language_model:Only 11 unigrams passed as vocabulary. Is this small or artificial data?\n"
          ]
        }
      ]
    },
    {
      "cell_type": "code",
      "source": [
        "trans={}\n",
        "for name,data in tqdm(files.items()):\n",
        "  feats=processor(data,sampling_rate=Fs,return_tensors='pt',padding=True).to('cuda')\n",
        "  out=model(input_values=feats.input_values)\n",
        "  sent=decoder.decode(out.logits.cpu().detach().numpy()[0])\n",
        "  trans[name]=sent"
      ],
      "metadata": {
        "colab": {
          "base_uri": "https://localhost:8080/"
        },
        "id": "EjlnA_uyEDTj",
        "outputId": "cca4566f-fa99-4c18-997c-d778eeb2af8d"
      },
      "execution_count": null,
      "outputs": [
        {
          "output_type": "stream",
          "name": "stderr",
          "text": [
            "100%|██████████| 10/10 [00:04<00:00,  2.04it/s]\n"
          ]
        }
      ]
    },
    {
      "cell_type": "code",
      "source": [
        "h=[]\n",
        "r=[]\n",
        "\n",
        "for name in trans.keys():\n",
        "  h.append(trans[name])\n",
        "  r.append(ref[name])\n",
        "\n",
        "print(jiwer.compute_measures(r,h))"
      ],
      "metadata": {
        "colab": {
          "base_uri": "https://localhost:8080/"
        },
        "id": "Frt0xwzBEGl_",
        "outputId": "4f2dfdcc-3f20-414c-a4bc-b8f08166eb76"
      },
      "execution_count": null,
      "outputs": [
        {
          "output_type": "stream",
          "name": "stdout",
          "text": [
            "{'wer': 0.08977556109725686, 'mer': 0.08977556109725686, 'wil': 0.16524643165954456, 'wip': 0.8347535683404554, 'hits': 365, 'substitutions': 33, 'deletions': 3, 'insertions': 0}\n"
          ]
        }
      ]
    },
    {
      "cell_type": "markdown",
      "source": [
        "Word error rate (WER) dla pierwszej kombinacji parametrów dekodera: 0.08977556109725686"
      ],
      "metadata": {
        "id": "PlakADRhEjzi"
      }
    },
    {
      "cell_type": "markdown",
      "source": [
        "#### 9.2.1 Alpha = 0.5, Beta = 1.0 i hotwords"
      ],
      "metadata": {
        "id": "ANp-hXTHFJ-i"
      }
    },
    {
      "cell_type": "code",
      "source": [
        "digits_op=['plus', 'minus', 'razy', 'zero','jeden','dwa','trzy','cztery','pięć','sześć','siedem','osiem','dziewięć', 'dziesięć', 'jedenaście', 'dwanaście', 'trzynaście', 'czternaście', 'piętnaście', 'szesnaście', 'siedemnaście', 'osiemnaście', 'dziewiętnaście', 'dwadzieścia', 'trzydzieści', 'czterdzieści', 'pięćdzisiąt', 'sześćdziesiąt', 'siedemdziesiąt', 'osiemdziesiąt', 'dzięwięćdziesiąt', 'sto']\n",
        "with open('digits_op.txt','w') as f:\n",
        "  for l in range(100):\n",
        "    f.write(' '.join([digits_op[x] for x in randint(0,10,10)])+'\\n')"
      ],
      "metadata": {
        "id": "bMQcytjxFIpp"
      },
      "execution_count": null,
      "outputs": []
    },
    {
      "cell_type": "code",
      "source": [
        "!ngram-count -text digits_op.txt -order 3 -wbdiscount -unk -lm digits_op.arpa"
      ],
      "metadata": {
        "id": "7RQSuEApFXKd"
      },
      "execution_count": null,
      "outputs": []
    },
    {
      "cell_type": "code",
      "source": [
        "tokens=[x[0] for x in sorted(processor.tokenizer.get_vocab().items(),key=lambda x:x[1])]\n",
        "tokens[4]=' '"
      ],
      "metadata": {
        "id": "6t80l2aNFbjg"
      },
      "execution_count": null,
      "outputs": []
    },
    {
      "cell_type": "code",
      "source": [
        "hotwords = ['plus', 'minus', 'razy']\n",
        "decoder=build_ctcdecoder(tokens,'digits_op.arpa',alpha=0.5,beta=1.0)"
      ],
      "metadata": {
        "colab": {
          "base_uri": "https://localhost:8080/"
        },
        "id": "JEjTak9BFdYM",
        "outputId": "b4e5eedc-2d48-41b9-9e34-7f63455c9505"
      },
      "execution_count": null,
      "outputs": [
        {
          "output_type": "stream",
          "name": "stderr",
          "text": [
            "WARNING:pyctcdecode.alphabet:Found entries of length > 1 in alphabet. This is unusual unless style is BPE, but the alphabet was not recognized as BPE type. Is this correct?\n",
            "WARNING:pyctcdecode.language_model:Only 11 unigrams passed as vocabulary. Is this small or artificial data?\n"
          ]
        }
      ]
    },
    {
      "cell_type": "code",
      "source": [
        "trans={}\n",
        "for name,data in tqdm(files.items()):\n",
        "  feats=processor(data,sampling_rate=Fs,return_tensors='pt',padding=True).to('cuda')\n",
        "  out=model(input_values=feats.input_values)\n",
        "  sent=decoder.decode(out.logits.cpu().detach().numpy()[0], hotwords=hotwords, hotword_weight=10.0)\n",
        "  trans[name]=sent"
      ],
      "metadata": {
        "colab": {
          "base_uri": "https://localhost:8080/"
        },
        "id": "1SooV5sfFuJn",
        "outputId": "f34f275d-19a8-4a55-fe26-f319d308e348"
      },
      "execution_count": null,
      "outputs": [
        {
          "output_type": "stream",
          "name": "stderr",
          "text": [
            "100%|██████████| 10/10 [00:04<00:00,  2.11it/s]\n"
          ]
        }
      ]
    },
    {
      "cell_type": "code",
      "source": [
        "h=[]\n",
        "r=[]\n",
        "\n",
        "for name in trans.keys():\n",
        "  h.append(trans[name])\n",
        "  r.append(ref[name])\n",
        "\n",
        "print(jiwer.compute_measures(r,h))"
      ],
      "metadata": {
        "colab": {
          "base_uri": "https://localhost:8080/"
        },
        "id": "TlitVtFsF-RX",
        "outputId": "b550def3-4eeb-4241-eee8-ba75617a2576"
      },
      "execution_count": null,
      "outputs": [
        {
          "output_type": "stream",
          "name": "stdout",
          "text": [
            "{'wer': 0.08229426433915212, 'mer': 0.08208955223880597, 'wil': 0.1553392637808464, 'wip': 0.8446607362191536, 'hits': 369, 'substitutions': 32, 'deletions': 0, 'insertions': 1}\n"
          ]
        }
      ]
    },
    {
      "cell_type": "markdown",
      "source": [
        "Word error rate (WER) dla drugiej kombinacji parametrów dekodera: 0.08229426433915212"
      ],
      "metadata": {
        "id": "Su74seNQGBEy"
      }
    },
    {
      "cell_type": "markdown",
      "source": [
        "### 9.3 Inne modele z serwisu Huggingface"
      ],
      "metadata": {
        "id": "GrB7C7r1EsGC"
      }
    },
    {
      "cell_type": "markdown",
      "source": [
        "Model: **HuBERT: Self-Supervised Speech Representation Learning by Masked Prediction of Hidden Units**"
      ],
      "metadata": {
        "id": "OsZTkHHxGneR"
      }
    },
    {
      "cell_type": "code",
      "source": [
        "#processor2 =Wav2Vec2Processor.from_pretrained('facebook/wav2vec2-base-10k-voxpopuli-ft-pl')\n",
        "#model2 =Wav2Vec2ForCTC.from_pretrained('facebook/wav2vec2-base-10k-voxpopuli-ft-pl').to('cuda')\n",
        "from transformers import Wav2Vec2Processor, HubertModel\n",
        "\n",
        "processor2 = Wav2Vec2Processor.from_pretrained(\"facebook/hubert-large-ls960-ft\")\n",
        "model2 = HubertModel.from_pretrained(\"facebook/hubert-large-ls960-ft\")"
      ],
      "metadata": {
        "colab": {
          "base_uri": "https://localhost:8080/",
          "height": 280,
          "referenced_widgets": [
            "f1181d52fc1d4885aa01f2d5fcff50dc",
            "ef5c42d4b9d640508fd0f72f504586f1",
            "9a214653bbf84084afe7c81727ee8405",
            "32f9105e7c3f42aeb90f327aea8021e2",
            "6dff886d3bd745739932c1cfc518f122",
            "f8d62f821e5c4f4c832a4380ea7a49a5",
            "7aa59a5da0124f78bbe5d7664d1dd542",
            "8e00252e99f14002a7dde8acce728402",
            "180df5c1f4f54e1fbd88ddea28afc608",
            "4ef9e220241247f6b018b6289599d6b4",
            "5fc900b192274645ade734187cb31020",
            "a024f5e0642b49d184c8f3916b339bb2",
            "27ddc4fede97488b978cfb02388204fd",
            "55495f51c13e41d6a563c45cd161fdf7",
            "609b20f0b8954542a3ab9bab58b91315",
            "75aa8ef5b41b419a96b5dd6f9a927246",
            "d3af351488af41e8a91d6290028d6a17",
            "0699289e3ffe43d3899df031b3129eda",
            "121f7f5dc1264f69b5411006dba90284",
            "8db918e0af884dc8b0e6486557db5ce7",
            "87fa0d40d5784e81a0d11da0a0dd8661",
            "43038e12c3e34190ab6c8f3c70008046",
            "9674ad75a2e24f67adfbd7a47fbbbe20",
            "5070f8f0106c49018394b241f17305e1",
            "5ef11095560b49d3ab6043b89fffc6d3",
            "9148620c23064e33957596c842126883",
            "0aae48c579f84f4884fe25dc7fe90b97",
            "d808017d67984c14953ffea703169c15",
            "2af10585901b4253906c6467c7a1e4b3",
            "1b9813059e1d485eb7e6350c05dfed7a",
            "a0d79f8825d442248c6bbb7a28d0d5ed",
            "cd94194f55734963bf73fa750f78ccfe",
            "34eb2cf1f25148bf892324c854590901",
            "e9e00b25a8d6491288a26cf2c12017d1",
            "5a63b9cf97b34f4698b46f1fee507330",
            "f2d122dc07764b65987ca3223891789e",
            "1687a4e62d83499a9a2ab7afb8f71bdc",
            "1e2cb86c48824e2bae003eb28690c136",
            "87b1d15d56fd42428965bebeaf9d1a2c",
            "0ca2ffb4451844a7a2f2f8fc520b27a3",
            "ddab5abf24c14d458a5e46e7e8853883",
            "c871f2610cbe412a87d100e110514b75",
            "dc1a7971474a4c13ad027514653c7a1f",
            "ef76ca32c3064cfda0779851332b1d16",
            "a8e18fe542d34ae991793f8a00593d71",
            "33ed41a63a244057b1a3143bc374eea2",
            "21aa53259f0a456dbb37f5af07b06ddf",
            "19b5b81539574fdba053f1cb0db5e187",
            "e8c556069b7e4b5492cccb68e0c64252",
            "680260787694441a8e50ce10fc11bc96",
            "985e6a0daa194f25a2d7f14fb20c6f79",
            "4f6a165ef1ee4a2893e0514a4a344925",
            "311798bd59064e209a49154858c0c601",
            "af2f6c3198494c8db56191455df01b2f",
            "60eb3f10a3d24ea6a6a4d0970f06ff34",
            "409f84a5f1d0417897d2627cbc06060e",
            "fb8bc1242c554182a98829d2139e0653",
            "036f7ae0e9f3446182a1d07539e8a117",
            "eb4a134bbfec468e8f88aae7a174ea6f",
            "bf5d29cba5034e4481c937329d092bb8",
            "112f37f93a9c4540903f8c138ee568a4",
            "a000770a8b9047ed9999d203366587dc",
            "c2e034c775624ba4820efff77e23da5c",
            "1131968099c4438bbf7d9075e5178a00",
            "821dbdf08431430bae0efee29587aa7f",
            "b70ef96c02824836aba179737258d300"
          ]
        },
        "id": "R_eW57AVGoGH",
        "outputId": "58a25a2b-91ac-4104-9df7-edcd6fa9db41"
      },
      "execution_count": null,
      "outputs": [
        {
          "output_type": "display_data",
          "data": {
            "text/plain": [
              "Downloading:   0%|          | 0.00/212 [00:00<?, ?B/s]"
            ],
            "application/vnd.jupyter.widget-view+json": {
              "version_major": 2,
              "version_minor": 0,
              "model_id": "f1181d52fc1d4885aa01f2d5fcff50dc"
            }
          },
          "metadata": {}
        },
        {
          "output_type": "display_data",
          "data": {
            "text/plain": [
              "Downloading:   0%|          | 0.00/138 [00:00<?, ?B/s]"
            ],
            "application/vnd.jupyter.widget-view+json": {
              "version_major": 2,
              "version_minor": 0,
              "model_id": "a024f5e0642b49d184c8f3916b339bb2"
            }
          },
          "metadata": {}
        },
        {
          "output_type": "display_data",
          "data": {
            "text/plain": [
              "Downloading:   0%|          | 0.00/1.38k [00:00<?, ?B/s]"
            ],
            "application/vnd.jupyter.widget-view+json": {
              "version_major": 2,
              "version_minor": 0,
              "model_id": "9674ad75a2e24f67adfbd7a47fbbbe20"
            }
          },
          "metadata": {}
        },
        {
          "output_type": "display_data",
          "data": {
            "text/plain": [
              "Downloading:   0%|          | 0.00/291 [00:00<?, ?B/s]"
            ],
            "application/vnd.jupyter.widget-view+json": {
              "version_major": 2,
              "version_minor": 0,
              "model_id": "e9e00b25a8d6491288a26cf2c12017d1"
            }
          },
          "metadata": {}
        },
        {
          "output_type": "display_data",
          "data": {
            "text/plain": [
              "Downloading:   0%|          | 0.00/85.0 [00:00<?, ?B/s]"
            ],
            "application/vnd.jupyter.widget-view+json": {
              "version_major": 2,
              "version_minor": 0,
              "model_id": "a8e18fe542d34ae991793f8a00593d71"
            }
          },
          "metadata": {}
        },
        {
          "output_type": "display_data",
          "data": {
            "text/plain": [
              "Downloading:   0%|          | 0.00/1.26G [00:00<?, ?B/s]"
            ],
            "application/vnd.jupyter.widget-view+json": {
              "version_major": 2,
              "version_minor": 0,
              "model_id": "409f84a5f1d0417897d2627cbc06060e"
            }
          },
          "metadata": {}
        },
        {
          "output_type": "stream",
          "name": "stderr",
          "text": [
            "Some weights of the model checkpoint at facebook/hubert-large-ls960-ft were not used when initializing HubertModel: ['lm_head.weight', 'lm_head.bias']\n",
            "- This IS expected if you are initializing HubertModel from the checkpoint of a model trained on another task or with another architecture (e.g. initializing a BertForSequenceClassification model from a BertForPreTraining model).\n",
            "- This IS NOT expected if you are initializing HubertModel from the checkpoint of a model that you expect to be exactly identical (initializing a BertForSequenceClassification model from a BertForSequenceClassification model).\n"
          ]
        }
      ]
    },
    {
      "cell_type": "code",
      "source": [
        "files={}\n",
        "for f in Path('nagrania').glob('*.wav'):\n",
        "  try:\n",
        "    data=read(str(f))\n",
        "    files[f.stem]=data.data.squeeze().astype('float32')\n",
        "  except Exception as e:\n",
        "    print(str(f), e)\n",
        "    pass"
      ],
      "metadata": {
        "id": "9u-eQlUJKnBN"
      },
      "execution_count": null,
      "outputs": []
    },
    {
      "cell_type": "code",
      "source": [
        "Fs=data.rate"
      ],
      "metadata": {
        "id": "5spfabGsKvV1"
      },
      "execution_count": null,
      "outputs": []
    },
    {
      "cell_type": "code",
      "source": [
        "trans={}\n",
        "for name,data in tqdm(files.items()):\n",
        "  feats=processor2(data,sampling_rate=Fs,return_tensors='pt',padding=True)\n",
        "  out=model2(input_values=feats.input_values)\n",
        "  predicted_ids=torch.argmax(out.logits,dim=-1)\n",
        "  sent=processor2.batch_decode(predicted_ids)[0]\n",
        "  trans[name]=sent"
      ],
      "metadata": {
        "colab": {
          "base_uri": "https://localhost:8080/"
        },
        "id": "iCXoJsUnHnx3",
        "outputId": "d7012e43-073a-44c3-a71d-cf8091ed0de6"
      },
      "execution_count": null,
      "outputs": [
        {
          "output_type": "stream",
          "name": "stderr",
          "text": [
            "\r  0%|          | 0/10 [00:00<?, ?it/s]"
          ]
        }
      ]
    },
    {
      "cell_type": "code",
      "source": [
        "ref={}\n",
        "with open('nagrania/text.txt') as f:\n",
        "  for l in f:\n",
        "    tok=l.strip().split()\n",
        "    ref[tok[0]]=' '.join(tok[1:])"
      ],
      "metadata": {
        "id": "nvF7ecuIH2em"
      },
      "execution_count": null,
      "outputs": []
    },
    {
      "cell_type": "code",
      "source": [
        "h=[]\n",
        "r=[]\n",
        "\n",
        "for name in trans.keys():\n",
        "\n",
        "  h.append(trans[name])\n",
        "  r.append(ref[name])\n",
        "\n",
        "print(jiwer.compute_measures(r,h))"
      ],
      "metadata": {
        "id": "vUbCusfUH8vB"
      },
      "execution_count": null,
      "outputs": []
    },
    {
      "cell_type": "markdown",
      "metadata": {
        "id": "uD0AFpkr_B8t"
      },
      "source": [
        "# Praca domowa\n",
        "\n",
        "## - na ocenę 3\n",
        "\n",
        "Zastosuj powyższe rozwiązanie na swoich nagraniach i wyświetl wyniki.\n",
        "\n",
        "## - na ocenę 4\n",
        "\n",
        "Dokonaj optymalizacji procesu w celu polepszenia wyniku (pokaż ile się udało poprawić). Spróbuj następujące rzeczy:\n",
        "\n",
        "- różne modele języka\n",
        "- różne parametry dekodera\n",
        "- inne modele z serwisu Huggingface\n",
        "\n",
        "## - na ocenę 5\n",
        "\n",
        "Połącz wynik rozpoznawania mowy z jakimś innym rozwiązaniem albo aplikacją.\n",
        "\n",
        "Na przykład: \n",
        "* zrób prosty kalkulator głosowy\n",
        "* zrób demonstracyjny dialog do zamawiania pizzy\n",
        "* połącz rozwiązanie z jakimś innym modelem NLP\n",
        "\n",
        "Rzuć okiem na https://huggingface.co/tasks oraz https://github.com/jonatasgrosman/huggingsound\n"
      ]
    },
    {
      "cell_type": "code",
      "execution_count": null,
      "metadata": {
        "id": "02qdoLF-Aocp"
      },
      "outputs": [],
      "source": []
    }
  ],
  "metadata": {
    "accelerator": "GPU",
    "colab": {
      "collapsed_sections": [],
      "provenance": []
    },
    "gpuClass": "standard",
    "kernelspec": {
      "display_name": "Python 3",
      "name": "python3"
    },
    "language_info": {
      "name": "python"
    },
    "widgets": {
      "application/vnd.jupyter.widget-state+json": {
        "9bf1a55d72b54a5cb6b3a6fd8f6b86c5": {
          "model_module": "@jupyter-widgets/controls",
          "model_name": "HBoxModel",
          "model_module_version": "1.5.0",
          "state": {
            "_dom_classes": [],
            "_model_module": "@jupyter-widgets/controls",
            "_model_module_version": "1.5.0",
            "_model_name": "HBoxModel",
            "_view_count": null,
            "_view_module": "@jupyter-widgets/controls",
            "_view_module_version": "1.5.0",
            "_view_name": "HBoxView",
            "box_style": "",
            "children": [
              "IPY_MODEL_8a216e27f36a41ad907139f6ea7d7f5b",
              "IPY_MODEL_13780f1896114454ab3a8b7239170436",
              "IPY_MODEL_f976ea7ad8d64c54874e1009767356a6"
            ],
            "layout": "IPY_MODEL_25aad994e9b74aecbdcb197676a9c8f8"
          }
        },
        "8a216e27f36a41ad907139f6ea7d7f5b": {
          "model_module": "@jupyter-widgets/controls",
          "model_name": "HTMLModel",
          "model_module_version": "1.5.0",
          "state": {
            "_dom_classes": [],
            "_model_module": "@jupyter-widgets/controls",
            "_model_module_version": "1.5.0",
            "_model_name": "HTMLModel",
            "_view_count": null,
            "_view_module": "@jupyter-widgets/controls",
            "_view_module_version": "1.5.0",
            "_view_name": "HTMLView",
            "description": "",
            "description_tooltip": null,
            "layout": "IPY_MODEL_93b31f68921a46e082c75a1662904be1",
            "placeholder": "​",
            "style": "IPY_MODEL_826ddd148db64a048bbd6c758c3280e0",
            "value": "Downloading: 100%"
          }
        },
        "13780f1896114454ab3a8b7239170436": {
          "model_module": "@jupyter-widgets/controls",
          "model_name": "FloatProgressModel",
          "model_module_version": "1.5.0",
          "state": {
            "_dom_classes": [],
            "_model_module": "@jupyter-widgets/controls",
            "_model_module_version": "1.5.0",
            "_model_name": "FloatProgressModel",
            "_view_count": null,
            "_view_module": "@jupyter-widgets/controls",
            "_view_module_version": "1.5.0",
            "_view_name": "ProgressView",
            "bar_style": "success",
            "description": "",
            "description_tooltip": null,
            "layout": "IPY_MODEL_97341d4fd9df42c3954c134f029bb59a",
            "max": 213,
            "min": 0,
            "orientation": "horizontal",
            "style": "IPY_MODEL_19582f7acaa6418381fb3496a18d2180",
            "value": 213
          }
        },
        "f976ea7ad8d64c54874e1009767356a6": {
          "model_module": "@jupyter-widgets/controls",
          "model_name": "HTMLModel",
          "model_module_version": "1.5.0",
          "state": {
            "_dom_classes": [],
            "_model_module": "@jupyter-widgets/controls",
            "_model_module_version": "1.5.0",
            "_model_name": "HTMLModel",
            "_view_count": null,
            "_view_module": "@jupyter-widgets/controls",
            "_view_module_version": "1.5.0",
            "_view_name": "HTMLView",
            "description": "",
            "description_tooltip": null,
            "layout": "IPY_MODEL_de9ee9f690f5422680c561a25aabfbb9",
            "placeholder": "​",
            "style": "IPY_MODEL_73a6ecbe4b1840a6a5bd0e563ac34933",
            "value": " 213/213 [00:00&lt;00:00, 6.66kB/s]"
          }
        },
        "25aad994e9b74aecbdcb197676a9c8f8": {
          "model_module": "@jupyter-widgets/base",
          "model_name": "LayoutModel",
          "model_module_version": "1.2.0",
          "state": {
            "_model_module": "@jupyter-widgets/base",
            "_model_module_version": "1.2.0",
            "_model_name": "LayoutModel",
            "_view_count": null,
            "_view_module": "@jupyter-widgets/base",
            "_view_module_version": "1.2.0",
            "_view_name": "LayoutView",
            "align_content": null,
            "align_items": null,
            "align_self": null,
            "border": null,
            "bottom": null,
            "display": null,
            "flex": null,
            "flex_flow": null,
            "grid_area": null,
            "grid_auto_columns": null,
            "grid_auto_flow": null,
            "grid_auto_rows": null,
            "grid_column": null,
            "grid_gap": null,
            "grid_row": null,
            "grid_template_areas": null,
            "grid_template_columns": null,
            "grid_template_rows": null,
            "height": null,
            "justify_content": null,
            "justify_items": null,
            "left": null,
            "margin": null,
            "max_height": null,
            "max_width": null,
            "min_height": null,
            "min_width": null,
            "object_fit": null,
            "object_position": null,
            "order": null,
            "overflow": null,
            "overflow_x": null,
            "overflow_y": null,
            "padding": null,
            "right": null,
            "top": null,
            "visibility": null,
            "width": null
          }
        },
        "93b31f68921a46e082c75a1662904be1": {
          "model_module": "@jupyter-widgets/base",
          "model_name": "LayoutModel",
          "model_module_version": "1.2.0",
          "state": {
            "_model_module": "@jupyter-widgets/base",
            "_model_module_version": "1.2.0",
            "_model_name": "LayoutModel",
            "_view_count": null,
            "_view_module": "@jupyter-widgets/base",
            "_view_module_version": "1.2.0",
            "_view_name": "LayoutView",
            "align_content": null,
            "align_items": null,
            "align_self": null,
            "border": null,
            "bottom": null,
            "display": null,
            "flex": null,
            "flex_flow": null,
            "grid_area": null,
            "grid_auto_columns": null,
            "grid_auto_flow": null,
            "grid_auto_rows": null,
            "grid_column": null,
            "grid_gap": null,
            "grid_row": null,
            "grid_template_areas": null,
            "grid_template_columns": null,
            "grid_template_rows": null,
            "height": null,
            "justify_content": null,
            "justify_items": null,
            "left": null,
            "margin": null,
            "max_height": null,
            "max_width": null,
            "min_height": null,
            "min_width": null,
            "object_fit": null,
            "object_position": null,
            "order": null,
            "overflow": null,
            "overflow_x": null,
            "overflow_y": null,
            "padding": null,
            "right": null,
            "top": null,
            "visibility": null,
            "width": null
          }
        },
        "826ddd148db64a048bbd6c758c3280e0": {
          "model_module": "@jupyter-widgets/controls",
          "model_name": "DescriptionStyleModel",
          "model_module_version": "1.5.0",
          "state": {
            "_model_module": "@jupyter-widgets/controls",
            "_model_module_version": "1.5.0",
            "_model_name": "DescriptionStyleModel",
            "_view_count": null,
            "_view_module": "@jupyter-widgets/base",
            "_view_module_version": "1.2.0",
            "_view_name": "StyleView",
            "description_width": ""
          }
        },
        "97341d4fd9df42c3954c134f029bb59a": {
          "model_module": "@jupyter-widgets/base",
          "model_name": "LayoutModel",
          "model_module_version": "1.2.0",
          "state": {
            "_model_module": "@jupyter-widgets/base",
            "_model_module_version": "1.2.0",
            "_model_name": "LayoutModel",
            "_view_count": null,
            "_view_module": "@jupyter-widgets/base",
            "_view_module_version": "1.2.0",
            "_view_name": "LayoutView",
            "align_content": null,
            "align_items": null,
            "align_self": null,
            "border": null,
            "bottom": null,
            "display": null,
            "flex": null,
            "flex_flow": null,
            "grid_area": null,
            "grid_auto_columns": null,
            "grid_auto_flow": null,
            "grid_auto_rows": null,
            "grid_column": null,
            "grid_gap": null,
            "grid_row": null,
            "grid_template_areas": null,
            "grid_template_columns": null,
            "grid_template_rows": null,
            "height": null,
            "justify_content": null,
            "justify_items": null,
            "left": null,
            "margin": null,
            "max_height": null,
            "max_width": null,
            "min_height": null,
            "min_width": null,
            "object_fit": null,
            "object_position": null,
            "order": null,
            "overflow": null,
            "overflow_x": null,
            "overflow_y": null,
            "padding": null,
            "right": null,
            "top": null,
            "visibility": null,
            "width": null
          }
        },
        "19582f7acaa6418381fb3496a18d2180": {
          "model_module": "@jupyter-widgets/controls",
          "model_name": "ProgressStyleModel",
          "model_module_version": "1.5.0",
          "state": {
            "_model_module": "@jupyter-widgets/controls",
            "_model_module_version": "1.5.0",
            "_model_name": "ProgressStyleModel",
            "_view_count": null,
            "_view_module": "@jupyter-widgets/base",
            "_view_module_version": "1.2.0",
            "_view_name": "StyleView",
            "bar_color": null,
            "description_width": ""
          }
        },
        "de9ee9f690f5422680c561a25aabfbb9": {
          "model_module": "@jupyter-widgets/base",
          "model_name": "LayoutModel",
          "model_module_version": "1.2.0",
          "state": {
            "_model_module": "@jupyter-widgets/base",
            "_model_module_version": "1.2.0",
            "_model_name": "LayoutModel",
            "_view_count": null,
            "_view_module": "@jupyter-widgets/base",
            "_view_module_version": "1.2.0",
            "_view_name": "LayoutView",
            "align_content": null,
            "align_items": null,
            "align_self": null,
            "border": null,
            "bottom": null,
            "display": null,
            "flex": null,
            "flex_flow": null,
            "grid_area": null,
            "grid_auto_columns": null,
            "grid_auto_flow": null,
            "grid_auto_rows": null,
            "grid_column": null,
            "grid_gap": null,
            "grid_row": null,
            "grid_template_areas": null,
            "grid_template_columns": null,
            "grid_template_rows": null,
            "height": null,
            "justify_content": null,
            "justify_items": null,
            "left": null,
            "margin": null,
            "max_height": null,
            "max_width": null,
            "min_height": null,
            "min_width": null,
            "object_fit": null,
            "object_position": null,
            "order": null,
            "overflow": null,
            "overflow_x": null,
            "overflow_y": null,
            "padding": null,
            "right": null,
            "top": null,
            "visibility": null,
            "width": null
          }
        },
        "73a6ecbe4b1840a6a5bd0e563ac34933": {
          "model_module": "@jupyter-widgets/controls",
          "model_name": "DescriptionStyleModel",
          "model_module_version": "1.5.0",
          "state": {
            "_model_module": "@jupyter-widgets/controls",
            "_model_module_version": "1.5.0",
            "_model_name": "DescriptionStyleModel",
            "_view_count": null,
            "_view_module": "@jupyter-widgets/base",
            "_view_module_version": "1.2.0",
            "_view_name": "StyleView",
            "description_width": ""
          }
        },
        "582dfdf7272b4d94a0af1511bbd49e12": {
          "model_module": "@jupyter-widgets/controls",
          "model_name": "HBoxModel",
          "model_module_version": "1.5.0",
          "state": {
            "_dom_classes": [],
            "_model_module": "@jupyter-widgets/controls",
            "_model_module_version": "1.5.0",
            "_model_name": "HBoxModel",
            "_view_count": null,
            "_view_module": "@jupyter-widgets/controls",
            "_view_module_version": "1.5.0",
            "_view_name": "HBoxView",
            "box_style": "",
            "children": [
              "IPY_MODEL_9008ad65c8c44f11892cddc961f087eb",
              "IPY_MODEL_932390c3c18e4bf68d111a4cb08cc238",
              "IPY_MODEL_4ba9b7cf0546446f88344b1204fbe673"
            ],
            "layout": "IPY_MODEL_2aa303145bba40fcbf7cf884f680ae95"
          }
        },
        "9008ad65c8c44f11892cddc961f087eb": {
          "model_module": "@jupyter-widgets/controls",
          "model_name": "HTMLModel",
          "model_module_version": "1.5.0",
          "state": {
            "_dom_classes": [],
            "_model_module": "@jupyter-widgets/controls",
            "_model_module_version": "1.5.0",
            "_model_name": "HTMLModel",
            "_view_count": null,
            "_view_module": "@jupyter-widgets/controls",
            "_view_module_version": "1.5.0",
            "_view_name": "HTMLView",
            "description": "",
            "description_tooltip": null,
            "layout": "IPY_MODEL_57740621d75f4bf98f0bb79eefbbb433",
            "placeholder": "​",
            "style": "IPY_MODEL_b7841c54f5304cccb57d8b3c856c2db7",
            "value": "Downloading: 100%"
          }
        },
        "932390c3c18e4bf68d111a4cb08cc238": {
          "model_module": "@jupyter-widgets/controls",
          "model_name": "FloatProgressModel",
          "model_module_version": "1.5.0",
          "state": {
            "_dom_classes": [],
            "_model_module": "@jupyter-widgets/controls",
            "_model_module_version": "1.5.0",
            "_model_name": "FloatProgressModel",
            "_view_count": null,
            "_view_module": "@jupyter-widgets/controls",
            "_view_module_version": "1.5.0",
            "_view_name": "ProgressView",
            "bar_style": "success",
            "description": "",
            "description_tooltip": null,
            "layout": "IPY_MODEL_f1c7354504824934ae691a365c4b6c03",
            "max": 138,
            "min": 0,
            "orientation": "horizontal",
            "style": "IPY_MODEL_3fd189423122418699e69b9e9210c9c2",
            "value": 138
          }
        },
        "4ba9b7cf0546446f88344b1204fbe673": {
          "model_module": "@jupyter-widgets/controls",
          "model_name": "HTMLModel",
          "model_module_version": "1.5.0",
          "state": {
            "_dom_classes": [],
            "_model_module": "@jupyter-widgets/controls",
            "_model_module_version": "1.5.0",
            "_model_name": "HTMLModel",
            "_view_count": null,
            "_view_module": "@jupyter-widgets/controls",
            "_view_module_version": "1.5.0",
            "_view_name": "HTMLView",
            "description": "",
            "description_tooltip": null,
            "layout": "IPY_MODEL_e7a8800f7b49406cb2a181d211100d8f",
            "placeholder": "​",
            "style": "IPY_MODEL_d17b20d0c4fa42278c47d46275e5dd42",
            "value": " 138/138 [00:00&lt;00:00, 1.02kB/s]"
          }
        },
        "2aa303145bba40fcbf7cf884f680ae95": {
          "model_module": "@jupyter-widgets/base",
          "model_name": "LayoutModel",
          "model_module_version": "1.2.0",
          "state": {
            "_model_module": "@jupyter-widgets/base",
            "_model_module_version": "1.2.0",
            "_model_name": "LayoutModel",
            "_view_count": null,
            "_view_module": "@jupyter-widgets/base",
            "_view_module_version": "1.2.0",
            "_view_name": "LayoutView",
            "align_content": null,
            "align_items": null,
            "align_self": null,
            "border": null,
            "bottom": null,
            "display": null,
            "flex": null,
            "flex_flow": null,
            "grid_area": null,
            "grid_auto_columns": null,
            "grid_auto_flow": null,
            "grid_auto_rows": null,
            "grid_column": null,
            "grid_gap": null,
            "grid_row": null,
            "grid_template_areas": null,
            "grid_template_columns": null,
            "grid_template_rows": null,
            "height": null,
            "justify_content": null,
            "justify_items": null,
            "left": null,
            "margin": null,
            "max_height": null,
            "max_width": null,
            "min_height": null,
            "min_width": null,
            "object_fit": null,
            "object_position": null,
            "order": null,
            "overflow": null,
            "overflow_x": null,
            "overflow_y": null,
            "padding": null,
            "right": null,
            "top": null,
            "visibility": null,
            "width": null
          }
        },
        "57740621d75f4bf98f0bb79eefbbb433": {
          "model_module": "@jupyter-widgets/base",
          "model_name": "LayoutModel",
          "model_module_version": "1.2.0",
          "state": {
            "_model_module": "@jupyter-widgets/base",
            "_model_module_version": "1.2.0",
            "_model_name": "LayoutModel",
            "_view_count": null,
            "_view_module": "@jupyter-widgets/base",
            "_view_module_version": "1.2.0",
            "_view_name": "LayoutView",
            "align_content": null,
            "align_items": null,
            "align_self": null,
            "border": null,
            "bottom": null,
            "display": null,
            "flex": null,
            "flex_flow": null,
            "grid_area": null,
            "grid_auto_columns": null,
            "grid_auto_flow": null,
            "grid_auto_rows": null,
            "grid_column": null,
            "grid_gap": null,
            "grid_row": null,
            "grid_template_areas": null,
            "grid_template_columns": null,
            "grid_template_rows": null,
            "height": null,
            "justify_content": null,
            "justify_items": null,
            "left": null,
            "margin": null,
            "max_height": null,
            "max_width": null,
            "min_height": null,
            "min_width": null,
            "object_fit": null,
            "object_position": null,
            "order": null,
            "overflow": null,
            "overflow_x": null,
            "overflow_y": null,
            "padding": null,
            "right": null,
            "top": null,
            "visibility": null,
            "width": null
          }
        },
        "b7841c54f5304cccb57d8b3c856c2db7": {
          "model_module": "@jupyter-widgets/controls",
          "model_name": "DescriptionStyleModel",
          "model_module_version": "1.5.0",
          "state": {
            "_model_module": "@jupyter-widgets/controls",
            "_model_module_version": "1.5.0",
            "_model_name": "DescriptionStyleModel",
            "_view_count": null,
            "_view_module": "@jupyter-widgets/base",
            "_view_module_version": "1.2.0",
            "_view_name": "StyleView",
            "description_width": ""
          }
        },
        "f1c7354504824934ae691a365c4b6c03": {
          "model_module": "@jupyter-widgets/base",
          "model_name": "LayoutModel",
          "model_module_version": "1.2.0",
          "state": {
            "_model_module": "@jupyter-widgets/base",
            "_model_module_version": "1.2.0",
            "_model_name": "LayoutModel",
            "_view_count": null,
            "_view_module": "@jupyter-widgets/base",
            "_view_module_version": "1.2.0",
            "_view_name": "LayoutView",
            "align_content": null,
            "align_items": null,
            "align_self": null,
            "border": null,
            "bottom": null,
            "display": null,
            "flex": null,
            "flex_flow": null,
            "grid_area": null,
            "grid_auto_columns": null,
            "grid_auto_flow": null,
            "grid_auto_rows": null,
            "grid_column": null,
            "grid_gap": null,
            "grid_row": null,
            "grid_template_areas": null,
            "grid_template_columns": null,
            "grid_template_rows": null,
            "height": null,
            "justify_content": null,
            "justify_items": null,
            "left": null,
            "margin": null,
            "max_height": null,
            "max_width": null,
            "min_height": null,
            "min_width": null,
            "object_fit": null,
            "object_position": null,
            "order": null,
            "overflow": null,
            "overflow_x": null,
            "overflow_y": null,
            "padding": null,
            "right": null,
            "top": null,
            "visibility": null,
            "width": null
          }
        },
        "3fd189423122418699e69b9e9210c9c2": {
          "model_module": "@jupyter-widgets/controls",
          "model_name": "ProgressStyleModel",
          "model_module_version": "1.5.0",
          "state": {
            "_model_module": "@jupyter-widgets/controls",
            "_model_module_version": "1.5.0",
            "_model_name": "ProgressStyleModel",
            "_view_count": null,
            "_view_module": "@jupyter-widgets/base",
            "_view_module_version": "1.2.0",
            "_view_name": "StyleView",
            "bar_color": null,
            "description_width": ""
          }
        },
        "e7a8800f7b49406cb2a181d211100d8f": {
          "model_module": "@jupyter-widgets/base",
          "model_name": "LayoutModel",
          "model_module_version": "1.2.0",
          "state": {
            "_model_module": "@jupyter-widgets/base",
            "_model_module_version": "1.2.0",
            "_model_name": "LayoutModel",
            "_view_count": null,
            "_view_module": "@jupyter-widgets/base",
            "_view_module_version": "1.2.0",
            "_view_name": "LayoutView",
            "align_content": null,
            "align_items": null,
            "align_self": null,
            "border": null,
            "bottom": null,
            "display": null,
            "flex": null,
            "flex_flow": null,
            "grid_area": null,
            "grid_auto_columns": null,
            "grid_auto_flow": null,
            "grid_auto_rows": null,
            "grid_column": null,
            "grid_gap": null,
            "grid_row": null,
            "grid_template_areas": null,
            "grid_template_columns": null,
            "grid_template_rows": null,
            "height": null,
            "justify_content": null,
            "justify_items": null,
            "left": null,
            "margin": null,
            "max_height": null,
            "max_width": null,
            "min_height": null,
            "min_width": null,
            "object_fit": null,
            "object_position": null,
            "order": null,
            "overflow": null,
            "overflow_x": null,
            "overflow_y": null,
            "padding": null,
            "right": null,
            "top": null,
            "visibility": null,
            "width": null
          }
        },
        "d17b20d0c4fa42278c47d46275e5dd42": {
          "model_module": "@jupyter-widgets/controls",
          "model_name": "DescriptionStyleModel",
          "model_module_version": "1.5.0",
          "state": {
            "_model_module": "@jupyter-widgets/controls",
            "_model_module_version": "1.5.0",
            "_model_name": "DescriptionStyleModel",
            "_view_count": null,
            "_view_module": "@jupyter-widgets/base",
            "_view_module_version": "1.2.0",
            "_view_name": "StyleView",
            "description_width": ""
          }
        },
        "8874f17a5f60484e84e4b22e2f170c60": {
          "model_module": "@jupyter-widgets/controls",
          "model_name": "HBoxModel",
          "model_module_version": "1.5.0",
          "state": {
            "_dom_classes": [],
            "_model_module": "@jupyter-widgets/controls",
            "_model_module_version": "1.5.0",
            "_model_name": "HBoxModel",
            "_view_count": null,
            "_view_module": "@jupyter-widgets/controls",
            "_view_module_version": "1.5.0",
            "_view_name": "HBoxView",
            "box_style": "",
            "children": [
              "IPY_MODEL_e70e12d528364f509f9ab45047229588",
              "IPY_MODEL_29e398e617244c82b91de246e0d3209e",
              "IPY_MODEL_4209013ea9a24a18a58f4387044966bb"
            ],
            "layout": "IPY_MODEL_3a2264c73bde408b97129fd0e0e91577"
          }
        },
        "e70e12d528364f509f9ab45047229588": {
          "model_module": "@jupyter-widgets/controls",
          "model_name": "HTMLModel",
          "model_module_version": "1.5.0",
          "state": {
            "_dom_classes": [],
            "_model_module": "@jupyter-widgets/controls",
            "_model_module_version": "1.5.0",
            "_model_name": "HTMLModel",
            "_view_count": null,
            "_view_module": "@jupyter-widgets/controls",
            "_view_module_version": "1.5.0",
            "_view_name": "HTMLView",
            "description": "",
            "description_tooltip": null,
            "layout": "IPY_MODEL_69d115ccc9f34e55a332972e5b5e2a9a",
            "placeholder": "​",
            "style": "IPY_MODEL_81fdcf77d1ed4f20af5f58cf67be2415",
            "value": "Downloading: 100%"
          }
        },
        "29e398e617244c82b91de246e0d3209e": {
          "model_module": "@jupyter-widgets/controls",
          "model_name": "FloatProgressModel",
          "model_module_version": "1.5.0",
          "state": {
            "_dom_classes": [],
            "_model_module": "@jupyter-widgets/controls",
            "_model_module_version": "1.5.0",
            "_model_name": "FloatProgressModel",
            "_view_count": null,
            "_view_module": "@jupyter-widgets/controls",
            "_view_module_version": "1.5.0",
            "_view_name": "ProgressView",
            "bar_style": "success",
            "description": "",
            "description_tooltip": null,
            "layout": "IPY_MODEL_372da07c6add4f658f250a500c968c39",
            "max": 1295,
            "min": 0,
            "orientation": "horizontal",
            "style": "IPY_MODEL_0a79e980164f465aa6e4bf89e6ba4132",
            "value": 1295
          }
        },
        "4209013ea9a24a18a58f4387044966bb": {
          "model_module": "@jupyter-widgets/controls",
          "model_name": "HTMLModel",
          "model_module_version": "1.5.0",
          "state": {
            "_dom_classes": [],
            "_model_module": "@jupyter-widgets/controls",
            "_model_module_version": "1.5.0",
            "_model_name": "HTMLModel",
            "_view_count": null,
            "_view_module": "@jupyter-widgets/controls",
            "_view_module_version": "1.5.0",
            "_view_name": "HTMLView",
            "description": "",
            "description_tooltip": null,
            "layout": "IPY_MODEL_ec36ca3348b643bda6f6a1c3dd7e3ec8",
            "placeholder": "​",
            "style": "IPY_MODEL_515830806b98499fbe578f77506cf7cf",
            "value": " 1.29k/1.29k [00:00&lt;00:00, 2.33kB/s]"
          }
        },
        "3a2264c73bde408b97129fd0e0e91577": {
          "model_module": "@jupyter-widgets/base",
          "model_name": "LayoutModel",
          "model_module_version": "1.2.0",
          "state": {
            "_model_module": "@jupyter-widgets/base",
            "_model_module_version": "1.2.0",
            "_model_name": "LayoutModel",
            "_view_count": null,
            "_view_module": "@jupyter-widgets/base",
            "_view_module_version": "1.2.0",
            "_view_name": "LayoutView",
            "align_content": null,
            "align_items": null,
            "align_self": null,
            "border": null,
            "bottom": null,
            "display": null,
            "flex": null,
            "flex_flow": null,
            "grid_area": null,
            "grid_auto_columns": null,
            "grid_auto_flow": null,
            "grid_auto_rows": null,
            "grid_column": null,
            "grid_gap": null,
            "grid_row": null,
            "grid_template_areas": null,
            "grid_template_columns": null,
            "grid_template_rows": null,
            "height": null,
            "justify_content": null,
            "justify_items": null,
            "left": null,
            "margin": null,
            "max_height": null,
            "max_width": null,
            "min_height": null,
            "min_width": null,
            "object_fit": null,
            "object_position": null,
            "order": null,
            "overflow": null,
            "overflow_x": null,
            "overflow_y": null,
            "padding": null,
            "right": null,
            "top": null,
            "visibility": null,
            "width": null
          }
        },
        "69d115ccc9f34e55a332972e5b5e2a9a": {
          "model_module": "@jupyter-widgets/base",
          "model_name": "LayoutModel",
          "model_module_version": "1.2.0",
          "state": {
            "_model_module": "@jupyter-widgets/base",
            "_model_module_version": "1.2.0",
            "_model_name": "LayoutModel",
            "_view_count": null,
            "_view_module": "@jupyter-widgets/base",
            "_view_module_version": "1.2.0",
            "_view_name": "LayoutView",
            "align_content": null,
            "align_items": null,
            "align_self": null,
            "border": null,
            "bottom": null,
            "display": null,
            "flex": null,
            "flex_flow": null,
            "grid_area": null,
            "grid_auto_columns": null,
            "grid_auto_flow": null,
            "grid_auto_rows": null,
            "grid_column": null,
            "grid_gap": null,
            "grid_row": null,
            "grid_template_areas": null,
            "grid_template_columns": null,
            "grid_template_rows": null,
            "height": null,
            "justify_content": null,
            "justify_items": null,
            "left": null,
            "margin": null,
            "max_height": null,
            "max_width": null,
            "min_height": null,
            "min_width": null,
            "object_fit": null,
            "object_position": null,
            "order": null,
            "overflow": null,
            "overflow_x": null,
            "overflow_y": null,
            "padding": null,
            "right": null,
            "top": null,
            "visibility": null,
            "width": null
          }
        },
        "81fdcf77d1ed4f20af5f58cf67be2415": {
          "model_module": "@jupyter-widgets/controls",
          "model_name": "DescriptionStyleModel",
          "model_module_version": "1.5.0",
          "state": {
            "_model_module": "@jupyter-widgets/controls",
            "_model_module_version": "1.5.0",
            "_model_name": "DescriptionStyleModel",
            "_view_count": null,
            "_view_module": "@jupyter-widgets/base",
            "_view_module_version": "1.2.0",
            "_view_name": "StyleView",
            "description_width": ""
          }
        },
        "372da07c6add4f658f250a500c968c39": {
          "model_module": "@jupyter-widgets/base",
          "model_name": "LayoutModel",
          "model_module_version": "1.2.0",
          "state": {
            "_model_module": "@jupyter-widgets/base",
            "_model_module_version": "1.2.0",
            "_model_name": "LayoutModel",
            "_view_count": null,
            "_view_module": "@jupyter-widgets/base",
            "_view_module_version": "1.2.0",
            "_view_name": "LayoutView",
            "align_content": null,
            "align_items": null,
            "align_self": null,
            "border": null,
            "bottom": null,
            "display": null,
            "flex": null,
            "flex_flow": null,
            "grid_area": null,
            "grid_auto_columns": null,
            "grid_auto_flow": null,
            "grid_auto_rows": null,
            "grid_column": null,
            "grid_gap": null,
            "grid_row": null,
            "grid_template_areas": null,
            "grid_template_columns": null,
            "grid_template_rows": null,
            "height": null,
            "justify_content": null,
            "justify_items": null,
            "left": null,
            "margin": null,
            "max_height": null,
            "max_width": null,
            "min_height": null,
            "min_width": null,
            "object_fit": null,
            "object_position": null,
            "order": null,
            "overflow": null,
            "overflow_x": null,
            "overflow_y": null,
            "padding": null,
            "right": null,
            "top": null,
            "visibility": null,
            "width": null
          }
        },
        "0a79e980164f465aa6e4bf89e6ba4132": {
          "model_module": "@jupyter-widgets/controls",
          "model_name": "ProgressStyleModel",
          "model_module_version": "1.5.0",
          "state": {
            "_model_module": "@jupyter-widgets/controls",
            "_model_module_version": "1.5.0",
            "_model_name": "ProgressStyleModel",
            "_view_count": null,
            "_view_module": "@jupyter-widgets/base",
            "_view_module_version": "1.2.0",
            "_view_name": "StyleView",
            "bar_color": null,
            "description_width": ""
          }
        },
        "ec36ca3348b643bda6f6a1c3dd7e3ec8": {
          "model_module": "@jupyter-widgets/base",
          "model_name": "LayoutModel",
          "model_module_version": "1.2.0",
          "state": {
            "_model_module": "@jupyter-widgets/base",
            "_model_module_version": "1.2.0",
            "_model_name": "LayoutModel",
            "_view_count": null,
            "_view_module": "@jupyter-widgets/base",
            "_view_module_version": "1.2.0",
            "_view_name": "LayoutView",
            "align_content": null,
            "align_items": null,
            "align_self": null,
            "border": null,
            "bottom": null,
            "display": null,
            "flex": null,
            "flex_flow": null,
            "grid_area": null,
            "grid_auto_columns": null,
            "grid_auto_flow": null,
            "grid_auto_rows": null,
            "grid_column": null,
            "grid_gap": null,
            "grid_row": null,
            "grid_template_areas": null,
            "grid_template_columns": null,
            "grid_template_rows": null,
            "height": null,
            "justify_content": null,
            "justify_items": null,
            "left": null,
            "margin": null,
            "max_height": null,
            "max_width": null,
            "min_height": null,
            "min_width": null,
            "object_fit": null,
            "object_position": null,
            "order": null,
            "overflow": null,
            "overflow_x": null,
            "overflow_y": null,
            "padding": null,
            "right": null,
            "top": null,
            "visibility": null,
            "width": null
          }
        },
        "515830806b98499fbe578f77506cf7cf": {
          "model_module": "@jupyter-widgets/controls",
          "model_name": "DescriptionStyleModel",
          "model_module_version": "1.5.0",
          "state": {
            "_model_module": "@jupyter-widgets/controls",
            "_model_module_version": "1.5.0",
            "_model_name": "DescriptionStyleModel",
            "_view_count": null,
            "_view_module": "@jupyter-widgets/base",
            "_view_module_version": "1.2.0",
            "_view_name": "StyleView",
            "description_width": ""
          }
        },
        "c6145d71599e43cebad6930b70e8ea5d": {
          "model_module": "@jupyter-widgets/controls",
          "model_name": "HBoxModel",
          "model_module_version": "1.5.0",
          "state": {
            "_dom_classes": [],
            "_model_module": "@jupyter-widgets/controls",
            "_model_module_version": "1.5.0",
            "_model_name": "HBoxModel",
            "_view_count": null,
            "_view_module": "@jupyter-widgets/controls",
            "_view_module_version": "1.5.0",
            "_view_name": "HBoxView",
            "box_style": "",
            "children": [
              "IPY_MODEL_e111c33467c74e3c81158a4e3d4ff56c",
              "IPY_MODEL_be24fb24d6894dc0b499f3115ac6005e",
              "IPY_MODEL_e39c0af8d0974059931ae7ea93aca4ca"
            ],
            "layout": "IPY_MODEL_b9caaf5605754a8ab2d1494c06a55816"
          }
        },
        "e111c33467c74e3c81158a4e3d4ff56c": {
          "model_module": "@jupyter-widgets/controls",
          "model_name": "HTMLModel",
          "model_module_version": "1.5.0",
          "state": {
            "_dom_classes": [],
            "_model_module": "@jupyter-widgets/controls",
            "_model_module_version": "1.5.0",
            "_model_name": "HTMLModel",
            "_view_count": null,
            "_view_module": "@jupyter-widgets/controls",
            "_view_module_version": "1.5.0",
            "_view_name": "HTMLView",
            "description": "",
            "description_tooltip": null,
            "layout": "IPY_MODEL_184c693108e840f18aae3d713c462470",
            "placeholder": "​",
            "style": "IPY_MODEL_b61d94541d464bb4a49bc2a825a86880",
            "value": "Downloading: 100%"
          }
        },
        "be24fb24d6894dc0b499f3115ac6005e": {
          "model_module": "@jupyter-widgets/controls",
          "model_name": "FloatProgressModel",
          "model_module_version": "1.5.0",
          "state": {
            "_dom_classes": [],
            "_model_module": "@jupyter-widgets/controls",
            "_model_module_version": "1.5.0",
            "_model_name": "FloatProgressModel",
            "_view_count": null,
            "_view_module": "@jupyter-widgets/controls",
            "_view_module_version": "1.5.0",
            "_view_name": "ProgressView",
            "bar_style": "success",
            "description": "",
            "description_tooltip": null,
            "layout": "IPY_MODEL_05d181ac346b4e4b94b3c69bacb01472",
            "max": 381,
            "min": 0,
            "orientation": "horizontal",
            "style": "IPY_MODEL_4351d995928a48d985f1fe5241607666",
            "value": 381
          }
        },
        "e39c0af8d0974059931ae7ea93aca4ca": {
          "model_module": "@jupyter-widgets/controls",
          "model_name": "HTMLModel",
          "model_module_version": "1.5.0",
          "state": {
            "_dom_classes": [],
            "_model_module": "@jupyter-widgets/controls",
            "_model_module_version": "1.5.0",
            "_model_name": "HTMLModel",
            "_view_count": null,
            "_view_module": "@jupyter-widgets/controls",
            "_view_module_version": "1.5.0",
            "_view_name": "HTMLView",
            "description": "",
            "description_tooltip": null,
            "layout": "IPY_MODEL_b10e07b7265c4d6e896794e9c2efae7d",
            "placeholder": "​",
            "style": "IPY_MODEL_803ee0cb11664d489d49db9868b6a016",
            "value": " 381/381 [00:00&lt;00:00, 4.73kB/s]"
          }
        },
        "b9caaf5605754a8ab2d1494c06a55816": {
          "model_module": "@jupyter-widgets/base",
          "model_name": "LayoutModel",
          "model_module_version": "1.2.0",
          "state": {
            "_model_module": "@jupyter-widgets/base",
            "_model_module_version": "1.2.0",
            "_model_name": "LayoutModel",
            "_view_count": null,
            "_view_module": "@jupyter-widgets/base",
            "_view_module_version": "1.2.0",
            "_view_name": "LayoutView",
            "align_content": null,
            "align_items": null,
            "align_self": null,
            "border": null,
            "bottom": null,
            "display": null,
            "flex": null,
            "flex_flow": null,
            "grid_area": null,
            "grid_auto_columns": null,
            "grid_auto_flow": null,
            "grid_auto_rows": null,
            "grid_column": null,
            "grid_gap": null,
            "grid_row": null,
            "grid_template_areas": null,
            "grid_template_columns": null,
            "grid_template_rows": null,
            "height": null,
            "justify_content": null,
            "justify_items": null,
            "left": null,
            "margin": null,
            "max_height": null,
            "max_width": null,
            "min_height": null,
            "min_width": null,
            "object_fit": null,
            "object_position": null,
            "order": null,
            "overflow": null,
            "overflow_x": null,
            "overflow_y": null,
            "padding": null,
            "right": null,
            "top": null,
            "visibility": null,
            "width": null
          }
        },
        "184c693108e840f18aae3d713c462470": {
          "model_module": "@jupyter-widgets/base",
          "model_name": "LayoutModel",
          "model_module_version": "1.2.0",
          "state": {
            "_model_module": "@jupyter-widgets/base",
            "_model_module_version": "1.2.0",
            "_model_name": "LayoutModel",
            "_view_count": null,
            "_view_module": "@jupyter-widgets/base",
            "_view_module_version": "1.2.0",
            "_view_name": "LayoutView",
            "align_content": null,
            "align_items": null,
            "align_self": null,
            "border": null,
            "bottom": null,
            "display": null,
            "flex": null,
            "flex_flow": null,
            "grid_area": null,
            "grid_auto_columns": null,
            "grid_auto_flow": null,
            "grid_auto_rows": null,
            "grid_column": null,
            "grid_gap": null,
            "grid_row": null,
            "grid_template_areas": null,
            "grid_template_columns": null,
            "grid_template_rows": null,
            "height": null,
            "justify_content": null,
            "justify_items": null,
            "left": null,
            "margin": null,
            "max_height": null,
            "max_width": null,
            "min_height": null,
            "min_width": null,
            "object_fit": null,
            "object_position": null,
            "order": null,
            "overflow": null,
            "overflow_x": null,
            "overflow_y": null,
            "padding": null,
            "right": null,
            "top": null,
            "visibility": null,
            "width": null
          }
        },
        "b61d94541d464bb4a49bc2a825a86880": {
          "model_module": "@jupyter-widgets/controls",
          "model_name": "DescriptionStyleModel",
          "model_module_version": "1.5.0",
          "state": {
            "_model_module": "@jupyter-widgets/controls",
            "_model_module_version": "1.5.0",
            "_model_name": "DescriptionStyleModel",
            "_view_count": null,
            "_view_module": "@jupyter-widgets/base",
            "_view_module_version": "1.2.0",
            "_view_name": "StyleView",
            "description_width": ""
          }
        },
        "05d181ac346b4e4b94b3c69bacb01472": {
          "model_module": "@jupyter-widgets/base",
          "model_name": "LayoutModel",
          "model_module_version": "1.2.0",
          "state": {
            "_model_module": "@jupyter-widgets/base",
            "_model_module_version": "1.2.0",
            "_model_name": "LayoutModel",
            "_view_count": null,
            "_view_module": "@jupyter-widgets/base",
            "_view_module_version": "1.2.0",
            "_view_name": "LayoutView",
            "align_content": null,
            "align_items": null,
            "align_self": null,
            "border": null,
            "bottom": null,
            "display": null,
            "flex": null,
            "flex_flow": null,
            "grid_area": null,
            "grid_auto_columns": null,
            "grid_auto_flow": null,
            "grid_auto_rows": null,
            "grid_column": null,
            "grid_gap": null,
            "grid_row": null,
            "grid_template_areas": null,
            "grid_template_columns": null,
            "grid_template_rows": null,
            "height": null,
            "justify_content": null,
            "justify_items": null,
            "left": null,
            "margin": null,
            "max_height": null,
            "max_width": null,
            "min_height": null,
            "min_width": null,
            "object_fit": null,
            "object_position": null,
            "order": null,
            "overflow": null,
            "overflow_x": null,
            "overflow_y": null,
            "padding": null,
            "right": null,
            "top": null,
            "visibility": null,
            "width": null
          }
        },
        "4351d995928a48d985f1fe5241607666": {
          "model_module": "@jupyter-widgets/controls",
          "model_name": "ProgressStyleModel",
          "model_module_version": "1.5.0",
          "state": {
            "_model_module": "@jupyter-widgets/controls",
            "_model_module_version": "1.5.0",
            "_model_name": "ProgressStyleModel",
            "_view_count": null,
            "_view_module": "@jupyter-widgets/base",
            "_view_module_version": "1.2.0",
            "_view_name": "StyleView",
            "bar_color": null,
            "description_width": ""
          }
        },
        "b10e07b7265c4d6e896794e9c2efae7d": {
          "model_module": "@jupyter-widgets/base",
          "model_name": "LayoutModel",
          "model_module_version": "1.2.0",
          "state": {
            "_model_module": "@jupyter-widgets/base",
            "_model_module_version": "1.2.0",
            "_model_name": "LayoutModel",
            "_view_count": null,
            "_view_module": "@jupyter-widgets/base",
            "_view_module_version": "1.2.0",
            "_view_name": "LayoutView",
            "align_content": null,
            "align_items": null,
            "align_self": null,
            "border": null,
            "bottom": null,
            "display": null,
            "flex": null,
            "flex_flow": null,
            "grid_area": null,
            "grid_auto_columns": null,
            "grid_auto_flow": null,
            "grid_auto_rows": null,
            "grid_column": null,
            "grid_gap": null,
            "grid_row": null,
            "grid_template_areas": null,
            "grid_template_columns": null,
            "grid_template_rows": null,
            "height": null,
            "justify_content": null,
            "justify_items": null,
            "left": null,
            "margin": null,
            "max_height": null,
            "max_width": null,
            "min_height": null,
            "min_width": null,
            "object_fit": null,
            "object_position": null,
            "order": null,
            "overflow": null,
            "overflow_x": null,
            "overflow_y": null,
            "padding": null,
            "right": null,
            "top": null,
            "visibility": null,
            "width": null
          }
        },
        "803ee0cb11664d489d49db9868b6a016": {
          "model_module": "@jupyter-widgets/controls",
          "model_name": "DescriptionStyleModel",
          "model_module_version": "1.5.0",
          "state": {
            "_model_module": "@jupyter-widgets/controls",
            "_model_module_version": "1.5.0",
            "_model_name": "DescriptionStyleModel",
            "_view_count": null,
            "_view_module": "@jupyter-widgets/base",
            "_view_module_version": "1.2.0",
            "_view_name": "StyleView",
            "description_width": ""
          }
        },
        "abf1bd1464234b0b8d0ce81f888cf1fa": {
          "model_module": "@jupyter-widgets/controls",
          "model_name": "HBoxModel",
          "model_module_version": "1.5.0",
          "state": {
            "_dom_classes": [],
            "_model_module": "@jupyter-widgets/controls",
            "_model_module_version": "1.5.0",
            "_model_name": "HBoxModel",
            "_view_count": null,
            "_view_module": "@jupyter-widgets/controls",
            "_view_module_version": "1.5.0",
            "_view_name": "HBoxView",
            "box_style": "",
            "children": [
              "IPY_MODEL_b5cd525be1dd4ac1a50fa857b14b2fd1",
              "IPY_MODEL_37c68c8a89444460a3c004e40acf8b41",
              "IPY_MODEL_0c2bdd4b71684c959fd127707f18b74f"
            ],
            "layout": "IPY_MODEL_02f4f735a54e4c2ca1dcc843313dee57"
          }
        },
        "b5cd525be1dd4ac1a50fa857b14b2fd1": {
          "model_module": "@jupyter-widgets/controls",
          "model_name": "HTMLModel",
          "model_module_version": "1.5.0",
          "state": {
            "_dom_classes": [],
            "_model_module": "@jupyter-widgets/controls",
            "_model_module_version": "1.5.0",
            "_model_name": "HTMLModel",
            "_view_count": null,
            "_view_module": "@jupyter-widgets/controls",
            "_view_module_version": "1.5.0",
            "_view_name": "HTMLView",
            "description": "",
            "description_tooltip": null,
            "layout": "IPY_MODEL_b53373399240471d8196f0d123c6ba92",
            "placeholder": "​",
            "style": "IPY_MODEL_71ca281860674821a572a6a55039e788",
            "value": "Downloading: 100%"
          }
        },
        "37c68c8a89444460a3c004e40acf8b41": {
          "model_module": "@jupyter-widgets/controls",
          "model_name": "FloatProgressModel",
          "model_module_version": "1.5.0",
          "state": {
            "_dom_classes": [],
            "_model_module": "@jupyter-widgets/controls",
            "_model_module_version": "1.5.0",
            "_model_name": "FloatProgressModel",
            "_view_count": null,
            "_view_module": "@jupyter-widgets/controls",
            "_view_module_version": "1.5.0",
            "_view_name": "ProgressView",
            "bar_style": "success",
            "description": "",
            "description_tooltip": null,
            "layout": "IPY_MODEL_161f1bebe8a044209593fa5b68cfe3d1",
            "max": 85,
            "min": 0,
            "orientation": "horizontal",
            "style": "IPY_MODEL_8c71d0e24f174fa9953d9060fa4b99f8",
            "value": 85
          }
        },
        "0c2bdd4b71684c959fd127707f18b74f": {
          "model_module": "@jupyter-widgets/controls",
          "model_name": "HTMLModel",
          "model_module_version": "1.5.0",
          "state": {
            "_dom_classes": [],
            "_model_module": "@jupyter-widgets/controls",
            "_model_module_version": "1.5.0",
            "_model_name": "HTMLModel",
            "_view_count": null,
            "_view_module": "@jupyter-widgets/controls",
            "_view_module_version": "1.5.0",
            "_view_name": "HTMLView",
            "description": "",
            "description_tooltip": null,
            "layout": "IPY_MODEL_478dc6ccda2f40558f6ed53586c4f8d0",
            "placeholder": "​",
            "style": "IPY_MODEL_d172993973454385b4070fe3f04d86c5",
            "value": " 85.0/85.0 [00:00&lt;00:00, 516B/s]"
          }
        },
        "02f4f735a54e4c2ca1dcc843313dee57": {
          "model_module": "@jupyter-widgets/base",
          "model_name": "LayoutModel",
          "model_module_version": "1.2.0",
          "state": {
            "_model_module": "@jupyter-widgets/base",
            "_model_module_version": "1.2.0",
            "_model_name": "LayoutModel",
            "_view_count": null,
            "_view_module": "@jupyter-widgets/base",
            "_view_module_version": "1.2.0",
            "_view_name": "LayoutView",
            "align_content": null,
            "align_items": null,
            "align_self": null,
            "border": null,
            "bottom": null,
            "display": null,
            "flex": null,
            "flex_flow": null,
            "grid_area": null,
            "grid_auto_columns": null,
            "grid_auto_flow": null,
            "grid_auto_rows": null,
            "grid_column": null,
            "grid_gap": null,
            "grid_row": null,
            "grid_template_areas": null,
            "grid_template_columns": null,
            "grid_template_rows": null,
            "height": null,
            "justify_content": null,
            "justify_items": null,
            "left": null,
            "margin": null,
            "max_height": null,
            "max_width": null,
            "min_height": null,
            "min_width": null,
            "object_fit": null,
            "object_position": null,
            "order": null,
            "overflow": null,
            "overflow_x": null,
            "overflow_y": null,
            "padding": null,
            "right": null,
            "top": null,
            "visibility": null,
            "width": null
          }
        },
        "b53373399240471d8196f0d123c6ba92": {
          "model_module": "@jupyter-widgets/base",
          "model_name": "LayoutModel",
          "model_module_version": "1.2.0",
          "state": {
            "_model_module": "@jupyter-widgets/base",
            "_model_module_version": "1.2.0",
            "_model_name": "LayoutModel",
            "_view_count": null,
            "_view_module": "@jupyter-widgets/base",
            "_view_module_version": "1.2.0",
            "_view_name": "LayoutView",
            "align_content": null,
            "align_items": null,
            "align_self": null,
            "border": null,
            "bottom": null,
            "display": null,
            "flex": null,
            "flex_flow": null,
            "grid_area": null,
            "grid_auto_columns": null,
            "grid_auto_flow": null,
            "grid_auto_rows": null,
            "grid_column": null,
            "grid_gap": null,
            "grid_row": null,
            "grid_template_areas": null,
            "grid_template_columns": null,
            "grid_template_rows": null,
            "height": null,
            "justify_content": null,
            "justify_items": null,
            "left": null,
            "margin": null,
            "max_height": null,
            "max_width": null,
            "min_height": null,
            "min_width": null,
            "object_fit": null,
            "object_position": null,
            "order": null,
            "overflow": null,
            "overflow_x": null,
            "overflow_y": null,
            "padding": null,
            "right": null,
            "top": null,
            "visibility": null,
            "width": null
          }
        },
        "71ca281860674821a572a6a55039e788": {
          "model_module": "@jupyter-widgets/controls",
          "model_name": "DescriptionStyleModel",
          "model_module_version": "1.5.0",
          "state": {
            "_model_module": "@jupyter-widgets/controls",
            "_model_module_version": "1.5.0",
            "_model_name": "DescriptionStyleModel",
            "_view_count": null,
            "_view_module": "@jupyter-widgets/base",
            "_view_module_version": "1.2.0",
            "_view_name": "StyleView",
            "description_width": ""
          }
        },
        "161f1bebe8a044209593fa5b68cfe3d1": {
          "model_module": "@jupyter-widgets/base",
          "model_name": "LayoutModel",
          "model_module_version": "1.2.0",
          "state": {
            "_model_module": "@jupyter-widgets/base",
            "_model_module_version": "1.2.0",
            "_model_name": "LayoutModel",
            "_view_count": null,
            "_view_module": "@jupyter-widgets/base",
            "_view_module_version": "1.2.0",
            "_view_name": "LayoutView",
            "align_content": null,
            "align_items": null,
            "align_self": null,
            "border": null,
            "bottom": null,
            "display": null,
            "flex": null,
            "flex_flow": null,
            "grid_area": null,
            "grid_auto_columns": null,
            "grid_auto_flow": null,
            "grid_auto_rows": null,
            "grid_column": null,
            "grid_gap": null,
            "grid_row": null,
            "grid_template_areas": null,
            "grid_template_columns": null,
            "grid_template_rows": null,
            "height": null,
            "justify_content": null,
            "justify_items": null,
            "left": null,
            "margin": null,
            "max_height": null,
            "max_width": null,
            "min_height": null,
            "min_width": null,
            "object_fit": null,
            "object_position": null,
            "order": null,
            "overflow": null,
            "overflow_x": null,
            "overflow_y": null,
            "padding": null,
            "right": null,
            "top": null,
            "visibility": null,
            "width": null
          }
        },
        "8c71d0e24f174fa9953d9060fa4b99f8": {
          "model_module": "@jupyter-widgets/controls",
          "model_name": "ProgressStyleModel",
          "model_module_version": "1.5.0",
          "state": {
            "_model_module": "@jupyter-widgets/controls",
            "_model_module_version": "1.5.0",
            "_model_name": "ProgressStyleModel",
            "_view_count": null,
            "_view_module": "@jupyter-widgets/base",
            "_view_module_version": "1.2.0",
            "_view_name": "StyleView",
            "bar_color": null,
            "description_width": ""
          }
        },
        "478dc6ccda2f40558f6ed53586c4f8d0": {
          "model_module": "@jupyter-widgets/base",
          "model_name": "LayoutModel",
          "model_module_version": "1.2.0",
          "state": {
            "_model_module": "@jupyter-widgets/base",
            "_model_module_version": "1.2.0",
            "_model_name": "LayoutModel",
            "_view_count": null,
            "_view_module": "@jupyter-widgets/base",
            "_view_module_version": "1.2.0",
            "_view_name": "LayoutView",
            "align_content": null,
            "align_items": null,
            "align_self": null,
            "border": null,
            "bottom": null,
            "display": null,
            "flex": null,
            "flex_flow": null,
            "grid_area": null,
            "grid_auto_columns": null,
            "grid_auto_flow": null,
            "grid_auto_rows": null,
            "grid_column": null,
            "grid_gap": null,
            "grid_row": null,
            "grid_template_areas": null,
            "grid_template_columns": null,
            "grid_template_rows": null,
            "height": null,
            "justify_content": null,
            "justify_items": null,
            "left": null,
            "margin": null,
            "max_height": null,
            "max_width": null,
            "min_height": null,
            "min_width": null,
            "object_fit": null,
            "object_position": null,
            "order": null,
            "overflow": null,
            "overflow_x": null,
            "overflow_y": null,
            "padding": null,
            "right": null,
            "top": null,
            "visibility": null,
            "width": null
          }
        },
        "d172993973454385b4070fe3f04d86c5": {
          "model_module": "@jupyter-widgets/controls",
          "model_name": "DescriptionStyleModel",
          "model_module_version": "1.5.0",
          "state": {
            "_model_module": "@jupyter-widgets/controls",
            "_model_module_version": "1.5.0",
            "_model_name": "DescriptionStyleModel",
            "_view_count": null,
            "_view_module": "@jupyter-widgets/base",
            "_view_module_version": "1.2.0",
            "_view_name": "StyleView",
            "description_width": ""
          }
        },
        "f73b576a98db4394a2cee1d727b10e8d": {
          "model_module": "@jupyter-widgets/controls",
          "model_name": "HBoxModel",
          "model_module_version": "1.5.0",
          "state": {
            "_dom_classes": [],
            "_model_module": "@jupyter-widgets/controls",
            "_model_module_version": "1.5.0",
            "_model_name": "HBoxModel",
            "_view_count": null,
            "_view_module": "@jupyter-widgets/controls",
            "_view_module_version": "1.5.0",
            "_view_name": "HBoxView",
            "box_style": "",
            "children": [
              "IPY_MODEL_3e1e3a52995d4d1a8fcd4d74b0ea0ef2",
              "IPY_MODEL_5ab235b3655843529deba1e904aaf482",
              "IPY_MODEL_e9e5c565151d4c70af835a87a7642cdf"
            ],
            "layout": "IPY_MODEL_6b01e73dbc0147d096501a6a16e02a69"
          }
        },
        "3e1e3a52995d4d1a8fcd4d74b0ea0ef2": {
          "model_module": "@jupyter-widgets/controls",
          "model_name": "HTMLModel",
          "model_module_version": "1.5.0",
          "state": {
            "_dom_classes": [],
            "_model_module": "@jupyter-widgets/controls",
            "_model_module_version": "1.5.0",
            "_model_name": "HTMLModel",
            "_view_count": null,
            "_view_module": "@jupyter-widgets/controls",
            "_view_module_version": "1.5.0",
            "_view_name": "HTMLView",
            "description": "",
            "description_tooltip": null,
            "layout": "IPY_MODEL_6cc36d8fd18243a291967ba87361ae08",
            "placeholder": "​",
            "style": "IPY_MODEL_146f3ae1b11d4b3187a72f547a61cf45",
            "value": "Downloading: 100%"
          }
        },
        "5ab235b3655843529deba1e904aaf482": {
          "model_module": "@jupyter-widgets/controls",
          "model_name": "FloatProgressModel",
          "model_module_version": "1.5.0",
          "state": {
            "_dom_classes": [],
            "_model_module": "@jupyter-widgets/controls",
            "_model_module_version": "1.5.0",
            "_model_name": "FloatProgressModel",
            "_view_count": null,
            "_view_module": "@jupyter-widgets/controls",
            "_view_module_version": "1.5.0",
            "_view_name": "ProgressView",
            "bar_style": "success",
            "description": "",
            "description_tooltip": null,
            "layout": "IPY_MODEL_f8c21b64d5ed4285a4847fef1c3d919c",
            "max": 377700204,
            "min": 0,
            "orientation": "horizontal",
            "style": "IPY_MODEL_c9f00401ab014cc29ec556cdb8ef9f7d",
            "value": 377700204
          }
        },
        "e9e5c565151d4c70af835a87a7642cdf": {
          "model_module": "@jupyter-widgets/controls",
          "model_name": "HTMLModel",
          "model_module_version": "1.5.0",
          "state": {
            "_dom_classes": [],
            "_model_module": "@jupyter-widgets/controls",
            "_model_module_version": "1.5.0",
            "_model_name": "HTMLModel",
            "_view_count": null,
            "_view_module": "@jupyter-widgets/controls",
            "_view_module_version": "1.5.0",
            "_view_name": "HTMLView",
            "description": "",
            "description_tooltip": null,
            "layout": "IPY_MODEL_7953a67289c544eea7ef0b1a1a826c8c",
            "placeholder": "​",
            "style": "IPY_MODEL_ec1458fb10b3452fbd208ef2ba221ed6",
            "value": " 378M/378M [00:13&lt;00:00, 53.2MB/s]"
          }
        },
        "6b01e73dbc0147d096501a6a16e02a69": {
          "model_module": "@jupyter-widgets/base",
          "model_name": "LayoutModel",
          "model_module_version": "1.2.0",
          "state": {
            "_model_module": "@jupyter-widgets/base",
            "_model_module_version": "1.2.0",
            "_model_name": "LayoutModel",
            "_view_count": null,
            "_view_module": "@jupyter-widgets/base",
            "_view_module_version": "1.2.0",
            "_view_name": "LayoutView",
            "align_content": null,
            "align_items": null,
            "align_self": null,
            "border": null,
            "bottom": null,
            "display": null,
            "flex": null,
            "flex_flow": null,
            "grid_area": null,
            "grid_auto_columns": null,
            "grid_auto_flow": null,
            "grid_auto_rows": null,
            "grid_column": null,
            "grid_gap": null,
            "grid_row": null,
            "grid_template_areas": null,
            "grid_template_columns": null,
            "grid_template_rows": null,
            "height": null,
            "justify_content": null,
            "justify_items": null,
            "left": null,
            "margin": null,
            "max_height": null,
            "max_width": null,
            "min_height": null,
            "min_width": null,
            "object_fit": null,
            "object_position": null,
            "order": null,
            "overflow": null,
            "overflow_x": null,
            "overflow_y": null,
            "padding": null,
            "right": null,
            "top": null,
            "visibility": null,
            "width": null
          }
        },
        "6cc36d8fd18243a291967ba87361ae08": {
          "model_module": "@jupyter-widgets/base",
          "model_name": "LayoutModel",
          "model_module_version": "1.2.0",
          "state": {
            "_model_module": "@jupyter-widgets/base",
            "_model_module_version": "1.2.0",
            "_model_name": "LayoutModel",
            "_view_count": null,
            "_view_module": "@jupyter-widgets/base",
            "_view_module_version": "1.2.0",
            "_view_name": "LayoutView",
            "align_content": null,
            "align_items": null,
            "align_self": null,
            "border": null,
            "bottom": null,
            "display": null,
            "flex": null,
            "flex_flow": null,
            "grid_area": null,
            "grid_auto_columns": null,
            "grid_auto_flow": null,
            "grid_auto_rows": null,
            "grid_column": null,
            "grid_gap": null,
            "grid_row": null,
            "grid_template_areas": null,
            "grid_template_columns": null,
            "grid_template_rows": null,
            "height": null,
            "justify_content": null,
            "justify_items": null,
            "left": null,
            "margin": null,
            "max_height": null,
            "max_width": null,
            "min_height": null,
            "min_width": null,
            "object_fit": null,
            "object_position": null,
            "order": null,
            "overflow": null,
            "overflow_x": null,
            "overflow_y": null,
            "padding": null,
            "right": null,
            "top": null,
            "visibility": null,
            "width": null
          }
        },
        "146f3ae1b11d4b3187a72f547a61cf45": {
          "model_module": "@jupyter-widgets/controls",
          "model_name": "DescriptionStyleModel",
          "model_module_version": "1.5.0",
          "state": {
            "_model_module": "@jupyter-widgets/controls",
            "_model_module_version": "1.5.0",
            "_model_name": "DescriptionStyleModel",
            "_view_count": null,
            "_view_module": "@jupyter-widgets/base",
            "_view_module_version": "1.2.0",
            "_view_name": "StyleView",
            "description_width": ""
          }
        },
        "f8c21b64d5ed4285a4847fef1c3d919c": {
          "model_module": "@jupyter-widgets/base",
          "model_name": "LayoutModel",
          "model_module_version": "1.2.0",
          "state": {
            "_model_module": "@jupyter-widgets/base",
            "_model_module_version": "1.2.0",
            "_model_name": "LayoutModel",
            "_view_count": null,
            "_view_module": "@jupyter-widgets/base",
            "_view_module_version": "1.2.0",
            "_view_name": "LayoutView",
            "align_content": null,
            "align_items": null,
            "align_self": null,
            "border": null,
            "bottom": null,
            "display": null,
            "flex": null,
            "flex_flow": null,
            "grid_area": null,
            "grid_auto_columns": null,
            "grid_auto_flow": null,
            "grid_auto_rows": null,
            "grid_column": null,
            "grid_gap": null,
            "grid_row": null,
            "grid_template_areas": null,
            "grid_template_columns": null,
            "grid_template_rows": null,
            "height": null,
            "justify_content": null,
            "justify_items": null,
            "left": null,
            "margin": null,
            "max_height": null,
            "max_width": null,
            "min_height": null,
            "min_width": null,
            "object_fit": null,
            "object_position": null,
            "order": null,
            "overflow": null,
            "overflow_x": null,
            "overflow_y": null,
            "padding": null,
            "right": null,
            "top": null,
            "visibility": null,
            "width": null
          }
        },
        "c9f00401ab014cc29ec556cdb8ef9f7d": {
          "model_module": "@jupyter-widgets/controls",
          "model_name": "ProgressStyleModel",
          "model_module_version": "1.5.0",
          "state": {
            "_model_module": "@jupyter-widgets/controls",
            "_model_module_version": "1.5.0",
            "_model_name": "ProgressStyleModel",
            "_view_count": null,
            "_view_module": "@jupyter-widgets/base",
            "_view_module_version": "1.2.0",
            "_view_name": "StyleView",
            "bar_color": null,
            "description_width": ""
          }
        },
        "7953a67289c544eea7ef0b1a1a826c8c": {
          "model_module": "@jupyter-widgets/base",
          "model_name": "LayoutModel",
          "model_module_version": "1.2.0",
          "state": {
            "_model_module": "@jupyter-widgets/base",
            "_model_module_version": "1.2.0",
            "_model_name": "LayoutModel",
            "_view_count": null,
            "_view_module": "@jupyter-widgets/base",
            "_view_module_version": "1.2.0",
            "_view_name": "LayoutView",
            "align_content": null,
            "align_items": null,
            "align_self": null,
            "border": null,
            "bottom": null,
            "display": null,
            "flex": null,
            "flex_flow": null,
            "grid_area": null,
            "grid_auto_columns": null,
            "grid_auto_flow": null,
            "grid_auto_rows": null,
            "grid_column": null,
            "grid_gap": null,
            "grid_row": null,
            "grid_template_areas": null,
            "grid_template_columns": null,
            "grid_template_rows": null,
            "height": null,
            "justify_content": null,
            "justify_items": null,
            "left": null,
            "margin": null,
            "max_height": null,
            "max_width": null,
            "min_height": null,
            "min_width": null,
            "object_fit": null,
            "object_position": null,
            "order": null,
            "overflow": null,
            "overflow_x": null,
            "overflow_y": null,
            "padding": null,
            "right": null,
            "top": null,
            "visibility": null,
            "width": null
          }
        },
        "ec1458fb10b3452fbd208ef2ba221ed6": {
          "model_module": "@jupyter-widgets/controls",
          "model_name": "DescriptionStyleModel",
          "model_module_version": "1.5.0",
          "state": {
            "_model_module": "@jupyter-widgets/controls",
            "_model_module_version": "1.5.0",
            "_model_name": "DescriptionStyleModel",
            "_view_count": null,
            "_view_module": "@jupyter-widgets/base",
            "_view_module_version": "1.2.0",
            "_view_name": "StyleView",
            "description_width": ""
          }
        },
        "f1181d52fc1d4885aa01f2d5fcff50dc": {
          "model_module": "@jupyter-widgets/controls",
          "model_name": "HBoxModel",
          "model_module_version": "1.5.0",
          "state": {
            "_dom_classes": [],
            "_model_module": "@jupyter-widgets/controls",
            "_model_module_version": "1.5.0",
            "_model_name": "HBoxModel",
            "_view_count": null,
            "_view_module": "@jupyter-widgets/controls",
            "_view_module_version": "1.5.0",
            "_view_name": "HBoxView",
            "box_style": "",
            "children": [
              "IPY_MODEL_ef5c42d4b9d640508fd0f72f504586f1",
              "IPY_MODEL_9a214653bbf84084afe7c81727ee8405",
              "IPY_MODEL_32f9105e7c3f42aeb90f327aea8021e2"
            ],
            "layout": "IPY_MODEL_6dff886d3bd745739932c1cfc518f122"
          }
        },
        "ef5c42d4b9d640508fd0f72f504586f1": {
          "model_module": "@jupyter-widgets/controls",
          "model_name": "HTMLModel",
          "model_module_version": "1.5.0",
          "state": {
            "_dom_classes": [],
            "_model_module": "@jupyter-widgets/controls",
            "_model_module_version": "1.5.0",
            "_model_name": "HTMLModel",
            "_view_count": null,
            "_view_module": "@jupyter-widgets/controls",
            "_view_module_version": "1.5.0",
            "_view_name": "HTMLView",
            "description": "",
            "description_tooltip": null,
            "layout": "IPY_MODEL_f8d62f821e5c4f4c832a4380ea7a49a5",
            "placeholder": "​",
            "style": "IPY_MODEL_7aa59a5da0124f78bbe5d7664d1dd542",
            "value": "Downloading: 100%"
          }
        },
        "9a214653bbf84084afe7c81727ee8405": {
          "model_module": "@jupyter-widgets/controls",
          "model_name": "FloatProgressModel",
          "model_module_version": "1.5.0",
          "state": {
            "_dom_classes": [],
            "_model_module": "@jupyter-widgets/controls",
            "_model_module_version": "1.5.0",
            "_model_name": "FloatProgressModel",
            "_view_count": null,
            "_view_module": "@jupyter-widgets/controls",
            "_view_module_version": "1.5.0",
            "_view_name": "ProgressView",
            "bar_style": "success",
            "description": "",
            "description_tooltip": null,
            "layout": "IPY_MODEL_8e00252e99f14002a7dde8acce728402",
            "max": 212,
            "min": 0,
            "orientation": "horizontal",
            "style": "IPY_MODEL_180df5c1f4f54e1fbd88ddea28afc608",
            "value": 212
          }
        },
        "32f9105e7c3f42aeb90f327aea8021e2": {
          "model_module": "@jupyter-widgets/controls",
          "model_name": "HTMLModel",
          "model_module_version": "1.5.0",
          "state": {
            "_dom_classes": [],
            "_model_module": "@jupyter-widgets/controls",
            "_model_module_version": "1.5.0",
            "_model_name": "HTMLModel",
            "_view_count": null,
            "_view_module": "@jupyter-widgets/controls",
            "_view_module_version": "1.5.0",
            "_view_name": "HTMLView",
            "description": "",
            "description_tooltip": null,
            "layout": "IPY_MODEL_4ef9e220241247f6b018b6289599d6b4",
            "placeholder": "​",
            "style": "IPY_MODEL_5fc900b192274645ade734187cb31020",
            "value": " 212/212 [00:00&lt;00:00, 2.51kB/s]"
          }
        },
        "6dff886d3bd745739932c1cfc518f122": {
          "model_module": "@jupyter-widgets/base",
          "model_name": "LayoutModel",
          "model_module_version": "1.2.0",
          "state": {
            "_model_module": "@jupyter-widgets/base",
            "_model_module_version": "1.2.0",
            "_model_name": "LayoutModel",
            "_view_count": null,
            "_view_module": "@jupyter-widgets/base",
            "_view_module_version": "1.2.0",
            "_view_name": "LayoutView",
            "align_content": null,
            "align_items": null,
            "align_self": null,
            "border": null,
            "bottom": null,
            "display": null,
            "flex": null,
            "flex_flow": null,
            "grid_area": null,
            "grid_auto_columns": null,
            "grid_auto_flow": null,
            "grid_auto_rows": null,
            "grid_column": null,
            "grid_gap": null,
            "grid_row": null,
            "grid_template_areas": null,
            "grid_template_columns": null,
            "grid_template_rows": null,
            "height": null,
            "justify_content": null,
            "justify_items": null,
            "left": null,
            "margin": null,
            "max_height": null,
            "max_width": null,
            "min_height": null,
            "min_width": null,
            "object_fit": null,
            "object_position": null,
            "order": null,
            "overflow": null,
            "overflow_x": null,
            "overflow_y": null,
            "padding": null,
            "right": null,
            "top": null,
            "visibility": null,
            "width": null
          }
        },
        "f8d62f821e5c4f4c832a4380ea7a49a5": {
          "model_module": "@jupyter-widgets/base",
          "model_name": "LayoutModel",
          "model_module_version": "1.2.0",
          "state": {
            "_model_module": "@jupyter-widgets/base",
            "_model_module_version": "1.2.0",
            "_model_name": "LayoutModel",
            "_view_count": null,
            "_view_module": "@jupyter-widgets/base",
            "_view_module_version": "1.2.0",
            "_view_name": "LayoutView",
            "align_content": null,
            "align_items": null,
            "align_self": null,
            "border": null,
            "bottom": null,
            "display": null,
            "flex": null,
            "flex_flow": null,
            "grid_area": null,
            "grid_auto_columns": null,
            "grid_auto_flow": null,
            "grid_auto_rows": null,
            "grid_column": null,
            "grid_gap": null,
            "grid_row": null,
            "grid_template_areas": null,
            "grid_template_columns": null,
            "grid_template_rows": null,
            "height": null,
            "justify_content": null,
            "justify_items": null,
            "left": null,
            "margin": null,
            "max_height": null,
            "max_width": null,
            "min_height": null,
            "min_width": null,
            "object_fit": null,
            "object_position": null,
            "order": null,
            "overflow": null,
            "overflow_x": null,
            "overflow_y": null,
            "padding": null,
            "right": null,
            "top": null,
            "visibility": null,
            "width": null
          }
        },
        "7aa59a5da0124f78bbe5d7664d1dd542": {
          "model_module": "@jupyter-widgets/controls",
          "model_name": "DescriptionStyleModel",
          "model_module_version": "1.5.0",
          "state": {
            "_model_module": "@jupyter-widgets/controls",
            "_model_module_version": "1.5.0",
            "_model_name": "DescriptionStyleModel",
            "_view_count": null,
            "_view_module": "@jupyter-widgets/base",
            "_view_module_version": "1.2.0",
            "_view_name": "StyleView",
            "description_width": ""
          }
        },
        "8e00252e99f14002a7dde8acce728402": {
          "model_module": "@jupyter-widgets/base",
          "model_name": "LayoutModel",
          "model_module_version": "1.2.0",
          "state": {
            "_model_module": "@jupyter-widgets/base",
            "_model_module_version": "1.2.0",
            "_model_name": "LayoutModel",
            "_view_count": null,
            "_view_module": "@jupyter-widgets/base",
            "_view_module_version": "1.2.0",
            "_view_name": "LayoutView",
            "align_content": null,
            "align_items": null,
            "align_self": null,
            "border": null,
            "bottom": null,
            "display": null,
            "flex": null,
            "flex_flow": null,
            "grid_area": null,
            "grid_auto_columns": null,
            "grid_auto_flow": null,
            "grid_auto_rows": null,
            "grid_column": null,
            "grid_gap": null,
            "grid_row": null,
            "grid_template_areas": null,
            "grid_template_columns": null,
            "grid_template_rows": null,
            "height": null,
            "justify_content": null,
            "justify_items": null,
            "left": null,
            "margin": null,
            "max_height": null,
            "max_width": null,
            "min_height": null,
            "min_width": null,
            "object_fit": null,
            "object_position": null,
            "order": null,
            "overflow": null,
            "overflow_x": null,
            "overflow_y": null,
            "padding": null,
            "right": null,
            "top": null,
            "visibility": null,
            "width": null
          }
        },
        "180df5c1f4f54e1fbd88ddea28afc608": {
          "model_module": "@jupyter-widgets/controls",
          "model_name": "ProgressStyleModel",
          "model_module_version": "1.5.0",
          "state": {
            "_model_module": "@jupyter-widgets/controls",
            "_model_module_version": "1.5.0",
            "_model_name": "ProgressStyleModel",
            "_view_count": null,
            "_view_module": "@jupyter-widgets/base",
            "_view_module_version": "1.2.0",
            "_view_name": "StyleView",
            "bar_color": null,
            "description_width": ""
          }
        },
        "4ef9e220241247f6b018b6289599d6b4": {
          "model_module": "@jupyter-widgets/base",
          "model_name": "LayoutModel",
          "model_module_version": "1.2.0",
          "state": {
            "_model_module": "@jupyter-widgets/base",
            "_model_module_version": "1.2.0",
            "_model_name": "LayoutModel",
            "_view_count": null,
            "_view_module": "@jupyter-widgets/base",
            "_view_module_version": "1.2.0",
            "_view_name": "LayoutView",
            "align_content": null,
            "align_items": null,
            "align_self": null,
            "border": null,
            "bottom": null,
            "display": null,
            "flex": null,
            "flex_flow": null,
            "grid_area": null,
            "grid_auto_columns": null,
            "grid_auto_flow": null,
            "grid_auto_rows": null,
            "grid_column": null,
            "grid_gap": null,
            "grid_row": null,
            "grid_template_areas": null,
            "grid_template_columns": null,
            "grid_template_rows": null,
            "height": null,
            "justify_content": null,
            "justify_items": null,
            "left": null,
            "margin": null,
            "max_height": null,
            "max_width": null,
            "min_height": null,
            "min_width": null,
            "object_fit": null,
            "object_position": null,
            "order": null,
            "overflow": null,
            "overflow_x": null,
            "overflow_y": null,
            "padding": null,
            "right": null,
            "top": null,
            "visibility": null,
            "width": null
          }
        },
        "5fc900b192274645ade734187cb31020": {
          "model_module": "@jupyter-widgets/controls",
          "model_name": "DescriptionStyleModel",
          "model_module_version": "1.5.0",
          "state": {
            "_model_module": "@jupyter-widgets/controls",
            "_model_module_version": "1.5.0",
            "_model_name": "DescriptionStyleModel",
            "_view_count": null,
            "_view_module": "@jupyter-widgets/base",
            "_view_module_version": "1.2.0",
            "_view_name": "StyleView",
            "description_width": ""
          }
        },
        "a024f5e0642b49d184c8f3916b339bb2": {
          "model_module": "@jupyter-widgets/controls",
          "model_name": "HBoxModel",
          "model_module_version": "1.5.0",
          "state": {
            "_dom_classes": [],
            "_model_module": "@jupyter-widgets/controls",
            "_model_module_version": "1.5.0",
            "_model_name": "HBoxModel",
            "_view_count": null,
            "_view_module": "@jupyter-widgets/controls",
            "_view_module_version": "1.5.0",
            "_view_name": "HBoxView",
            "box_style": "",
            "children": [
              "IPY_MODEL_27ddc4fede97488b978cfb02388204fd",
              "IPY_MODEL_55495f51c13e41d6a563c45cd161fdf7",
              "IPY_MODEL_609b20f0b8954542a3ab9bab58b91315"
            ],
            "layout": "IPY_MODEL_75aa8ef5b41b419a96b5dd6f9a927246"
          }
        },
        "27ddc4fede97488b978cfb02388204fd": {
          "model_module": "@jupyter-widgets/controls",
          "model_name": "HTMLModel",
          "model_module_version": "1.5.0",
          "state": {
            "_dom_classes": [],
            "_model_module": "@jupyter-widgets/controls",
            "_model_module_version": "1.5.0",
            "_model_name": "HTMLModel",
            "_view_count": null,
            "_view_module": "@jupyter-widgets/controls",
            "_view_module_version": "1.5.0",
            "_view_name": "HTMLView",
            "description": "",
            "description_tooltip": null,
            "layout": "IPY_MODEL_d3af351488af41e8a91d6290028d6a17",
            "placeholder": "​",
            "style": "IPY_MODEL_0699289e3ffe43d3899df031b3129eda",
            "value": "Downloading: 100%"
          }
        },
        "55495f51c13e41d6a563c45cd161fdf7": {
          "model_module": "@jupyter-widgets/controls",
          "model_name": "FloatProgressModel",
          "model_module_version": "1.5.0",
          "state": {
            "_dom_classes": [],
            "_model_module": "@jupyter-widgets/controls",
            "_model_module_version": "1.5.0",
            "_model_name": "FloatProgressModel",
            "_view_count": null,
            "_view_module": "@jupyter-widgets/controls",
            "_view_module_version": "1.5.0",
            "_view_name": "ProgressView",
            "bar_style": "success",
            "description": "",
            "description_tooltip": null,
            "layout": "IPY_MODEL_121f7f5dc1264f69b5411006dba90284",
            "max": 138,
            "min": 0,
            "orientation": "horizontal",
            "style": "IPY_MODEL_8db918e0af884dc8b0e6486557db5ce7",
            "value": 138
          }
        },
        "609b20f0b8954542a3ab9bab58b91315": {
          "model_module": "@jupyter-widgets/controls",
          "model_name": "HTMLModel",
          "model_module_version": "1.5.0",
          "state": {
            "_dom_classes": [],
            "_model_module": "@jupyter-widgets/controls",
            "_model_module_version": "1.5.0",
            "_model_name": "HTMLModel",
            "_view_count": null,
            "_view_module": "@jupyter-widgets/controls",
            "_view_module_version": "1.5.0",
            "_view_name": "HTMLView",
            "description": "",
            "description_tooltip": null,
            "layout": "IPY_MODEL_87fa0d40d5784e81a0d11da0a0dd8661",
            "placeholder": "​",
            "style": "IPY_MODEL_43038e12c3e34190ab6c8f3c70008046",
            "value": " 138/138 [00:00&lt;00:00, 1.99kB/s]"
          }
        },
        "75aa8ef5b41b419a96b5dd6f9a927246": {
          "model_module": "@jupyter-widgets/base",
          "model_name": "LayoutModel",
          "model_module_version": "1.2.0",
          "state": {
            "_model_module": "@jupyter-widgets/base",
            "_model_module_version": "1.2.0",
            "_model_name": "LayoutModel",
            "_view_count": null,
            "_view_module": "@jupyter-widgets/base",
            "_view_module_version": "1.2.0",
            "_view_name": "LayoutView",
            "align_content": null,
            "align_items": null,
            "align_self": null,
            "border": null,
            "bottom": null,
            "display": null,
            "flex": null,
            "flex_flow": null,
            "grid_area": null,
            "grid_auto_columns": null,
            "grid_auto_flow": null,
            "grid_auto_rows": null,
            "grid_column": null,
            "grid_gap": null,
            "grid_row": null,
            "grid_template_areas": null,
            "grid_template_columns": null,
            "grid_template_rows": null,
            "height": null,
            "justify_content": null,
            "justify_items": null,
            "left": null,
            "margin": null,
            "max_height": null,
            "max_width": null,
            "min_height": null,
            "min_width": null,
            "object_fit": null,
            "object_position": null,
            "order": null,
            "overflow": null,
            "overflow_x": null,
            "overflow_y": null,
            "padding": null,
            "right": null,
            "top": null,
            "visibility": null,
            "width": null
          }
        },
        "d3af351488af41e8a91d6290028d6a17": {
          "model_module": "@jupyter-widgets/base",
          "model_name": "LayoutModel",
          "model_module_version": "1.2.0",
          "state": {
            "_model_module": "@jupyter-widgets/base",
            "_model_module_version": "1.2.0",
            "_model_name": "LayoutModel",
            "_view_count": null,
            "_view_module": "@jupyter-widgets/base",
            "_view_module_version": "1.2.0",
            "_view_name": "LayoutView",
            "align_content": null,
            "align_items": null,
            "align_self": null,
            "border": null,
            "bottom": null,
            "display": null,
            "flex": null,
            "flex_flow": null,
            "grid_area": null,
            "grid_auto_columns": null,
            "grid_auto_flow": null,
            "grid_auto_rows": null,
            "grid_column": null,
            "grid_gap": null,
            "grid_row": null,
            "grid_template_areas": null,
            "grid_template_columns": null,
            "grid_template_rows": null,
            "height": null,
            "justify_content": null,
            "justify_items": null,
            "left": null,
            "margin": null,
            "max_height": null,
            "max_width": null,
            "min_height": null,
            "min_width": null,
            "object_fit": null,
            "object_position": null,
            "order": null,
            "overflow": null,
            "overflow_x": null,
            "overflow_y": null,
            "padding": null,
            "right": null,
            "top": null,
            "visibility": null,
            "width": null
          }
        },
        "0699289e3ffe43d3899df031b3129eda": {
          "model_module": "@jupyter-widgets/controls",
          "model_name": "DescriptionStyleModel",
          "model_module_version": "1.5.0",
          "state": {
            "_model_module": "@jupyter-widgets/controls",
            "_model_module_version": "1.5.0",
            "_model_name": "DescriptionStyleModel",
            "_view_count": null,
            "_view_module": "@jupyter-widgets/base",
            "_view_module_version": "1.2.0",
            "_view_name": "StyleView",
            "description_width": ""
          }
        },
        "121f7f5dc1264f69b5411006dba90284": {
          "model_module": "@jupyter-widgets/base",
          "model_name": "LayoutModel",
          "model_module_version": "1.2.0",
          "state": {
            "_model_module": "@jupyter-widgets/base",
            "_model_module_version": "1.2.0",
            "_model_name": "LayoutModel",
            "_view_count": null,
            "_view_module": "@jupyter-widgets/base",
            "_view_module_version": "1.2.0",
            "_view_name": "LayoutView",
            "align_content": null,
            "align_items": null,
            "align_self": null,
            "border": null,
            "bottom": null,
            "display": null,
            "flex": null,
            "flex_flow": null,
            "grid_area": null,
            "grid_auto_columns": null,
            "grid_auto_flow": null,
            "grid_auto_rows": null,
            "grid_column": null,
            "grid_gap": null,
            "grid_row": null,
            "grid_template_areas": null,
            "grid_template_columns": null,
            "grid_template_rows": null,
            "height": null,
            "justify_content": null,
            "justify_items": null,
            "left": null,
            "margin": null,
            "max_height": null,
            "max_width": null,
            "min_height": null,
            "min_width": null,
            "object_fit": null,
            "object_position": null,
            "order": null,
            "overflow": null,
            "overflow_x": null,
            "overflow_y": null,
            "padding": null,
            "right": null,
            "top": null,
            "visibility": null,
            "width": null
          }
        },
        "8db918e0af884dc8b0e6486557db5ce7": {
          "model_module": "@jupyter-widgets/controls",
          "model_name": "ProgressStyleModel",
          "model_module_version": "1.5.0",
          "state": {
            "_model_module": "@jupyter-widgets/controls",
            "_model_module_version": "1.5.0",
            "_model_name": "ProgressStyleModel",
            "_view_count": null,
            "_view_module": "@jupyter-widgets/base",
            "_view_module_version": "1.2.0",
            "_view_name": "StyleView",
            "bar_color": null,
            "description_width": ""
          }
        },
        "87fa0d40d5784e81a0d11da0a0dd8661": {
          "model_module": "@jupyter-widgets/base",
          "model_name": "LayoutModel",
          "model_module_version": "1.2.0",
          "state": {
            "_model_module": "@jupyter-widgets/base",
            "_model_module_version": "1.2.0",
            "_model_name": "LayoutModel",
            "_view_count": null,
            "_view_module": "@jupyter-widgets/base",
            "_view_module_version": "1.2.0",
            "_view_name": "LayoutView",
            "align_content": null,
            "align_items": null,
            "align_self": null,
            "border": null,
            "bottom": null,
            "display": null,
            "flex": null,
            "flex_flow": null,
            "grid_area": null,
            "grid_auto_columns": null,
            "grid_auto_flow": null,
            "grid_auto_rows": null,
            "grid_column": null,
            "grid_gap": null,
            "grid_row": null,
            "grid_template_areas": null,
            "grid_template_columns": null,
            "grid_template_rows": null,
            "height": null,
            "justify_content": null,
            "justify_items": null,
            "left": null,
            "margin": null,
            "max_height": null,
            "max_width": null,
            "min_height": null,
            "min_width": null,
            "object_fit": null,
            "object_position": null,
            "order": null,
            "overflow": null,
            "overflow_x": null,
            "overflow_y": null,
            "padding": null,
            "right": null,
            "top": null,
            "visibility": null,
            "width": null
          }
        },
        "43038e12c3e34190ab6c8f3c70008046": {
          "model_module": "@jupyter-widgets/controls",
          "model_name": "DescriptionStyleModel",
          "model_module_version": "1.5.0",
          "state": {
            "_model_module": "@jupyter-widgets/controls",
            "_model_module_version": "1.5.0",
            "_model_name": "DescriptionStyleModel",
            "_view_count": null,
            "_view_module": "@jupyter-widgets/base",
            "_view_module_version": "1.2.0",
            "_view_name": "StyleView",
            "description_width": ""
          }
        },
        "9674ad75a2e24f67adfbd7a47fbbbe20": {
          "model_module": "@jupyter-widgets/controls",
          "model_name": "HBoxModel",
          "model_module_version": "1.5.0",
          "state": {
            "_dom_classes": [],
            "_model_module": "@jupyter-widgets/controls",
            "_model_module_version": "1.5.0",
            "_model_name": "HBoxModel",
            "_view_count": null,
            "_view_module": "@jupyter-widgets/controls",
            "_view_module_version": "1.5.0",
            "_view_name": "HBoxView",
            "box_style": "",
            "children": [
              "IPY_MODEL_5070f8f0106c49018394b241f17305e1",
              "IPY_MODEL_5ef11095560b49d3ab6043b89fffc6d3",
              "IPY_MODEL_9148620c23064e33957596c842126883"
            ],
            "layout": "IPY_MODEL_0aae48c579f84f4884fe25dc7fe90b97"
          }
        },
        "5070f8f0106c49018394b241f17305e1": {
          "model_module": "@jupyter-widgets/controls",
          "model_name": "HTMLModel",
          "model_module_version": "1.5.0",
          "state": {
            "_dom_classes": [],
            "_model_module": "@jupyter-widgets/controls",
            "_model_module_version": "1.5.0",
            "_model_name": "HTMLModel",
            "_view_count": null,
            "_view_module": "@jupyter-widgets/controls",
            "_view_module_version": "1.5.0",
            "_view_name": "HTMLView",
            "description": "",
            "description_tooltip": null,
            "layout": "IPY_MODEL_d808017d67984c14953ffea703169c15",
            "placeholder": "​",
            "style": "IPY_MODEL_2af10585901b4253906c6467c7a1e4b3",
            "value": "Downloading: 100%"
          }
        },
        "5ef11095560b49d3ab6043b89fffc6d3": {
          "model_module": "@jupyter-widgets/controls",
          "model_name": "FloatProgressModel",
          "model_module_version": "1.5.0",
          "state": {
            "_dom_classes": [],
            "_model_module": "@jupyter-widgets/controls",
            "_model_module_version": "1.5.0",
            "_model_name": "FloatProgressModel",
            "_view_count": null,
            "_view_module": "@jupyter-widgets/controls",
            "_view_module_version": "1.5.0",
            "_view_name": "ProgressView",
            "bar_style": "success",
            "description": "",
            "description_tooltip": null,
            "layout": "IPY_MODEL_1b9813059e1d485eb7e6350c05dfed7a",
            "max": 1376,
            "min": 0,
            "orientation": "horizontal",
            "style": "IPY_MODEL_a0d79f8825d442248c6bbb7a28d0d5ed",
            "value": 1376
          }
        },
        "9148620c23064e33957596c842126883": {
          "model_module": "@jupyter-widgets/controls",
          "model_name": "HTMLModel",
          "model_module_version": "1.5.0",
          "state": {
            "_dom_classes": [],
            "_model_module": "@jupyter-widgets/controls",
            "_model_module_version": "1.5.0",
            "_model_name": "HTMLModel",
            "_view_count": null,
            "_view_module": "@jupyter-widgets/controls",
            "_view_module_version": "1.5.0",
            "_view_name": "HTMLView",
            "description": "",
            "description_tooltip": null,
            "layout": "IPY_MODEL_cd94194f55734963bf73fa750f78ccfe",
            "placeholder": "​",
            "style": "IPY_MODEL_34eb2cf1f25148bf892324c854590901",
            "value": " 1.38k/1.38k [00:00&lt;00:00, 20.1kB/s]"
          }
        },
        "0aae48c579f84f4884fe25dc7fe90b97": {
          "model_module": "@jupyter-widgets/base",
          "model_name": "LayoutModel",
          "model_module_version": "1.2.0",
          "state": {
            "_model_module": "@jupyter-widgets/base",
            "_model_module_version": "1.2.0",
            "_model_name": "LayoutModel",
            "_view_count": null,
            "_view_module": "@jupyter-widgets/base",
            "_view_module_version": "1.2.0",
            "_view_name": "LayoutView",
            "align_content": null,
            "align_items": null,
            "align_self": null,
            "border": null,
            "bottom": null,
            "display": null,
            "flex": null,
            "flex_flow": null,
            "grid_area": null,
            "grid_auto_columns": null,
            "grid_auto_flow": null,
            "grid_auto_rows": null,
            "grid_column": null,
            "grid_gap": null,
            "grid_row": null,
            "grid_template_areas": null,
            "grid_template_columns": null,
            "grid_template_rows": null,
            "height": null,
            "justify_content": null,
            "justify_items": null,
            "left": null,
            "margin": null,
            "max_height": null,
            "max_width": null,
            "min_height": null,
            "min_width": null,
            "object_fit": null,
            "object_position": null,
            "order": null,
            "overflow": null,
            "overflow_x": null,
            "overflow_y": null,
            "padding": null,
            "right": null,
            "top": null,
            "visibility": null,
            "width": null
          }
        },
        "d808017d67984c14953ffea703169c15": {
          "model_module": "@jupyter-widgets/base",
          "model_name": "LayoutModel",
          "model_module_version": "1.2.0",
          "state": {
            "_model_module": "@jupyter-widgets/base",
            "_model_module_version": "1.2.0",
            "_model_name": "LayoutModel",
            "_view_count": null,
            "_view_module": "@jupyter-widgets/base",
            "_view_module_version": "1.2.0",
            "_view_name": "LayoutView",
            "align_content": null,
            "align_items": null,
            "align_self": null,
            "border": null,
            "bottom": null,
            "display": null,
            "flex": null,
            "flex_flow": null,
            "grid_area": null,
            "grid_auto_columns": null,
            "grid_auto_flow": null,
            "grid_auto_rows": null,
            "grid_column": null,
            "grid_gap": null,
            "grid_row": null,
            "grid_template_areas": null,
            "grid_template_columns": null,
            "grid_template_rows": null,
            "height": null,
            "justify_content": null,
            "justify_items": null,
            "left": null,
            "margin": null,
            "max_height": null,
            "max_width": null,
            "min_height": null,
            "min_width": null,
            "object_fit": null,
            "object_position": null,
            "order": null,
            "overflow": null,
            "overflow_x": null,
            "overflow_y": null,
            "padding": null,
            "right": null,
            "top": null,
            "visibility": null,
            "width": null
          }
        },
        "2af10585901b4253906c6467c7a1e4b3": {
          "model_module": "@jupyter-widgets/controls",
          "model_name": "DescriptionStyleModel",
          "model_module_version": "1.5.0",
          "state": {
            "_model_module": "@jupyter-widgets/controls",
            "_model_module_version": "1.5.0",
            "_model_name": "DescriptionStyleModel",
            "_view_count": null,
            "_view_module": "@jupyter-widgets/base",
            "_view_module_version": "1.2.0",
            "_view_name": "StyleView",
            "description_width": ""
          }
        },
        "1b9813059e1d485eb7e6350c05dfed7a": {
          "model_module": "@jupyter-widgets/base",
          "model_name": "LayoutModel",
          "model_module_version": "1.2.0",
          "state": {
            "_model_module": "@jupyter-widgets/base",
            "_model_module_version": "1.2.0",
            "_model_name": "LayoutModel",
            "_view_count": null,
            "_view_module": "@jupyter-widgets/base",
            "_view_module_version": "1.2.0",
            "_view_name": "LayoutView",
            "align_content": null,
            "align_items": null,
            "align_self": null,
            "border": null,
            "bottom": null,
            "display": null,
            "flex": null,
            "flex_flow": null,
            "grid_area": null,
            "grid_auto_columns": null,
            "grid_auto_flow": null,
            "grid_auto_rows": null,
            "grid_column": null,
            "grid_gap": null,
            "grid_row": null,
            "grid_template_areas": null,
            "grid_template_columns": null,
            "grid_template_rows": null,
            "height": null,
            "justify_content": null,
            "justify_items": null,
            "left": null,
            "margin": null,
            "max_height": null,
            "max_width": null,
            "min_height": null,
            "min_width": null,
            "object_fit": null,
            "object_position": null,
            "order": null,
            "overflow": null,
            "overflow_x": null,
            "overflow_y": null,
            "padding": null,
            "right": null,
            "top": null,
            "visibility": null,
            "width": null
          }
        },
        "a0d79f8825d442248c6bbb7a28d0d5ed": {
          "model_module": "@jupyter-widgets/controls",
          "model_name": "ProgressStyleModel",
          "model_module_version": "1.5.0",
          "state": {
            "_model_module": "@jupyter-widgets/controls",
            "_model_module_version": "1.5.0",
            "_model_name": "ProgressStyleModel",
            "_view_count": null,
            "_view_module": "@jupyter-widgets/base",
            "_view_module_version": "1.2.0",
            "_view_name": "StyleView",
            "bar_color": null,
            "description_width": ""
          }
        },
        "cd94194f55734963bf73fa750f78ccfe": {
          "model_module": "@jupyter-widgets/base",
          "model_name": "LayoutModel",
          "model_module_version": "1.2.0",
          "state": {
            "_model_module": "@jupyter-widgets/base",
            "_model_module_version": "1.2.0",
            "_model_name": "LayoutModel",
            "_view_count": null,
            "_view_module": "@jupyter-widgets/base",
            "_view_module_version": "1.2.0",
            "_view_name": "LayoutView",
            "align_content": null,
            "align_items": null,
            "align_self": null,
            "border": null,
            "bottom": null,
            "display": null,
            "flex": null,
            "flex_flow": null,
            "grid_area": null,
            "grid_auto_columns": null,
            "grid_auto_flow": null,
            "grid_auto_rows": null,
            "grid_column": null,
            "grid_gap": null,
            "grid_row": null,
            "grid_template_areas": null,
            "grid_template_columns": null,
            "grid_template_rows": null,
            "height": null,
            "justify_content": null,
            "justify_items": null,
            "left": null,
            "margin": null,
            "max_height": null,
            "max_width": null,
            "min_height": null,
            "min_width": null,
            "object_fit": null,
            "object_position": null,
            "order": null,
            "overflow": null,
            "overflow_x": null,
            "overflow_y": null,
            "padding": null,
            "right": null,
            "top": null,
            "visibility": null,
            "width": null
          }
        },
        "34eb2cf1f25148bf892324c854590901": {
          "model_module": "@jupyter-widgets/controls",
          "model_name": "DescriptionStyleModel",
          "model_module_version": "1.5.0",
          "state": {
            "_model_module": "@jupyter-widgets/controls",
            "_model_module_version": "1.5.0",
            "_model_name": "DescriptionStyleModel",
            "_view_count": null,
            "_view_module": "@jupyter-widgets/base",
            "_view_module_version": "1.2.0",
            "_view_name": "StyleView",
            "description_width": ""
          }
        },
        "e9e00b25a8d6491288a26cf2c12017d1": {
          "model_module": "@jupyter-widgets/controls",
          "model_name": "HBoxModel",
          "model_module_version": "1.5.0",
          "state": {
            "_dom_classes": [],
            "_model_module": "@jupyter-widgets/controls",
            "_model_module_version": "1.5.0",
            "_model_name": "HBoxModel",
            "_view_count": null,
            "_view_module": "@jupyter-widgets/controls",
            "_view_module_version": "1.5.0",
            "_view_name": "HBoxView",
            "box_style": "",
            "children": [
              "IPY_MODEL_5a63b9cf97b34f4698b46f1fee507330",
              "IPY_MODEL_f2d122dc07764b65987ca3223891789e",
              "IPY_MODEL_1687a4e62d83499a9a2ab7afb8f71bdc"
            ],
            "layout": "IPY_MODEL_1e2cb86c48824e2bae003eb28690c136"
          }
        },
        "5a63b9cf97b34f4698b46f1fee507330": {
          "model_module": "@jupyter-widgets/controls",
          "model_name": "HTMLModel",
          "model_module_version": "1.5.0",
          "state": {
            "_dom_classes": [],
            "_model_module": "@jupyter-widgets/controls",
            "_model_module_version": "1.5.0",
            "_model_name": "HTMLModel",
            "_view_count": null,
            "_view_module": "@jupyter-widgets/controls",
            "_view_module_version": "1.5.0",
            "_view_name": "HTMLView",
            "description": "",
            "description_tooltip": null,
            "layout": "IPY_MODEL_87b1d15d56fd42428965bebeaf9d1a2c",
            "placeholder": "​",
            "style": "IPY_MODEL_0ca2ffb4451844a7a2f2f8fc520b27a3",
            "value": "Downloading: 100%"
          }
        },
        "f2d122dc07764b65987ca3223891789e": {
          "model_module": "@jupyter-widgets/controls",
          "model_name": "FloatProgressModel",
          "model_module_version": "1.5.0",
          "state": {
            "_dom_classes": [],
            "_model_module": "@jupyter-widgets/controls",
            "_model_module_version": "1.5.0",
            "_model_name": "FloatProgressModel",
            "_view_count": null,
            "_view_module": "@jupyter-widgets/controls",
            "_view_module_version": "1.5.0",
            "_view_name": "ProgressView",
            "bar_style": "success",
            "description": "",
            "description_tooltip": null,
            "layout": "IPY_MODEL_ddab5abf24c14d458a5e46e7e8853883",
            "max": 291,
            "min": 0,
            "orientation": "horizontal",
            "style": "IPY_MODEL_c871f2610cbe412a87d100e110514b75",
            "value": 291
          }
        },
        "1687a4e62d83499a9a2ab7afb8f71bdc": {
          "model_module": "@jupyter-widgets/controls",
          "model_name": "HTMLModel",
          "model_module_version": "1.5.0",
          "state": {
            "_dom_classes": [],
            "_model_module": "@jupyter-widgets/controls",
            "_model_module_version": "1.5.0",
            "_model_name": "HTMLModel",
            "_view_count": null,
            "_view_module": "@jupyter-widgets/controls",
            "_view_module_version": "1.5.0",
            "_view_name": "HTMLView",
            "description": "",
            "description_tooltip": null,
            "layout": "IPY_MODEL_dc1a7971474a4c13ad027514653c7a1f",
            "placeholder": "​",
            "style": "IPY_MODEL_ef76ca32c3064cfda0779851332b1d16",
            "value": " 291/291 [00:00&lt;00:00, 3.44kB/s]"
          }
        },
        "1e2cb86c48824e2bae003eb28690c136": {
          "model_module": "@jupyter-widgets/base",
          "model_name": "LayoutModel",
          "model_module_version": "1.2.0",
          "state": {
            "_model_module": "@jupyter-widgets/base",
            "_model_module_version": "1.2.0",
            "_model_name": "LayoutModel",
            "_view_count": null,
            "_view_module": "@jupyter-widgets/base",
            "_view_module_version": "1.2.0",
            "_view_name": "LayoutView",
            "align_content": null,
            "align_items": null,
            "align_self": null,
            "border": null,
            "bottom": null,
            "display": null,
            "flex": null,
            "flex_flow": null,
            "grid_area": null,
            "grid_auto_columns": null,
            "grid_auto_flow": null,
            "grid_auto_rows": null,
            "grid_column": null,
            "grid_gap": null,
            "grid_row": null,
            "grid_template_areas": null,
            "grid_template_columns": null,
            "grid_template_rows": null,
            "height": null,
            "justify_content": null,
            "justify_items": null,
            "left": null,
            "margin": null,
            "max_height": null,
            "max_width": null,
            "min_height": null,
            "min_width": null,
            "object_fit": null,
            "object_position": null,
            "order": null,
            "overflow": null,
            "overflow_x": null,
            "overflow_y": null,
            "padding": null,
            "right": null,
            "top": null,
            "visibility": null,
            "width": null
          }
        },
        "87b1d15d56fd42428965bebeaf9d1a2c": {
          "model_module": "@jupyter-widgets/base",
          "model_name": "LayoutModel",
          "model_module_version": "1.2.0",
          "state": {
            "_model_module": "@jupyter-widgets/base",
            "_model_module_version": "1.2.0",
            "_model_name": "LayoutModel",
            "_view_count": null,
            "_view_module": "@jupyter-widgets/base",
            "_view_module_version": "1.2.0",
            "_view_name": "LayoutView",
            "align_content": null,
            "align_items": null,
            "align_self": null,
            "border": null,
            "bottom": null,
            "display": null,
            "flex": null,
            "flex_flow": null,
            "grid_area": null,
            "grid_auto_columns": null,
            "grid_auto_flow": null,
            "grid_auto_rows": null,
            "grid_column": null,
            "grid_gap": null,
            "grid_row": null,
            "grid_template_areas": null,
            "grid_template_columns": null,
            "grid_template_rows": null,
            "height": null,
            "justify_content": null,
            "justify_items": null,
            "left": null,
            "margin": null,
            "max_height": null,
            "max_width": null,
            "min_height": null,
            "min_width": null,
            "object_fit": null,
            "object_position": null,
            "order": null,
            "overflow": null,
            "overflow_x": null,
            "overflow_y": null,
            "padding": null,
            "right": null,
            "top": null,
            "visibility": null,
            "width": null
          }
        },
        "0ca2ffb4451844a7a2f2f8fc520b27a3": {
          "model_module": "@jupyter-widgets/controls",
          "model_name": "DescriptionStyleModel",
          "model_module_version": "1.5.0",
          "state": {
            "_model_module": "@jupyter-widgets/controls",
            "_model_module_version": "1.5.0",
            "_model_name": "DescriptionStyleModel",
            "_view_count": null,
            "_view_module": "@jupyter-widgets/base",
            "_view_module_version": "1.2.0",
            "_view_name": "StyleView",
            "description_width": ""
          }
        },
        "ddab5abf24c14d458a5e46e7e8853883": {
          "model_module": "@jupyter-widgets/base",
          "model_name": "LayoutModel",
          "model_module_version": "1.2.0",
          "state": {
            "_model_module": "@jupyter-widgets/base",
            "_model_module_version": "1.2.0",
            "_model_name": "LayoutModel",
            "_view_count": null,
            "_view_module": "@jupyter-widgets/base",
            "_view_module_version": "1.2.0",
            "_view_name": "LayoutView",
            "align_content": null,
            "align_items": null,
            "align_self": null,
            "border": null,
            "bottom": null,
            "display": null,
            "flex": null,
            "flex_flow": null,
            "grid_area": null,
            "grid_auto_columns": null,
            "grid_auto_flow": null,
            "grid_auto_rows": null,
            "grid_column": null,
            "grid_gap": null,
            "grid_row": null,
            "grid_template_areas": null,
            "grid_template_columns": null,
            "grid_template_rows": null,
            "height": null,
            "justify_content": null,
            "justify_items": null,
            "left": null,
            "margin": null,
            "max_height": null,
            "max_width": null,
            "min_height": null,
            "min_width": null,
            "object_fit": null,
            "object_position": null,
            "order": null,
            "overflow": null,
            "overflow_x": null,
            "overflow_y": null,
            "padding": null,
            "right": null,
            "top": null,
            "visibility": null,
            "width": null
          }
        },
        "c871f2610cbe412a87d100e110514b75": {
          "model_module": "@jupyter-widgets/controls",
          "model_name": "ProgressStyleModel",
          "model_module_version": "1.5.0",
          "state": {
            "_model_module": "@jupyter-widgets/controls",
            "_model_module_version": "1.5.0",
            "_model_name": "ProgressStyleModel",
            "_view_count": null,
            "_view_module": "@jupyter-widgets/base",
            "_view_module_version": "1.2.0",
            "_view_name": "StyleView",
            "bar_color": null,
            "description_width": ""
          }
        },
        "dc1a7971474a4c13ad027514653c7a1f": {
          "model_module": "@jupyter-widgets/base",
          "model_name": "LayoutModel",
          "model_module_version": "1.2.0",
          "state": {
            "_model_module": "@jupyter-widgets/base",
            "_model_module_version": "1.2.0",
            "_model_name": "LayoutModel",
            "_view_count": null,
            "_view_module": "@jupyter-widgets/base",
            "_view_module_version": "1.2.0",
            "_view_name": "LayoutView",
            "align_content": null,
            "align_items": null,
            "align_self": null,
            "border": null,
            "bottom": null,
            "display": null,
            "flex": null,
            "flex_flow": null,
            "grid_area": null,
            "grid_auto_columns": null,
            "grid_auto_flow": null,
            "grid_auto_rows": null,
            "grid_column": null,
            "grid_gap": null,
            "grid_row": null,
            "grid_template_areas": null,
            "grid_template_columns": null,
            "grid_template_rows": null,
            "height": null,
            "justify_content": null,
            "justify_items": null,
            "left": null,
            "margin": null,
            "max_height": null,
            "max_width": null,
            "min_height": null,
            "min_width": null,
            "object_fit": null,
            "object_position": null,
            "order": null,
            "overflow": null,
            "overflow_x": null,
            "overflow_y": null,
            "padding": null,
            "right": null,
            "top": null,
            "visibility": null,
            "width": null
          }
        },
        "ef76ca32c3064cfda0779851332b1d16": {
          "model_module": "@jupyter-widgets/controls",
          "model_name": "DescriptionStyleModel",
          "model_module_version": "1.5.0",
          "state": {
            "_model_module": "@jupyter-widgets/controls",
            "_model_module_version": "1.5.0",
            "_model_name": "DescriptionStyleModel",
            "_view_count": null,
            "_view_module": "@jupyter-widgets/base",
            "_view_module_version": "1.2.0",
            "_view_name": "StyleView",
            "description_width": ""
          }
        },
        "a8e18fe542d34ae991793f8a00593d71": {
          "model_module": "@jupyter-widgets/controls",
          "model_name": "HBoxModel",
          "model_module_version": "1.5.0",
          "state": {
            "_dom_classes": [],
            "_model_module": "@jupyter-widgets/controls",
            "_model_module_version": "1.5.0",
            "_model_name": "HBoxModel",
            "_view_count": null,
            "_view_module": "@jupyter-widgets/controls",
            "_view_module_version": "1.5.0",
            "_view_name": "HBoxView",
            "box_style": "",
            "children": [
              "IPY_MODEL_33ed41a63a244057b1a3143bc374eea2",
              "IPY_MODEL_21aa53259f0a456dbb37f5af07b06ddf",
              "IPY_MODEL_19b5b81539574fdba053f1cb0db5e187"
            ],
            "layout": "IPY_MODEL_e8c556069b7e4b5492cccb68e0c64252"
          }
        },
        "33ed41a63a244057b1a3143bc374eea2": {
          "model_module": "@jupyter-widgets/controls",
          "model_name": "HTMLModel",
          "model_module_version": "1.5.0",
          "state": {
            "_dom_classes": [],
            "_model_module": "@jupyter-widgets/controls",
            "_model_module_version": "1.5.0",
            "_model_name": "HTMLModel",
            "_view_count": null,
            "_view_module": "@jupyter-widgets/controls",
            "_view_module_version": "1.5.0",
            "_view_name": "HTMLView",
            "description": "",
            "description_tooltip": null,
            "layout": "IPY_MODEL_680260787694441a8e50ce10fc11bc96",
            "placeholder": "​",
            "style": "IPY_MODEL_985e6a0daa194f25a2d7f14fb20c6f79",
            "value": "Downloading: 100%"
          }
        },
        "21aa53259f0a456dbb37f5af07b06ddf": {
          "model_module": "@jupyter-widgets/controls",
          "model_name": "FloatProgressModel",
          "model_module_version": "1.5.0",
          "state": {
            "_dom_classes": [],
            "_model_module": "@jupyter-widgets/controls",
            "_model_module_version": "1.5.0",
            "_model_name": "FloatProgressModel",
            "_view_count": null,
            "_view_module": "@jupyter-widgets/controls",
            "_view_module_version": "1.5.0",
            "_view_name": "ProgressView",
            "bar_style": "success",
            "description": "",
            "description_tooltip": null,
            "layout": "IPY_MODEL_4f6a165ef1ee4a2893e0514a4a344925",
            "max": 85,
            "min": 0,
            "orientation": "horizontal",
            "style": "IPY_MODEL_311798bd59064e209a49154858c0c601",
            "value": 85
          }
        },
        "19b5b81539574fdba053f1cb0db5e187": {
          "model_module": "@jupyter-widgets/controls",
          "model_name": "HTMLModel",
          "model_module_version": "1.5.0",
          "state": {
            "_dom_classes": [],
            "_model_module": "@jupyter-widgets/controls",
            "_model_module_version": "1.5.0",
            "_model_name": "HTMLModel",
            "_view_count": null,
            "_view_module": "@jupyter-widgets/controls",
            "_view_module_version": "1.5.0",
            "_view_name": "HTMLView",
            "description": "",
            "description_tooltip": null,
            "layout": "IPY_MODEL_af2f6c3198494c8db56191455df01b2f",
            "placeholder": "​",
            "style": "IPY_MODEL_60eb3f10a3d24ea6a6a4d0970f06ff34",
            "value": " 85.0/85.0 [00:00&lt;00:00, 1.21kB/s]"
          }
        },
        "e8c556069b7e4b5492cccb68e0c64252": {
          "model_module": "@jupyter-widgets/base",
          "model_name": "LayoutModel",
          "model_module_version": "1.2.0",
          "state": {
            "_model_module": "@jupyter-widgets/base",
            "_model_module_version": "1.2.0",
            "_model_name": "LayoutModel",
            "_view_count": null,
            "_view_module": "@jupyter-widgets/base",
            "_view_module_version": "1.2.0",
            "_view_name": "LayoutView",
            "align_content": null,
            "align_items": null,
            "align_self": null,
            "border": null,
            "bottom": null,
            "display": null,
            "flex": null,
            "flex_flow": null,
            "grid_area": null,
            "grid_auto_columns": null,
            "grid_auto_flow": null,
            "grid_auto_rows": null,
            "grid_column": null,
            "grid_gap": null,
            "grid_row": null,
            "grid_template_areas": null,
            "grid_template_columns": null,
            "grid_template_rows": null,
            "height": null,
            "justify_content": null,
            "justify_items": null,
            "left": null,
            "margin": null,
            "max_height": null,
            "max_width": null,
            "min_height": null,
            "min_width": null,
            "object_fit": null,
            "object_position": null,
            "order": null,
            "overflow": null,
            "overflow_x": null,
            "overflow_y": null,
            "padding": null,
            "right": null,
            "top": null,
            "visibility": null,
            "width": null
          }
        },
        "680260787694441a8e50ce10fc11bc96": {
          "model_module": "@jupyter-widgets/base",
          "model_name": "LayoutModel",
          "model_module_version": "1.2.0",
          "state": {
            "_model_module": "@jupyter-widgets/base",
            "_model_module_version": "1.2.0",
            "_model_name": "LayoutModel",
            "_view_count": null,
            "_view_module": "@jupyter-widgets/base",
            "_view_module_version": "1.2.0",
            "_view_name": "LayoutView",
            "align_content": null,
            "align_items": null,
            "align_self": null,
            "border": null,
            "bottom": null,
            "display": null,
            "flex": null,
            "flex_flow": null,
            "grid_area": null,
            "grid_auto_columns": null,
            "grid_auto_flow": null,
            "grid_auto_rows": null,
            "grid_column": null,
            "grid_gap": null,
            "grid_row": null,
            "grid_template_areas": null,
            "grid_template_columns": null,
            "grid_template_rows": null,
            "height": null,
            "justify_content": null,
            "justify_items": null,
            "left": null,
            "margin": null,
            "max_height": null,
            "max_width": null,
            "min_height": null,
            "min_width": null,
            "object_fit": null,
            "object_position": null,
            "order": null,
            "overflow": null,
            "overflow_x": null,
            "overflow_y": null,
            "padding": null,
            "right": null,
            "top": null,
            "visibility": null,
            "width": null
          }
        },
        "985e6a0daa194f25a2d7f14fb20c6f79": {
          "model_module": "@jupyter-widgets/controls",
          "model_name": "DescriptionStyleModel",
          "model_module_version": "1.5.0",
          "state": {
            "_model_module": "@jupyter-widgets/controls",
            "_model_module_version": "1.5.0",
            "_model_name": "DescriptionStyleModel",
            "_view_count": null,
            "_view_module": "@jupyter-widgets/base",
            "_view_module_version": "1.2.0",
            "_view_name": "StyleView",
            "description_width": ""
          }
        },
        "4f6a165ef1ee4a2893e0514a4a344925": {
          "model_module": "@jupyter-widgets/base",
          "model_name": "LayoutModel",
          "model_module_version": "1.2.0",
          "state": {
            "_model_module": "@jupyter-widgets/base",
            "_model_module_version": "1.2.0",
            "_model_name": "LayoutModel",
            "_view_count": null,
            "_view_module": "@jupyter-widgets/base",
            "_view_module_version": "1.2.0",
            "_view_name": "LayoutView",
            "align_content": null,
            "align_items": null,
            "align_self": null,
            "border": null,
            "bottom": null,
            "display": null,
            "flex": null,
            "flex_flow": null,
            "grid_area": null,
            "grid_auto_columns": null,
            "grid_auto_flow": null,
            "grid_auto_rows": null,
            "grid_column": null,
            "grid_gap": null,
            "grid_row": null,
            "grid_template_areas": null,
            "grid_template_columns": null,
            "grid_template_rows": null,
            "height": null,
            "justify_content": null,
            "justify_items": null,
            "left": null,
            "margin": null,
            "max_height": null,
            "max_width": null,
            "min_height": null,
            "min_width": null,
            "object_fit": null,
            "object_position": null,
            "order": null,
            "overflow": null,
            "overflow_x": null,
            "overflow_y": null,
            "padding": null,
            "right": null,
            "top": null,
            "visibility": null,
            "width": null
          }
        },
        "311798bd59064e209a49154858c0c601": {
          "model_module": "@jupyter-widgets/controls",
          "model_name": "ProgressStyleModel",
          "model_module_version": "1.5.0",
          "state": {
            "_model_module": "@jupyter-widgets/controls",
            "_model_module_version": "1.5.0",
            "_model_name": "ProgressStyleModel",
            "_view_count": null,
            "_view_module": "@jupyter-widgets/base",
            "_view_module_version": "1.2.0",
            "_view_name": "StyleView",
            "bar_color": null,
            "description_width": ""
          }
        },
        "af2f6c3198494c8db56191455df01b2f": {
          "model_module": "@jupyter-widgets/base",
          "model_name": "LayoutModel",
          "model_module_version": "1.2.0",
          "state": {
            "_model_module": "@jupyter-widgets/base",
            "_model_module_version": "1.2.0",
            "_model_name": "LayoutModel",
            "_view_count": null,
            "_view_module": "@jupyter-widgets/base",
            "_view_module_version": "1.2.0",
            "_view_name": "LayoutView",
            "align_content": null,
            "align_items": null,
            "align_self": null,
            "border": null,
            "bottom": null,
            "display": null,
            "flex": null,
            "flex_flow": null,
            "grid_area": null,
            "grid_auto_columns": null,
            "grid_auto_flow": null,
            "grid_auto_rows": null,
            "grid_column": null,
            "grid_gap": null,
            "grid_row": null,
            "grid_template_areas": null,
            "grid_template_columns": null,
            "grid_template_rows": null,
            "height": null,
            "justify_content": null,
            "justify_items": null,
            "left": null,
            "margin": null,
            "max_height": null,
            "max_width": null,
            "min_height": null,
            "min_width": null,
            "object_fit": null,
            "object_position": null,
            "order": null,
            "overflow": null,
            "overflow_x": null,
            "overflow_y": null,
            "padding": null,
            "right": null,
            "top": null,
            "visibility": null,
            "width": null
          }
        },
        "60eb3f10a3d24ea6a6a4d0970f06ff34": {
          "model_module": "@jupyter-widgets/controls",
          "model_name": "DescriptionStyleModel",
          "model_module_version": "1.5.0",
          "state": {
            "_model_module": "@jupyter-widgets/controls",
            "_model_module_version": "1.5.0",
            "_model_name": "DescriptionStyleModel",
            "_view_count": null,
            "_view_module": "@jupyter-widgets/base",
            "_view_module_version": "1.2.0",
            "_view_name": "StyleView",
            "description_width": ""
          }
        },
        "409f84a5f1d0417897d2627cbc06060e": {
          "model_module": "@jupyter-widgets/controls",
          "model_name": "HBoxModel",
          "model_module_version": "1.5.0",
          "state": {
            "_dom_classes": [],
            "_model_module": "@jupyter-widgets/controls",
            "_model_module_version": "1.5.0",
            "_model_name": "HBoxModel",
            "_view_count": null,
            "_view_module": "@jupyter-widgets/controls",
            "_view_module_version": "1.5.0",
            "_view_name": "HBoxView",
            "box_style": "",
            "children": [
              "IPY_MODEL_fb8bc1242c554182a98829d2139e0653",
              "IPY_MODEL_036f7ae0e9f3446182a1d07539e8a117",
              "IPY_MODEL_eb4a134bbfec468e8f88aae7a174ea6f"
            ],
            "layout": "IPY_MODEL_bf5d29cba5034e4481c937329d092bb8"
          }
        },
        "fb8bc1242c554182a98829d2139e0653": {
          "model_module": "@jupyter-widgets/controls",
          "model_name": "HTMLModel",
          "model_module_version": "1.5.0",
          "state": {
            "_dom_classes": [],
            "_model_module": "@jupyter-widgets/controls",
            "_model_module_version": "1.5.0",
            "_model_name": "HTMLModel",
            "_view_count": null,
            "_view_module": "@jupyter-widgets/controls",
            "_view_module_version": "1.5.0",
            "_view_name": "HTMLView",
            "description": "",
            "description_tooltip": null,
            "layout": "IPY_MODEL_112f37f93a9c4540903f8c138ee568a4",
            "placeholder": "​",
            "style": "IPY_MODEL_a000770a8b9047ed9999d203366587dc",
            "value": "Downloading: 100%"
          }
        },
        "036f7ae0e9f3446182a1d07539e8a117": {
          "model_module": "@jupyter-widgets/controls",
          "model_name": "FloatProgressModel",
          "model_module_version": "1.5.0",
          "state": {
            "_dom_classes": [],
            "_model_module": "@jupyter-widgets/controls",
            "_model_module_version": "1.5.0",
            "_model_name": "FloatProgressModel",
            "_view_count": null,
            "_view_module": "@jupyter-widgets/controls",
            "_view_module_version": "1.5.0",
            "_view_name": "ProgressView",
            "bar_style": "success",
            "description": "",
            "description_tooltip": null,
            "layout": "IPY_MODEL_c2e034c775624ba4820efff77e23da5c",
            "max": 1262057559,
            "min": 0,
            "orientation": "horizontal",
            "style": "IPY_MODEL_1131968099c4438bbf7d9075e5178a00",
            "value": 1262057559
          }
        },
        "eb4a134bbfec468e8f88aae7a174ea6f": {
          "model_module": "@jupyter-widgets/controls",
          "model_name": "HTMLModel",
          "model_module_version": "1.5.0",
          "state": {
            "_dom_classes": [],
            "_model_module": "@jupyter-widgets/controls",
            "_model_module_version": "1.5.0",
            "_model_name": "HTMLModel",
            "_view_count": null,
            "_view_module": "@jupyter-widgets/controls",
            "_view_module_version": "1.5.0",
            "_view_name": "HTMLView",
            "description": "",
            "description_tooltip": null,
            "layout": "IPY_MODEL_821dbdf08431430bae0efee29587aa7f",
            "placeholder": "​",
            "style": "IPY_MODEL_b70ef96c02824836aba179737258d300",
            "value": " 1.26G/1.26G [00:28&lt;00:00, 55.5MB/s]"
          }
        },
        "bf5d29cba5034e4481c937329d092bb8": {
          "model_module": "@jupyter-widgets/base",
          "model_name": "LayoutModel",
          "model_module_version": "1.2.0",
          "state": {
            "_model_module": "@jupyter-widgets/base",
            "_model_module_version": "1.2.0",
            "_model_name": "LayoutModel",
            "_view_count": null,
            "_view_module": "@jupyter-widgets/base",
            "_view_module_version": "1.2.0",
            "_view_name": "LayoutView",
            "align_content": null,
            "align_items": null,
            "align_self": null,
            "border": null,
            "bottom": null,
            "display": null,
            "flex": null,
            "flex_flow": null,
            "grid_area": null,
            "grid_auto_columns": null,
            "grid_auto_flow": null,
            "grid_auto_rows": null,
            "grid_column": null,
            "grid_gap": null,
            "grid_row": null,
            "grid_template_areas": null,
            "grid_template_columns": null,
            "grid_template_rows": null,
            "height": null,
            "justify_content": null,
            "justify_items": null,
            "left": null,
            "margin": null,
            "max_height": null,
            "max_width": null,
            "min_height": null,
            "min_width": null,
            "object_fit": null,
            "object_position": null,
            "order": null,
            "overflow": null,
            "overflow_x": null,
            "overflow_y": null,
            "padding": null,
            "right": null,
            "top": null,
            "visibility": null,
            "width": null
          }
        },
        "112f37f93a9c4540903f8c138ee568a4": {
          "model_module": "@jupyter-widgets/base",
          "model_name": "LayoutModel",
          "model_module_version": "1.2.0",
          "state": {
            "_model_module": "@jupyter-widgets/base",
            "_model_module_version": "1.2.0",
            "_model_name": "LayoutModel",
            "_view_count": null,
            "_view_module": "@jupyter-widgets/base",
            "_view_module_version": "1.2.0",
            "_view_name": "LayoutView",
            "align_content": null,
            "align_items": null,
            "align_self": null,
            "border": null,
            "bottom": null,
            "display": null,
            "flex": null,
            "flex_flow": null,
            "grid_area": null,
            "grid_auto_columns": null,
            "grid_auto_flow": null,
            "grid_auto_rows": null,
            "grid_column": null,
            "grid_gap": null,
            "grid_row": null,
            "grid_template_areas": null,
            "grid_template_columns": null,
            "grid_template_rows": null,
            "height": null,
            "justify_content": null,
            "justify_items": null,
            "left": null,
            "margin": null,
            "max_height": null,
            "max_width": null,
            "min_height": null,
            "min_width": null,
            "object_fit": null,
            "object_position": null,
            "order": null,
            "overflow": null,
            "overflow_x": null,
            "overflow_y": null,
            "padding": null,
            "right": null,
            "top": null,
            "visibility": null,
            "width": null
          }
        },
        "a000770a8b9047ed9999d203366587dc": {
          "model_module": "@jupyter-widgets/controls",
          "model_name": "DescriptionStyleModel",
          "model_module_version": "1.5.0",
          "state": {
            "_model_module": "@jupyter-widgets/controls",
            "_model_module_version": "1.5.0",
            "_model_name": "DescriptionStyleModel",
            "_view_count": null,
            "_view_module": "@jupyter-widgets/base",
            "_view_module_version": "1.2.0",
            "_view_name": "StyleView",
            "description_width": ""
          }
        },
        "c2e034c775624ba4820efff77e23da5c": {
          "model_module": "@jupyter-widgets/base",
          "model_name": "LayoutModel",
          "model_module_version": "1.2.0",
          "state": {
            "_model_module": "@jupyter-widgets/base",
            "_model_module_version": "1.2.0",
            "_model_name": "LayoutModel",
            "_view_count": null,
            "_view_module": "@jupyter-widgets/base",
            "_view_module_version": "1.2.0",
            "_view_name": "LayoutView",
            "align_content": null,
            "align_items": null,
            "align_self": null,
            "border": null,
            "bottom": null,
            "display": null,
            "flex": null,
            "flex_flow": null,
            "grid_area": null,
            "grid_auto_columns": null,
            "grid_auto_flow": null,
            "grid_auto_rows": null,
            "grid_column": null,
            "grid_gap": null,
            "grid_row": null,
            "grid_template_areas": null,
            "grid_template_columns": null,
            "grid_template_rows": null,
            "height": null,
            "justify_content": null,
            "justify_items": null,
            "left": null,
            "margin": null,
            "max_height": null,
            "max_width": null,
            "min_height": null,
            "min_width": null,
            "object_fit": null,
            "object_position": null,
            "order": null,
            "overflow": null,
            "overflow_x": null,
            "overflow_y": null,
            "padding": null,
            "right": null,
            "top": null,
            "visibility": null,
            "width": null
          }
        },
        "1131968099c4438bbf7d9075e5178a00": {
          "model_module": "@jupyter-widgets/controls",
          "model_name": "ProgressStyleModel",
          "model_module_version": "1.5.0",
          "state": {
            "_model_module": "@jupyter-widgets/controls",
            "_model_module_version": "1.5.0",
            "_model_name": "ProgressStyleModel",
            "_view_count": null,
            "_view_module": "@jupyter-widgets/base",
            "_view_module_version": "1.2.0",
            "_view_name": "StyleView",
            "bar_color": null,
            "description_width": ""
          }
        },
        "821dbdf08431430bae0efee29587aa7f": {
          "model_module": "@jupyter-widgets/base",
          "model_name": "LayoutModel",
          "model_module_version": "1.2.0",
          "state": {
            "_model_module": "@jupyter-widgets/base",
            "_model_module_version": "1.2.0",
            "_model_name": "LayoutModel",
            "_view_count": null,
            "_view_module": "@jupyter-widgets/base",
            "_view_module_version": "1.2.0",
            "_view_name": "LayoutView",
            "align_content": null,
            "align_items": null,
            "align_self": null,
            "border": null,
            "bottom": null,
            "display": null,
            "flex": null,
            "flex_flow": null,
            "grid_area": null,
            "grid_auto_columns": null,
            "grid_auto_flow": null,
            "grid_auto_rows": null,
            "grid_column": null,
            "grid_gap": null,
            "grid_row": null,
            "grid_template_areas": null,
            "grid_template_columns": null,
            "grid_template_rows": null,
            "height": null,
            "justify_content": null,
            "justify_items": null,
            "left": null,
            "margin": null,
            "max_height": null,
            "max_width": null,
            "min_height": null,
            "min_width": null,
            "object_fit": null,
            "object_position": null,
            "order": null,
            "overflow": null,
            "overflow_x": null,
            "overflow_y": null,
            "padding": null,
            "right": null,
            "top": null,
            "visibility": null,
            "width": null
          }
        },
        "b70ef96c02824836aba179737258d300": {
          "model_module": "@jupyter-widgets/controls",
          "model_name": "DescriptionStyleModel",
          "model_module_version": "1.5.0",
          "state": {
            "_model_module": "@jupyter-widgets/controls",
            "_model_module_version": "1.5.0",
            "_model_name": "DescriptionStyleModel",
            "_view_count": null,
            "_view_module": "@jupyter-widgets/base",
            "_view_module_version": "1.2.0",
            "_view_name": "StyleView",
            "description_width": ""
          }
        }
      }
    }
  },
  "nbformat": 4,
  "nbformat_minor": 0
}